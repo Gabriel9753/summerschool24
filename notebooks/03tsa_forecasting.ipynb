{
 "cells": [
  {
   "cell_type": "markdown",
   "metadata": {},
   "source": [
    "# Prognosemodelle\n",
    "\n",
    "Nachdem Du im vorherigen Schritt die explorative Phase des Datensets abgeschlossen hast, sollst du nun für einige der Produkte ein Prognosemodell entwickeln. Schneide dazu bitte zuerst die letzten 30 Tage der Daten ab und behalte sie als Testdaten (Auf Basis dieser Daten bewertest du dein endgültiges Modell)\n",
    "\n",
    "Gehe bei der Entwicklung iterativ vor. Das bedeutet:\n",
    "- Steigende Modellkomplexitäten\n",
    "- Übertragen der Erkenntnisse aus der explorativen Phase mit in die Modelle\n",
    "- Ggf hinzuziehen von wichtigen Daten wie \"Holidays\"\n",
    "- Track deine Kennzahlen in geeignetem Maße (Nicht löschen reicht schon aus)\n",
    "\n",
    "Hast du Daten im vorherigen Schritt bereinigt, so baue auf diesen Bereinigungen auf.\n",
    "Welche Modelle du für diese Aufgabe verwendest, steht dir frei. Ein paar Tipps:\n",
    "- das `Darts` Package bietet eine vielzahl von Algorithmen. Dabei musst du dein Datenset nicht jedes mal in eine neue Form bringen und kannst auf altbewährte Methoden zurückgreifen.\n",
    "- Entscheidest du dich für `Prophet`, so bietet sich ein Blick in die offizielle Dokumentation an. Dort wird exakt erläutert, wie externe Einflüsse wie Holidays modelliert werden können. \n",
    "**Achtung**: Die Interfaces von `darts.models.Prophet` und `prophet.Prophet` unterscheiden sich."
   ]
  },
  {
   "cell_type": "code",
   "execution_count": 1,
   "metadata": {},
   "outputs": [],
   "source": [
    "# Your Code here\n",
    "import os\n",
    "import warnings\n",
    "from datetime import datetime\n",
    "\n",
    "import numpy as np\n",
    "import pandas as pd\n",
    "import plotly.express as px\n",
    "import plotly.graph_objects as go\n",
    "from IPython.display import Latex, Markdown, display\n",
    "\n",
    "warnings.filterwarnings(\"ignore\")\n",
    "\n",
    "data_path = \"../data/tsa02/store-sales\"\n",
    "\n",
    "train_df = pd.read_csv(os.path.join(data_path, \"train.csv\"))\n",
    "test_df = pd.read_csv(os.path.join(data_path, \"test.csv\"))\n",
    "holiday_df = pd.read_csv(os.path.join(data_path, \"holidays_events.csv\"))\n",
    "oil_df = pd.read_csv(os.path.join(data_path, \"oil.csv\"))\n",
    "stores_df = pd.read_csv(os.path.join(data_path, \"stores.csv\"))"
   ]
  },
  {
   "cell_type": "code",
   "execution_count": 2,
   "metadata": {},
   "outputs": [],
   "source": [
    "def load_data(data_path):\n",
    "    train_df = pd.read_csv(os.path.join(data_path, \"train.csv\"))\n",
    "    train_df[\"date\"] = pd.to_datetime(train_df[\"date\"])\n",
    "    test_df = pd.read_csv(os.path.join(data_path, \"test.csv\"))\n",
    "    test_df[\"date\"] = pd.to_datetime(test_df[\"date\"])\n",
    "    holiday_df = pd.read_csv(os.path.join(data_path, \"holidays_events.csv\"))\n",
    "    holiday_df[\"date\"] = pd.to_datetime(holiday_df[\"date\"])\n",
    "    oil_df = pd.read_csv(os.path.join(data_path, \"oil.csv\"))\n",
    "    oil_df[\"date\"] = pd.to_datetime(oil_df[\"date\"])\n",
    "    stores_df = pd.read_csv(os.path.join(data_path, \"stores.csv\"))\n",
    "    return train_df, test_df, holiday_df, oil_df, stores_df\n",
    "\n",
    "\n",
    "def clean_data(df, z_threshold=3):\n",
    "    df_clean = df.copy()\n",
    "    # remove duplicates\n",
    "    df_clean = df_clean.drop_duplicates()\n",
    "    # calculate z-score on (store_nbr + family) - date level\n",
    "    df_clean[\"z_score\"] = df_clean.groupby([\"store_nbr\", \"family\"])[\"sales\"].transform(\n",
    "        lambda x: (x - x.mean()) / x.std()\n",
    "    )\n",
    "    df_clean[\"z_score\"] = df_clean[\"z_score\"].fillna(0)\n",
    "\n",
    "    # fill with median\n",
    "    df_clean[\"sales\"] = np.where(\n",
    "        df_clean[\"z_score\"].abs() > z_threshold,\n",
    "        df_clean.groupby([\"store_nbr\", \"family\"])[\"sales\"].transform(\"median\"),\n",
    "        df_clean[\"sales\"],\n",
    "    )\n",
    "\n",
    "    # remove z_score column\n",
    "    df_clean = df_clean.drop(columns=[\"z_score\"])\n",
    "\n",
    "    # reset index\n",
    "    df_clean = df_clean.reset_index(drop=True)\n",
    "\n",
    "    print(f\"Before cleaning: {df.shape}\")\n",
    "    print(f\"After cleaning: {df_clean.shape}\")\n",
    "\n",
    "    return df_clean\n",
    "\n",
    "\n",
    "def get_top_families(df, n=5):\n",
    "    family_sales_df = df.groupby(\"family\")[\"sales\"].sum().reset_index()\n",
    "    family_sales_df = family_sales_df.sort_values(by=\"sales\", ascending=False)\n",
    "    top_families = family_sales_df[\"family\"].head(n).tolist()\n",
    "    return top_families\n",
    "\n",
    "\n",
    "def get_top_stores(df, n=5):\n",
    "    store_sales_df = df.groupby(\"store_nbr\")[\"sales\"].sum().reset_index()\n",
    "    store_sales_df = store_sales_df.sort_values(by=\"sales\", ascending=False)\n",
    "    top_stores = store_sales_df[\"store_nbr\"].head(n).tolist()\n",
    "    return top_stores\n",
    "\n",
    "\n",
    "def get_store_sales(df):\n",
    "    store_sales_df = df.groupby([\"store_nbr\", \"date\"])[\"sales\"].sum().reset_index()\n",
    "    store_sales_df = store_sales_df.sort_values(by=\"date\")\n",
    "    return store_sales_df\n",
    "\n",
    "\n",
    "def get_family_sales(df):\n",
    "    family_sales_df = df.groupby([\"family\", \"date\"])[\"sales\"].sum().reset_index()\n",
    "    family_sales_df = family_sales_df.sort_values(by=\"date\")\n",
    "    return family_sales_df\n",
    "\n",
    "\n",
    "def plot_sales_per_family(df):\n",
    "    family_sales_df = df.groupby(\"family\")[\"sales\"].sum().reset_index()\n",
    "    family_sales_df = family_sales_df.sort_values(by=\"sales\", ascending=False)\n",
    "    fig = px.bar(\n",
    "        family_sales_df, x=\"family\", y=\"sales\", title=\"Sales per Family\", log_y=True\n",
    "    )\n",
    "    return fig\n",
    "\n",
    "\n",
    "def plot_sales_per_store(df):\n",
    "    store_sales_df = df.groupby(\"store_nbr\")[\"sales\"].sum().reset_index()\n",
    "    store_sales_df = store_sales_df.sort_values(by=\"sales\", ascending=False)\n",
    "    store_sales_df[\"store_nbr\"] = store_sales_df[\"store_nbr\"].astype(str)\n",
    "    fig = px.bar(store_sales_df, x=\"store_nbr\", y=\"sales\", title=\"Sales per Store\")\n",
    "    return fig\n",
    "\n",
    "\n",
    "def plot_sales_per_family_over_time(df, top_families):\n",
    "    top_families_df = df[df[\"family\"].isin(top_families)]\n",
    "    top_families_sales_df = (\n",
    "        top_families_df.groupby([\"family\", \"date\"])[\"sales\"].sum().reset_index()\n",
    "    )\n",
    "    fig = px.line(\n",
    "        top_families_sales_df,\n",
    "        x=\"date\",\n",
    "        y=\"sales\",\n",
    "        color=\"family\",\n",
    "        title=\"Top Families Sales\",\n",
    "    )\n",
    "    return fig\n",
    "\n",
    "\n",
    "def plot_sales_per_family_over_time_with_holidays(df, top_families, holiday_df):\n",
    "    top_families_df = df[df[\"family\"].isin(top_families)]\n",
    "    top_families_sales_df = (\n",
    "        top_families_df.groupby([\"family\", \"date\"])[\"sales\"].sum().reset_index()\n",
    "    )\n",
    "    top_families_sales_df = top_families_sales_df.merge(\n",
    "        holiday_df, on=\"date\", how=\"left\"\n",
    "    )\n",
    "    top_families_sales_df[\"is_holiday\"] = top_families_sales_df[\"type\"] == \"Holiday\"\n",
    "    fig = px.line(\n",
    "        top_families_sales_df,\n",
    "        x=\"date\",\n",
    "        y=\"sales\",\n",
    "        color=\"family\",\n",
    "        title=\"Top Families Sales\",\n",
    "    )\n",
    "    fig.add_scatter(\n",
    "        x=top_families_sales_df[top_families_sales_df[\"is_holiday\"]][\"date\"],\n",
    "        y=top_families_sales_df[top_families_sales_df[\"is_holiday\"]][\"sales\"],\n",
    "        mode=\"markers\",\n",
    "        marker=dict(color=\"red\", size=8),\n",
    "        name=\"Holiday\",\n",
    "    )\n",
    "    return fig\n",
    "\n",
    "\n",
    "def plot_sales_per_store_over_time(df, store_nbr):\n",
    "    store_family_df = (\n",
    "        df[(df[\"store_nbr\"] == store_nbr)].groupby(\"date\")[\"sales\"].sum().reset_index()\n",
    "    )\n",
    "    store_family_df = store_family_df.sort_values(by=\"date\")\n",
    "    store_family_df[\"date\"] = pd.to_datetime(store_family_df[\"date\"])\n",
    "    fig = px.line(\n",
    "        store_family_df, x=\"date\", y=\"sales\", title=f\"Store {store_nbr} Sales\"\n",
    "    )\n",
    "    return fig\n",
    "\n",
    "\n",
    "def plot_family_sales_for_store(df, store_nbr):\n",
    "    store_family_df = df[(df[\"store_nbr\"] == store_nbr)]\n",
    "    fig = px.line(\n",
    "        store_family_df,\n",
    "        x=\"date\",\n",
    "        y=\"sales\",\n",
    "        color=\"family\",\n",
    "        title=f\"Store {store_nbr} Family Sales\",\n",
    "    )\n",
    "    return fig\n",
    "\n",
    "\n",
    "def slice_df_by_date(df, start_date, end_date):\n",
    "    return df[(df[\"date\"] >= start_date) & (df[\"date\"] <= end_date)]\n",
    "\n",
    "def decompose_time_series(df, period):\n",
    "    from statsmodels.tsa.seasonal import seasonal_decompose\n",
    "\n",
    "    result = seasonal_decompose(df[\"sales\"], model=\"additive\", period=period)\n",
    "    return result\n",
    "\n",
    "def check_stationarity(df):\n",
    "    # check with adfuller, histogram\n",
    "    from statsmodels.tsa.stattools import adfuller\n",
    "\n",
    "    result = adfuller(df[\"sales\"])\n",
    "    mean = df[\"sales\"].mean()\n",
    "    std = df[\"sales\"].std()\n",
    "    fig = px.histogram(df, x=\"sales\", title=\"Sales Histogram\")\n",
    "    return result, fig\n",
    "\n",
    "\n",
    "def print_adfuller_result(result):\n",
    "    print(f\"ADF Statistic: {result[0]}\")\n",
    "    print(f\"p-value: {result[1]}\")\n",
    "    print(\"Critical Values:\")\n",
    "    for key, value in result[4].items():\n",
    "        print(f\"\\t{key}: {value}\")"
   ]
  },
  {
   "cell_type": "code",
   "execution_count": 3,
   "metadata": {},
   "outputs": [
    {
     "name": "stdout",
     "output_type": "stream",
     "text": [
      "Before cleaning: (3000888, 6)\n",
      "After cleaning: (3000888, 6)\n"
     ]
    },
    {
     "data": {
      "text/markdown": [
       "### Top 3 Families"
      ],
      "text/plain": [
       "<IPython.core.display.Markdown object>"
      ]
     },
     "metadata": {},
     "output_type": "display_data"
    },
    {
     "name": "stdout",
     "output_type": "stream",
     "text": [
      "['GROCERY I', 'BEVERAGES', 'PRODUCE']\n"
     ]
    },
    {
     "data": {
      "text/markdown": [
       "### Top 3 Stores"
      ],
      "text/plain": [
       "<IPython.core.display.Markdown object>"
      ]
     },
     "metadata": {},
     "output_type": "display_data"
    },
    {
     "name": "stdout",
     "output_type": "stream",
     "text": [
      "[44, 45, 47]\n"
     ]
    },
    {
     "data": {
      "text/markdown": [
       "### Plots for Sales per Family and Store (after cleaning)"
      ],
      "text/plain": [
       "<IPython.core.display.Markdown object>"
      ]
     },
     "metadata": {},
     "output_type": "display_data"
    },
    {
     "data": {
      "application/vnd.plotly.v1+json": {
       "config": {
        "plotlyServerURL": "https://plot.ly"
       },
       "data": [
        {
         "alignmentgroup": "True",
         "hovertemplate": "family=%{x}<br>sales=%{y}<extra></extra>",
         "legendgroup": "",
         "marker": {
          "color": "#636efa",
          "pattern": {
           "shape": ""
          }
         },
         "name": "",
         "offsetgroup": "",
         "orientation": "v",
         "showlegend": false,
         "textposition": "auto",
         "type": "bar",
         "x": [
          "GROCERY I",
          "BEVERAGES",
          "PRODUCE",
          "CLEANING",
          "DAIRY",
          "BREAD/BAKERY",
          "POULTRY",
          "MEATS",
          "PERSONAL CARE",
          "DELI",
          "HOME CARE",
          "EGGS",
          "FROZEN FOODS",
          "PREPARED FOODS",
          "LIQUOR,WINE,BEER",
          "SEAFOOD",
          "GROCERY II",
          "HOME AND KITCHEN I",
          "HOME AND KITCHEN II",
          "CELEBRATION",
          "LINGERIE",
          "LADIESWEAR",
          "AUTOMOTIVE",
          "PLAYERS AND ELECTRONICS",
          "LAWN AND GARDEN",
          "PET SUPPLIES",
          "BEAUTY",
          "MAGAZINES",
          "SCHOOL AND OFFICE SUPPLIES",
          "HARDWARE",
          "HOME APPLIANCES",
          "BABY CARE",
          "BOOKS"
         ],
         "xaxis": "x",
         "y": [
          338093893.3535,
          213302630,
          121793254.749335,
          96306459.5,
          63931055,
          41782895.795619,
          31377710.8791945,
          30534854.9058019,
          24064381.5,
          23896580.344307,
          15834214,
          15210375.5,
          11727365.0205645,
          8736073.2932455,
          7072845,
          1993909.2938166,
          1865689,
          1694488,
          1358440.5,
          710640,
          615040,
          610399.5,
          535906,
          532304,
          504448,
          340662,
          321805,
          243686,
          143593,
          94130,
          36279,
          5388,
          2672
         ],
         "yaxis": "y"
        }
       ],
       "layout": {
        "barmode": "relative",
        "legend": {
         "tracegroupgap": 0
        },
        "template": {
         "data": {
          "bar": [
           {
            "error_x": {
             "color": "#2a3f5f"
            },
            "error_y": {
             "color": "#2a3f5f"
            },
            "marker": {
             "line": {
              "color": "#E5ECF6",
              "width": 0.5
             },
             "pattern": {
              "fillmode": "overlay",
              "size": 10,
              "solidity": 0.2
             }
            },
            "type": "bar"
           }
          ],
          "barpolar": [
           {
            "marker": {
             "line": {
              "color": "#E5ECF6",
              "width": 0.5
             },
             "pattern": {
              "fillmode": "overlay",
              "size": 10,
              "solidity": 0.2
             }
            },
            "type": "barpolar"
           }
          ],
          "carpet": [
           {
            "aaxis": {
             "endlinecolor": "#2a3f5f",
             "gridcolor": "white",
             "linecolor": "white",
             "minorgridcolor": "white",
             "startlinecolor": "#2a3f5f"
            },
            "baxis": {
             "endlinecolor": "#2a3f5f",
             "gridcolor": "white",
             "linecolor": "white",
             "minorgridcolor": "white",
             "startlinecolor": "#2a3f5f"
            },
            "type": "carpet"
           }
          ],
          "choropleth": [
           {
            "colorbar": {
             "outlinewidth": 0,
             "ticks": ""
            },
            "type": "choropleth"
           }
          ],
          "contour": [
           {
            "colorbar": {
             "outlinewidth": 0,
             "ticks": ""
            },
            "colorscale": [
             [
              0,
              "#0d0887"
             ],
             [
              0.1111111111111111,
              "#46039f"
             ],
             [
              0.2222222222222222,
              "#7201a8"
             ],
             [
              0.3333333333333333,
              "#9c179e"
             ],
             [
              0.4444444444444444,
              "#bd3786"
             ],
             [
              0.5555555555555556,
              "#d8576b"
             ],
             [
              0.6666666666666666,
              "#ed7953"
             ],
             [
              0.7777777777777778,
              "#fb9f3a"
             ],
             [
              0.8888888888888888,
              "#fdca26"
             ],
             [
              1,
              "#f0f921"
             ]
            ],
            "type": "contour"
           }
          ],
          "contourcarpet": [
           {
            "colorbar": {
             "outlinewidth": 0,
             "ticks": ""
            },
            "type": "contourcarpet"
           }
          ],
          "heatmap": [
           {
            "colorbar": {
             "outlinewidth": 0,
             "ticks": ""
            },
            "colorscale": [
             [
              0,
              "#0d0887"
             ],
             [
              0.1111111111111111,
              "#46039f"
             ],
             [
              0.2222222222222222,
              "#7201a8"
             ],
             [
              0.3333333333333333,
              "#9c179e"
             ],
             [
              0.4444444444444444,
              "#bd3786"
             ],
             [
              0.5555555555555556,
              "#d8576b"
             ],
             [
              0.6666666666666666,
              "#ed7953"
             ],
             [
              0.7777777777777778,
              "#fb9f3a"
             ],
             [
              0.8888888888888888,
              "#fdca26"
             ],
             [
              1,
              "#f0f921"
             ]
            ],
            "type": "heatmap"
           }
          ],
          "heatmapgl": [
           {
            "colorbar": {
             "outlinewidth": 0,
             "ticks": ""
            },
            "colorscale": [
             [
              0,
              "#0d0887"
             ],
             [
              0.1111111111111111,
              "#46039f"
             ],
             [
              0.2222222222222222,
              "#7201a8"
             ],
             [
              0.3333333333333333,
              "#9c179e"
             ],
             [
              0.4444444444444444,
              "#bd3786"
             ],
             [
              0.5555555555555556,
              "#d8576b"
             ],
             [
              0.6666666666666666,
              "#ed7953"
             ],
             [
              0.7777777777777778,
              "#fb9f3a"
             ],
             [
              0.8888888888888888,
              "#fdca26"
             ],
             [
              1,
              "#f0f921"
             ]
            ],
            "type": "heatmapgl"
           }
          ],
          "histogram": [
           {
            "marker": {
             "pattern": {
              "fillmode": "overlay",
              "size": 10,
              "solidity": 0.2
             }
            },
            "type": "histogram"
           }
          ],
          "histogram2d": [
           {
            "colorbar": {
             "outlinewidth": 0,
             "ticks": ""
            },
            "colorscale": [
             [
              0,
              "#0d0887"
             ],
             [
              0.1111111111111111,
              "#46039f"
             ],
             [
              0.2222222222222222,
              "#7201a8"
             ],
             [
              0.3333333333333333,
              "#9c179e"
             ],
             [
              0.4444444444444444,
              "#bd3786"
             ],
             [
              0.5555555555555556,
              "#d8576b"
             ],
             [
              0.6666666666666666,
              "#ed7953"
             ],
             [
              0.7777777777777778,
              "#fb9f3a"
             ],
             [
              0.8888888888888888,
              "#fdca26"
             ],
             [
              1,
              "#f0f921"
             ]
            ],
            "type": "histogram2d"
           }
          ],
          "histogram2dcontour": [
           {
            "colorbar": {
             "outlinewidth": 0,
             "ticks": ""
            },
            "colorscale": [
             [
              0,
              "#0d0887"
             ],
             [
              0.1111111111111111,
              "#46039f"
             ],
             [
              0.2222222222222222,
              "#7201a8"
             ],
             [
              0.3333333333333333,
              "#9c179e"
             ],
             [
              0.4444444444444444,
              "#bd3786"
             ],
             [
              0.5555555555555556,
              "#d8576b"
             ],
             [
              0.6666666666666666,
              "#ed7953"
             ],
             [
              0.7777777777777778,
              "#fb9f3a"
             ],
             [
              0.8888888888888888,
              "#fdca26"
             ],
             [
              1,
              "#f0f921"
             ]
            ],
            "type": "histogram2dcontour"
           }
          ],
          "mesh3d": [
           {
            "colorbar": {
             "outlinewidth": 0,
             "ticks": ""
            },
            "type": "mesh3d"
           }
          ],
          "parcoords": [
           {
            "line": {
             "colorbar": {
              "outlinewidth": 0,
              "ticks": ""
             }
            },
            "type": "parcoords"
           }
          ],
          "pie": [
           {
            "automargin": true,
            "type": "pie"
           }
          ],
          "scatter": [
           {
            "fillpattern": {
             "fillmode": "overlay",
             "size": 10,
             "solidity": 0.2
            },
            "type": "scatter"
           }
          ],
          "scatter3d": [
           {
            "line": {
             "colorbar": {
              "outlinewidth": 0,
              "ticks": ""
             }
            },
            "marker": {
             "colorbar": {
              "outlinewidth": 0,
              "ticks": ""
             }
            },
            "type": "scatter3d"
           }
          ],
          "scattercarpet": [
           {
            "marker": {
             "colorbar": {
              "outlinewidth": 0,
              "ticks": ""
             }
            },
            "type": "scattercarpet"
           }
          ],
          "scattergeo": [
           {
            "marker": {
             "colorbar": {
              "outlinewidth": 0,
              "ticks": ""
             }
            },
            "type": "scattergeo"
           }
          ],
          "scattergl": [
           {
            "marker": {
             "colorbar": {
              "outlinewidth": 0,
              "ticks": ""
             }
            },
            "type": "scattergl"
           }
          ],
          "scattermapbox": [
           {
            "marker": {
             "colorbar": {
              "outlinewidth": 0,
              "ticks": ""
             }
            },
            "type": "scattermapbox"
           }
          ],
          "scatterpolar": [
           {
            "marker": {
             "colorbar": {
              "outlinewidth": 0,
              "ticks": ""
             }
            },
            "type": "scatterpolar"
           }
          ],
          "scatterpolargl": [
           {
            "marker": {
             "colorbar": {
              "outlinewidth": 0,
              "ticks": ""
             }
            },
            "type": "scatterpolargl"
           }
          ],
          "scatterternary": [
           {
            "marker": {
             "colorbar": {
              "outlinewidth": 0,
              "ticks": ""
             }
            },
            "type": "scatterternary"
           }
          ],
          "surface": [
           {
            "colorbar": {
             "outlinewidth": 0,
             "ticks": ""
            },
            "colorscale": [
             [
              0,
              "#0d0887"
             ],
             [
              0.1111111111111111,
              "#46039f"
             ],
             [
              0.2222222222222222,
              "#7201a8"
             ],
             [
              0.3333333333333333,
              "#9c179e"
             ],
             [
              0.4444444444444444,
              "#bd3786"
             ],
             [
              0.5555555555555556,
              "#d8576b"
             ],
             [
              0.6666666666666666,
              "#ed7953"
             ],
             [
              0.7777777777777778,
              "#fb9f3a"
             ],
             [
              0.8888888888888888,
              "#fdca26"
             ],
             [
              1,
              "#f0f921"
             ]
            ],
            "type": "surface"
           }
          ],
          "table": [
           {
            "cells": {
             "fill": {
              "color": "#EBF0F8"
             },
             "line": {
              "color": "white"
             }
            },
            "header": {
             "fill": {
              "color": "#C8D4E3"
             },
             "line": {
              "color": "white"
             }
            },
            "type": "table"
           }
          ]
         },
         "layout": {
          "annotationdefaults": {
           "arrowcolor": "#2a3f5f",
           "arrowhead": 0,
           "arrowwidth": 1
          },
          "autotypenumbers": "strict",
          "coloraxis": {
           "colorbar": {
            "outlinewidth": 0,
            "ticks": ""
           }
          },
          "colorscale": {
           "diverging": [
            [
             0,
             "#8e0152"
            ],
            [
             0.1,
             "#c51b7d"
            ],
            [
             0.2,
             "#de77ae"
            ],
            [
             0.3,
             "#f1b6da"
            ],
            [
             0.4,
             "#fde0ef"
            ],
            [
             0.5,
             "#f7f7f7"
            ],
            [
             0.6,
             "#e6f5d0"
            ],
            [
             0.7,
             "#b8e186"
            ],
            [
             0.8,
             "#7fbc41"
            ],
            [
             0.9,
             "#4d9221"
            ],
            [
             1,
             "#276419"
            ]
           ],
           "sequential": [
            [
             0,
             "#0d0887"
            ],
            [
             0.1111111111111111,
             "#46039f"
            ],
            [
             0.2222222222222222,
             "#7201a8"
            ],
            [
             0.3333333333333333,
             "#9c179e"
            ],
            [
             0.4444444444444444,
             "#bd3786"
            ],
            [
             0.5555555555555556,
             "#d8576b"
            ],
            [
             0.6666666666666666,
             "#ed7953"
            ],
            [
             0.7777777777777778,
             "#fb9f3a"
            ],
            [
             0.8888888888888888,
             "#fdca26"
            ],
            [
             1,
             "#f0f921"
            ]
           ],
           "sequentialminus": [
            [
             0,
             "#0d0887"
            ],
            [
             0.1111111111111111,
             "#46039f"
            ],
            [
             0.2222222222222222,
             "#7201a8"
            ],
            [
             0.3333333333333333,
             "#9c179e"
            ],
            [
             0.4444444444444444,
             "#bd3786"
            ],
            [
             0.5555555555555556,
             "#d8576b"
            ],
            [
             0.6666666666666666,
             "#ed7953"
            ],
            [
             0.7777777777777778,
             "#fb9f3a"
            ],
            [
             0.8888888888888888,
             "#fdca26"
            ],
            [
             1,
             "#f0f921"
            ]
           ]
          },
          "colorway": [
           "#636efa",
           "#EF553B",
           "#00cc96",
           "#ab63fa",
           "#FFA15A",
           "#19d3f3",
           "#FF6692",
           "#B6E880",
           "#FF97FF",
           "#FECB52"
          ],
          "font": {
           "color": "#2a3f5f"
          },
          "geo": {
           "bgcolor": "white",
           "lakecolor": "white",
           "landcolor": "#E5ECF6",
           "showlakes": true,
           "showland": true,
           "subunitcolor": "white"
          },
          "hoverlabel": {
           "align": "left"
          },
          "hovermode": "closest",
          "mapbox": {
           "style": "light"
          },
          "paper_bgcolor": "white",
          "plot_bgcolor": "#E5ECF6",
          "polar": {
           "angularaxis": {
            "gridcolor": "white",
            "linecolor": "white",
            "ticks": ""
           },
           "bgcolor": "#E5ECF6",
           "radialaxis": {
            "gridcolor": "white",
            "linecolor": "white",
            "ticks": ""
           }
          },
          "scene": {
           "xaxis": {
            "backgroundcolor": "#E5ECF6",
            "gridcolor": "white",
            "gridwidth": 2,
            "linecolor": "white",
            "showbackground": true,
            "ticks": "",
            "zerolinecolor": "white"
           },
           "yaxis": {
            "backgroundcolor": "#E5ECF6",
            "gridcolor": "white",
            "gridwidth": 2,
            "linecolor": "white",
            "showbackground": true,
            "ticks": "",
            "zerolinecolor": "white"
           },
           "zaxis": {
            "backgroundcolor": "#E5ECF6",
            "gridcolor": "white",
            "gridwidth": 2,
            "linecolor": "white",
            "showbackground": true,
            "ticks": "",
            "zerolinecolor": "white"
           }
          },
          "shapedefaults": {
           "line": {
            "color": "#2a3f5f"
           }
          },
          "ternary": {
           "aaxis": {
            "gridcolor": "white",
            "linecolor": "white",
            "ticks": ""
           },
           "baxis": {
            "gridcolor": "white",
            "linecolor": "white",
            "ticks": ""
           },
           "bgcolor": "#E5ECF6",
           "caxis": {
            "gridcolor": "white",
            "linecolor": "white",
            "ticks": ""
           }
          },
          "title": {
           "x": 0.05
          },
          "xaxis": {
           "automargin": true,
           "gridcolor": "white",
           "linecolor": "white",
           "ticks": "",
           "title": {
            "standoff": 15
           },
           "zerolinecolor": "white",
           "zerolinewidth": 2
          },
          "yaxis": {
           "automargin": true,
           "gridcolor": "white",
           "linecolor": "white",
           "ticks": "",
           "title": {
            "standoff": 15
           },
           "zerolinecolor": "white",
           "zerolinewidth": 2
          }
         }
        },
        "title": {
         "text": "Sales per Family"
        },
        "xaxis": {
         "anchor": "y",
         "domain": [
          0,
          1
         ],
         "title": {
          "text": "family"
         }
        },
        "yaxis": {
         "anchor": "x",
         "domain": [
          0,
          1
         ],
         "title": {
          "text": "sales"
         },
         "type": "log"
        }
       }
      }
     },
     "metadata": {},
     "output_type": "display_data"
    },
    {
     "data": {
      "application/vnd.plotly.v1+json": {
       "config": {
        "plotlyServerURL": "https://plot.ly"
       },
       "data": [
        {
         "alignmentgroup": "True",
         "hovertemplate": "store_nbr=%{x}<br>sales=%{y}<extra></extra>",
         "legendgroup": "",
         "marker": {
          "color": "#636efa",
          "pattern": {
           "shape": ""
          }
         },
         "name": "",
         "offsetgroup": "",
         "orientation": "v",
         "showlegend": false,
         "textposition": "auto",
         "type": "bar",
         "x": [
          "44",
          "45",
          "47",
          "3",
          "49",
          "46",
          "48",
          "51",
          "8",
          "50",
          "11",
          "7",
          "9",
          "6",
          "24",
          "2",
          "37",
          "39",
          "27",
          "4",
          "38",
          "40",
          "28",
          "17",
          "31",
          "34",
          "43",
          "5",
          "36",
          "41",
          "1",
          "33",
          "18",
          "19",
          "20",
          "23",
          "14",
          "15",
          "53",
          "54",
          "16",
          "12",
          "25",
          "13",
          "29",
          "10",
          "21",
          "42",
          "35",
          "26",
          "30",
          "32",
          "22",
          "52"
         ],
         "xaxis": "x",
         "y": [
          61375734.878449,
          53806833.324944,
          50265549.719736,
          50143344.234212,
          43000818.728198,
          41071463.0032532,
          35141780.117026,
          32482245.617104,
          30283625.51839,
          28272465.6517853,
          27977703.498776,
          26829423.852075,
          25939207.0064635,
          24933616.844774,
          23718977.747813,
          21167778.4156612,
          19876291.1204104,
          19831738.01153,
          18970681.9122012,
          18752303.707599,
          18587131.9207706,
          18172613.456952,
          17986683.2032909,
          17751085.541596,
          17396327.852327,
          16902425.74225,
          16124597.4895146,
          15412778.2210942,
          15120459.268998,
          14647101.7062644,
          14022210.4275496,
          13963332.421919,
          12968379.1079893,
          12872589.764945,
          12319616.3712841,
          11463933.0673427,
          11322527.853728,
          11303223.24151,
          10910260.5989231,
          10812271.9154299,
          10787351.5162232,
          10670379.634721,
          10461027.2241665,
          10316654.78194,
          9521174.2717615,
          9520271.254783,
          8878887.35024,
          8819268.4391127,
          7428743.1506696,
          7425524.3758538,
          7166723.460363,
          5679682.3576215,
          3930205.41882,
          767042.815029
         ],
         "yaxis": "y"
        }
       ],
       "layout": {
        "barmode": "relative",
        "legend": {
         "tracegroupgap": 0
        },
        "template": {
         "data": {
          "bar": [
           {
            "error_x": {
             "color": "#2a3f5f"
            },
            "error_y": {
             "color": "#2a3f5f"
            },
            "marker": {
             "line": {
              "color": "#E5ECF6",
              "width": 0.5
             },
             "pattern": {
              "fillmode": "overlay",
              "size": 10,
              "solidity": 0.2
             }
            },
            "type": "bar"
           }
          ],
          "barpolar": [
           {
            "marker": {
             "line": {
              "color": "#E5ECF6",
              "width": 0.5
             },
             "pattern": {
              "fillmode": "overlay",
              "size": 10,
              "solidity": 0.2
             }
            },
            "type": "barpolar"
           }
          ],
          "carpet": [
           {
            "aaxis": {
             "endlinecolor": "#2a3f5f",
             "gridcolor": "white",
             "linecolor": "white",
             "minorgridcolor": "white",
             "startlinecolor": "#2a3f5f"
            },
            "baxis": {
             "endlinecolor": "#2a3f5f",
             "gridcolor": "white",
             "linecolor": "white",
             "minorgridcolor": "white",
             "startlinecolor": "#2a3f5f"
            },
            "type": "carpet"
           }
          ],
          "choropleth": [
           {
            "colorbar": {
             "outlinewidth": 0,
             "ticks": ""
            },
            "type": "choropleth"
           }
          ],
          "contour": [
           {
            "colorbar": {
             "outlinewidth": 0,
             "ticks": ""
            },
            "colorscale": [
             [
              0,
              "#0d0887"
             ],
             [
              0.1111111111111111,
              "#46039f"
             ],
             [
              0.2222222222222222,
              "#7201a8"
             ],
             [
              0.3333333333333333,
              "#9c179e"
             ],
             [
              0.4444444444444444,
              "#bd3786"
             ],
             [
              0.5555555555555556,
              "#d8576b"
             ],
             [
              0.6666666666666666,
              "#ed7953"
             ],
             [
              0.7777777777777778,
              "#fb9f3a"
             ],
             [
              0.8888888888888888,
              "#fdca26"
             ],
             [
              1,
              "#f0f921"
             ]
            ],
            "type": "contour"
           }
          ],
          "contourcarpet": [
           {
            "colorbar": {
             "outlinewidth": 0,
             "ticks": ""
            },
            "type": "contourcarpet"
           }
          ],
          "heatmap": [
           {
            "colorbar": {
             "outlinewidth": 0,
             "ticks": ""
            },
            "colorscale": [
             [
              0,
              "#0d0887"
             ],
             [
              0.1111111111111111,
              "#46039f"
             ],
             [
              0.2222222222222222,
              "#7201a8"
             ],
             [
              0.3333333333333333,
              "#9c179e"
             ],
             [
              0.4444444444444444,
              "#bd3786"
             ],
             [
              0.5555555555555556,
              "#d8576b"
             ],
             [
              0.6666666666666666,
              "#ed7953"
             ],
             [
              0.7777777777777778,
              "#fb9f3a"
             ],
             [
              0.8888888888888888,
              "#fdca26"
             ],
             [
              1,
              "#f0f921"
             ]
            ],
            "type": "heatmap"
           }
          ],
          "heatmapgl": [
           {
            "colorbar": {
             "outlinewidth": 0,
             "ticks": ""
            },
            "colorscale": [
             [
              0,
              "#0d0887"
             ],
             [
              0.1111111111111111,
              "#46039f"
             ],
             [
              0.2222222222222222,
              "#7201a8"
             ],
             [
              0.3333333333333333,
              "#9c179e"
             ],
             [
              0.4444444444444444,
              "#bd3786"
             ],
             [
              0.5555555555555556,
              "#d8576b"
             ],
             [
              0.6666666666666666,
              "#ed7953"
             ],
             [
              0.7777777777777778,
              "#fb9f3a"
             ],
             [
              0.8888888888888888,
              "#fdca26"
             ],
             [
              1,
              "#f0f921"
             ]
            ],
            "type": "heatmapgl"
           }
          ],
          "histogram": [
           {
            "marker": {
             "pattern": {
              "fillmode": "overlay",
              "size": 10,
              "solidity": 0.2
             }
            },
            "type": "histogram"
           }
          ],
          "histogram2d": [
           {
            "colorbar": {
             "outlinewidth": 0,
             "ticks": ""
            },
            "colorscale": [
             [
              0,
              "#0d0887"
             ],
             [
              0.1111111111111111,
              "#46039f"
             ],
             [
              0.2222222222222222,
              "#7201a8"
             ],
             [
              0.3333333333333333,
              "#9c179e"
             ],
             [
              0.4444444444444444,
              "#bd3786"
             ],
             [
              0.5555555555555556,
              "#d8576b"
             ],
             [
              0.6666666666666666,
              "#ed7953"
             ],
             [
              0.7777777777777778,
              "#fb9f3a"
             ],
             [
              0.8888888888888888,
              "#fdca26"
             ],
             [
              1,
              "#f0f921"
             ]
            ],
            "type": "histogram2d"
           }
          ],
          "histogram2dcontour": [
           {
            "colorbar": {
             "outlinewidth": 0,
             "ticks": ""
            },
            "colorscale": [
             [
              0,
              "#0d0887"
             ],
             [
              0.1111111111111111,
              "#46039f"
             ],
             [
              0.2222222222222222,
              "#7201a8"
             ],
             [
              0.3333333333333333,
              "#9c179e"
             ],
             [
              0.4444444444444444,
              "#bd3786"
             ],
             [
              0.5555555555555556,
              "#d8576b"
             ],
             [
              0.6666666666666666,
              "#ed7953"
             ],
             [
              0.7777777777777778,
              "#fb9f3a"
             ],
             [
              0.8888888888888888,
              "#fdca26"
             ],
             [
              1,
              "#f0f921"
             ]
            ],
            "type": "histogram2dcontour"
           }
          ],
          "mesh3d": [
           {
            "colorbar": {
             "outlinewidth": 0,
             "ticks": ""
            },
            "type": "mesh3d"
           }
          ],
          "parcoords": [
           {
            "line": {
             "colorbar": {
              "outlinewidth": 0,
              "ticks": ""
             }
            },
            "type": "parcoords"
           }
          ],
          "pie": [
           {
            "automargin": true,
            "type": "pie"
           }
          ],
          "scatter": [
           {
            "fillpattern": {
             "fillmode": "overlay",
             "size": 10,
             "solidity": 0.2
            },
            "type": "scatter"
           }
          ],
          "scatter3d": [
           {
            "line": {
             "colorbar": {
              "outlinewidth": 0,
              "ticks": ""
             }
            },
            "marker": {
             "colorbar": {
              "outlinewidth": 0,
              "ticks": ""
             }
            },
            "type": "scatter3d"
           }
          ],
          "scattercarpet": [
           {
            "marker": {
             "colorbar": {
              "outlinewidth": 0,
              "ticks": ""
             }
            },
            "type": "scattercarpet"
           }
          ],
          "scattergeo": [
           {
            "marker": {
             "colorbar": {
              "outlinewidth": 0,
              "ticks": ""
             }
            },
            "type": "scattergeo"
           }
          ],
          "scattergl": [
           {
            "marker": {
             "colorbar": {
              "outlinewidth": 0,
              "ticks": ""
             }
            },
            "type": "scattergl"
           }
          ],
          "scattermapbox": [
           {
            "marker": {
             "colorbar": {
              "outlinewidth": 0,
              "ticks": ""
             }
            },
            "type": "scattermapbox"
           }
          ],
          "scatterpolar": [
           {
            "marker": {
             "colorbar": {
              "outlinewidth": 0,
              "ticks": ""
             }
            },
            "type": "scatterpolar"
           }
          ],
          "scatterpolargl": [
           {
            "marker": {
             "colorbar": {
              "outlinewidth": 0,
              "ticks": ""
             }
            },
            "type": "scatterpolargl"
           }
          ],
          "scatterternary": [
           {
            "marker": {
             "colorbar": {
              "outlinewidth": 0,
              "ticks": ""
             }
            },
            "type": "scatterternary"
           }
          ],
          "surface": [
           {
            "colorbar": {
             "outlinewidth": 0,
             "ticks": ""
            },
            "colorscale": [
             [
              0,
              "#0d0887"
             ],
             [
              0.1111111111111111,
              "#46039f"
             ],
             [
              0.2222222222222222,
              "#7201a8"
             ],
             [
              0.3333333333333333,
              "#9c179e"
             ],
             [
              0.4444444444444444,
              "#bd3786"
             ],
             [
              0.5555555555555556,
              "#d8576b"
             ],
             [
              0.6666666666666666,
              "#ed7953"
             ],
             [
              0.7777777777777778,
              "#fb9f3a"
             ],
             [
              0.8888888888888888,
              "#fdca26"
             ],
             [
              1,
              "#f0f921"
             ]
            ],
            "type": "surface"
           }
          ],
          "table": [
           {
            "cells": {
             "fill": {
              "color": "#EBF0F8"
             },
             "line": {
              "color": "white"
             }
            },
            "header": {
             "fill": {
              "color": "#C8D4E3"
             },
             "line": {
              "color": "white"
             }
            },
            "type": "table"
           }
          ]
         },
         "layout": {
          "annotationdefaults": {
           "arrowcolor": "#2a3f5f",
           "arrowhead": 0,
           "arrowwidth": 1
          },
          "autotypenumbers": "strict",
          "coloraxis": {
           "colorbar": {
            "outlinewidth": 0,
            "ticks": ""
           }
          },
          "colorscale": {
           "diverging": [
            [
             0,
             "#8e0152"
            ],
            [
             0.1,
             "#c51b7d"
            ],
            [
             0.2,
             "#de77ae"
            ],
            [
             0.3,
             "#f1b6da"
            ],
            [
             0.4,
             "#fde0ef"
            ],
            [
             0.5,
             "#f7f7f7"
            ],
            [
             0.6,
             "#e6f5d0"
            ],
            [
             0.7,
             "#b8e186"
            ],
            [
             0.8,
             "#7fbc41"
            ],
            [
             0.9,
             "#4d9221"
            ],
            [
             1,
             "#276419"
            ]
           ],
           "sequential": [
            [
             0,
             "#0d0887"
            ],
            [
             0.1111111111111111,
             "#46039f"
            ],
            [
             0.2222222222222222,
             "#7201a8"
            ],
            [
             0.3333333333333333,
             "#9c179e"
            ],
            [
             0.4444444444444444,
             "#bd3786"
            ],
            [
             0.5555555555555556,
             "#d8576b"
            ],
            [
             0.6666666666666666,
             "#ed7953"
            ],
            [
             0.7777777777777778,
             "#fb9f3a"
            ],
            [
             0.8888888888888888,
             "#fdca26"
            ],
            [
             1,
             "#f0f921"
            ]
           ],
           "sequentialminus": [
            [
             0,
             "#0d0887"
            ],
            [
             0.1111111111111111,
             "#46039f"
            ],
            [
             0.2222222222222222,
             "#7201a8"
            ],
            [
             0.3333333333333333,
             "#9c179e"
            ],
            [
             0.4444444444444444,
             "#bd3786"
            ],
            [
             0.5555555555555556,
             "#d8576b"
            ],
            [
             0.6666666666666666,
             "#ed7953"
            ],
            [
             0.7777777777777778,
             "#fb9f3a"
            ],
            [
             0.8888888888888888,
             "#fdca26"
            ],
            [
             1,
             "#f0f921"
            ]
           ]
          },
          "colorway": [
           "#636efa",
           "#EF553B",
           "#00cc96",
           "#ab63fa",
           "#FFA15A",
           "#19d3f3",
           "#FF6692",
           "#B6E880",
           "#FF97FF",
           "#FECB52"
          ],
          "font": {
           "color": "#2a3f5f"
          },
          "geo": {
           "bgcolor": "white",
           "lakecolor": "white",
           "landcolor": "#E5ECF6",
           "showlakes": true,
           "showland": true,
           "subunitcolor": "white"
          },
          "hoverlabel": {
           "align": "left"
          },
          "hovermode": "closest",
          "mapbox": {
           "style": "light"
          },
          "paper_bgcolor": "white",
          "plot_bgcolor": "#E5ECF6",
          "polar": {
           "angularaxis": {
            "gridcolor": "white",
            "linecolor": "white",
            "ticks": ""
           },
           "bgcolor": "#E5ECF6",
           "radialaxis": {
            "gridcolor": "white",
            "linecolor": "white",
            "ticks": ""
           }
          },
          "scene": {
           "xaxis": {
            "backgroundcolor": "#E5ECF6",
            "gridcolor": "white",
            "gridwidth": 2,
            "linecolor": "white",
            "showbackground": true,
            "ticks": "",
            "zerolinecolor": "white"
           },
           "yaxis": {
            "backgroundcolor": "#E5ECF6",
            "gridcolor": "white",
            "gridwidth": 2,
            "linecolor": "white",
            "showbackground": true,
            "ticks": "",
            "zerolinecolor": "white"
           },
           "zaxis": {
            "backgroundcolor": "#E5ECF6",
            "gridcolor": "white",
            "gridwidth": 2,
            "linecolor": "white",
            "showbackground": true,
            "ticks": "",
            "zerolinecolor": "white"
           }
          },
          "shapedefaults": {
           "line": {
            "color": "#2a3f5f"
           }
          },
          "ternary": {
           "aaxis": {
            "gridcolor": "white",
            "linecolor": "white",
            "ticks": ""
           },
           "baxis": {
            "gridcolor": "white",
            "linecolor": "white",
            "ticks": ""
           },
           "bgcolor": "#E5ECF6",
           "caxis": {
            "gridcolor": "white",
            "linecolor": "white",
            "ticks": ""
           }
          },
          "title": {
           "x": 0.05
          },
          "xaxis": {
           "automargin": true,
           "gridcolor": "white",
           "linecolor": "white",
           "ticks": "",
           "title": {
            "standoff": 15
           },
           "zerolinecolor": "white",
           "zerolinewidth": 2
          },
          "yaxis": {
           "automargin": true,
           "gridcolor": "white",
           "linecolor": "white",
           "ticks": "",
           "title": {
            "standoff": 15
           },
           "zerolinecolor": "white",
           "zerolinewidth": 2
          }
         }
        },
        "title": {
         "text": "Sales per Store"
        },
        "xaxis": {
         "anchor": "y",
         "domain": [
          0,
          1
         ],
         "title": {
          "text": "store_nbr"
         }
        },
        "yaxis": {
         "anchor": "x",
         "domain": [
          0,
          1
         ],
         "title": {
          "text": "sales"
         }
        }
       }
      }
     },
     "metadata": {},
     "output_type": "display_data"
    },
    {
     "data": {
      "text/markdown": [
       "### Plots for Store Sales over Time"
      ],
      "text/plain": [
       "<IPython.core.display.Markdown object>"
      ]
     },
     "metadata": {},
     "output_type": "display_data"
    },
    {
     "data": {
      "application/vnd.plotly.v1+json": {
       "config": {
        "plotlyServerURL": "https://plot.ly"
       },
       "data": [
        {
         "hovertemplate": "date=%{x}<br>sales=%{y}<extra></extra>",
         "legendgroup": "",
         "line": {
          "color": "#636efa",
          "dash": "solid"
         },
         "marker": {
          "symbol": "circle"
         },
         "mode": "lines",
         "name": "",
         "showlegend": false,
         "type": "scattergl",
         "x": [
          "2013-01-01T00:00:00",
          "2013-01-02T00:00:00",
          "2013-01-03T00:00:00",
          "2013-01-04T00:00:00",
          "2013-01-05T00:00:00",
          "2013-01-06T00:00:00",
          "2013-01-07T00:00:00",
          "2013-01-08T00:00:00",
          "2013-01-09T00:00:00",
          "2013-01-10T00:00:00",
          "2013-01-11T00:00:00",
          "2013-01-12T00:00:00",
          "2013-01-13T00:00:00",
          "2013-01-14T00:00:00",
          "2013-01-15T00:00:00",
          "2013-01-16T00:00:00",
          "2013-01-17T00:00:00",
          "2013-01-18T00:00:00",
          "2013-01-19T00:00:00",
          "2013-01-20T00:00:00",
          "2013-01-21T00:00:00",
          "2013-01-22T00:00:00",
          "2013-01-23T00:00:00",
          "2013-01-24T00:00:00",
          "2013-01-25T00:00:00",
          "2013-01-26T00:00:00",
          "2013-01-27T00:00:00",
          "2013-01-28T00:00:00",
          "2013-01-29T00:00:00",
          "2013-01-30T00:00:00",
          "2013-01-31T00:00:00",
          "2013-02-01T00:00:00",
          "2013-02-02T00:00:00",
          "2013-02-03T00:00:00",
          "2013-02-04T00:00:00",
          "2013-02-05T00:00:00",
          "2013-02-06T00:00:00",
          "2013-02-07T00:00:00",
          "2013-02-08T00:00:00",
          "2013-02-09T00:00:00",
          "2013-02-10T00:00:00",
          "2013-02-11T00:00:00",
          "2013-02-12T00:00:00",
          "2013-02-13T00:00:00",
          "2013-02-14T00:00:00",
          "2013-02-15T00:00:00",
          "2013-02-16T00:00:00",
          "2013-02-17T00:00:00",
          "2013-02-18T00:00:00",
          "2013-02-19T00:00:00",
          "2013-02-20T00:00:00",
          "2013-02-21T00:00:00",
          "2013-02-22T00:00:00",
          "2013-02-23T00:00:00",
          "2013-02-24T00:00:00",
          "2013-02-25T00:00:00",
          "2013-02-26T00:00:00",
          "2013-02-27T00:00:00",
          "2013-02-28T00:00:00",
          "2013-03-01T00:00:00",
          "2013-03-02T00:00:00",
          "2013-03-03T00:00:00",
          "2013-03-04T00:00:00",
          "2013-03-05T00:00:00",
          "2013-03-06T00:00:00",
          "2013-03-07T00:00:00",
          "2013-03-08T00:00:00",
          "2013-03-09T00:00:00",
          "2013-03-10T00:00:00",
          "2013-03-11T00:00:00",
          "2013-03-12T00:00:00",
          "2013-03-13T00:00:00",
          "2013-03-14T00:00:00",
          "2013-03-15T00:00:00",
          "2013-03-16T00:00:00",
          "2013-03-17T00:00:00",
          "2013-03-18T00:00:00",
          "2013-03-19T00:00:00",
          "2013-03-20T00:00:00",
          "2013-03-21T00:00:00",
          "2013-03-22T00:00:00",
          "2013-03-23T00:00:00",
          "2013-03-24T00:00:00",
          "2013-03-25T00:00:00",
          "2013-03-26T00:00:00",
          "2013-03-27T00:00:00",
          "2013-03-28T00:00:00",
          "2013-03-29T00:00:00",
          "2013-03-30T00:00:00",
          "2013-03-31T00:00:00",
          "2013-04-01T00:00:00",
          "2013-04-02T00:00:00",
          "2013-04-03T00:00:00",
          "2013-04-04T00:00:00",
          "2013-04-05T00:00:00",
          "2013-04-06T00:00:00",
          "2013-04-07T00:00:00",
          "2013-04-08T00:00:00",
          "2013-04-09T00:00:00",
          "2013-04-10T00:00:00",
          "2013-04-11T00:00:00",
          "2013-04-12T00:00:00",
          "2013-04-13T00:00:00",
          "2013-04-14T00:00:00",
          "2013-04-15T00:00:00",
          "2013-04-16T00:00:00",
          "2013-04-17T00:00:00",
          "2013-04-18T00:00:00",
          "2013-04-19T00:00:00",
          "2013-04-20T00:00:00",
          "2013-04-21T00:00:00",
          "2013-04-22T00:00:00",
          "2013-04-23T00:00:00",
          "2013-04-24T00:00:00",
          "2013-04-25T00:00:00",
          "2013-04-26T00:00:00",
          "2013-04-27T00:00:00",
          "2013-04-28T00:00:00",
          "2013-04-29T00:00:00",
          "2013-04-30T00:00:00",
          "2013-05-01T00:00:00",
          "2013-05-02T00:00:00",
          "2013-05-03T00:00:00",
          "2013-05-04T00:00:00",
          "2013-05-05T00:00:00",
          "2013-05-06T00:00:00",
          "2013-05-07T00:00:00",
          "2013-05-08T00:00:00",
          "2013-05-09T00:00:00",
          "2013-05-10T00:00:00",
          "2013-05-11T00:00:00",
          "2013-05-12T00:00:00",
          "2013-05-13T00:00:00",
          "2013-05-14T00:00:00",
          "2013-05-15T00:00:00",
          "2013-05-16T00:00:00",
          "2013-05-17T00:00:00",
          "2013-05-18T00:00:00",
          "2013-05-19T00:00:00",
          "2013-05-20T00:00:00",
          "2013-05-21T00:00:00",
          "2013-05-22T00:00:00",
          "2013-05-23T00:00:00",
          "2013-05-24T00:00:00",
          "2013-05-25T00:00:00",
          "2013-05-26T00:00:00",
          "2013-05-27T00:00:00",
          "2013-05-28T00:00:00",
          "2013-05-29T00:00:00",
          "2013-05-30T00:00:00",
          "2013-05-31T00:00:00",
          "2013-06-01T00:00:00",
          "2013-06-02T00:00:00",
          "2013-06-03T00:00:00",
          "2013-06-04T00:00:00",
          "2013-06-05T00:00:00",
          "2013-06-06T00:00:00",
          "2013-06-07T00:00:00",
          "2013-06-08T00:00:00",
          "2013-06-09T00:00:00",
          "2013-06-10T00:00:00",
          "2013-06-11T00:00:00",
          "2013-06-12T00:00:00",
          "2013-06-13T00:00:00",
          "2013-06-14T00:00:00",
          "2013-06-15T00:00:00",
          "2013-06-16T00:00:00",
          "2013-06-17T00:00:00",
          "2013-06-18T00:00:00",
          "2013-06-19T00:00:00",
          "2013-06-20T00:00:00",
          "2013-06-21T00:00:00",
          "2013-06-22T00:00:00",
          "2013-06-23T00:00:00",
          "2013-06-24T00:00:00",
          "2013-06-25T00:00:00",
          "2013-06-26T00:00:00",
          "2013-06-27T00:00:00",
          "2013-06-28T00:00:00",
          "2013-06-29T00:00:00",
          "2013-06-30T00:00:00",
          "2013-07-01T00:00:00",
          "2013-07-02T00:00:00",
          "2013-07-03T00:00:00",
          "2013-07-04T00:00:00",
          "2013-07-05T00:00:00",
          "2013-07-06T00:00:00",
          "2013-07-07T00:00:00",
          "2013-07-08T00:00:00",
          "2013-07-09T00:00:00",
          "2013-07-10T00:00:00",
          "2013-07-11T00:00:00",
          "2013-07-12T00:00:00",
          "2013-07-13T00:00:00",
          "2013-07-14T00:00:00",
          "2013-07-15T00:00:00",
          "2013-07-16T00:00:00",
          "2013-07-17T00:00:00",
          "2013-07-18T00:00:00",
          "2013-07-19T00:00:00",
          "2013-07-20T00:00:00",
          "2013-07-21T00:00:00",
          "2013-07-22T00:00:00",
          "2013-07-23T00:00:00",
          "2013-07-24T00:00:00",
          "2013-07-25T00:00:00",
          "2013-07-26T00:00:00",
          "2013-07-27T00:00:00",
          "2013-07-28T00:00:00",
          "2013-07-29T00:00:00",
          "2013-07-30T00:00:00",
          "2013-07-31T00:00:00",
          "2013-08-01T00:00:00",
          "2013-08-02T00:00:00",
          "2013-08-03T00:00:00",
          "2013-08-04T00:00:00",
          "2013-08-05T00:00:00",
          "2013-08-06T00:00:00",
          "2013-08-07T00:00:00",
          "2013-08-08T00:00:00",
          "2013-08-09T00:00:00",
          "2013-08-10T00:00:00",
          "2013-08-11T00:00:00",
          "2013-08-12T00:00:00",
          "2013-08-13T00:00:00",
          "2013-08-14T00:00:00",
          "2013-08-15T00:00:00",
          "2013-08-16T00:00:00",
          "2013-08-17T00:00:00",
          "2013-08-18T00:00:00",
          "2013-08-19T00:00:00",
          "2013-08-20T00:00:00",
          "2013-08-21T00:00:00",
          "2013-08-22T00:00:00",
          "2013-08-23T00:00:00",
          "2013-08-24T00:00:00",
          "2013-08-25T00:00:00",
          "2013-08-26T00:00:00",
          "2013-08-27T00:00:00",
          "2013-08-28T00:00:00",
          "2013-08-29T00:00:00",
          "2013-08-30T00:00:00",
          "2013-08-31T00:00:00",
          "2013-09-01T00:00:00",
          "2013-09-02T00:00:00",
          "2013-09-03T00:00:00",
          "2013-09-04T00:00:00",
          "2013-09-05T00:00:00",
          "2013-09-06T00:00:00",
          "2013-09-07T00:00:00",
          "2013-09-08T00:00:00",
          "2013-09-09T00:00:00",
          "2013-09-10T00:00:00",
          "2013-09-11T00:00:00",
          "2013-09-12T00:00:00",
          "2013-09-13T00:00:00",
          "2013-09-14T00:00:00",
          "2013-09-15T00:00:00",
          "2013-09-16T00:00:00",
          "2013-09-17T00:00:00",
          "2013-09-18T00:00:00",
          "2013-09-19T00:00:00",
          "2013-09-20T00:00:00",
          "2013-09-21T00:00:00",
          "2013-09-22T00:00:00",
          "2013-09-23T00:00:00",
          "2013-09-24T00:00:00",
          "2013-09-25T00:00:00",
          "2013-09-26T00:00:00",
          "2013-09-27T00:00:00",
          "2013-09-28T00:00:00",
          "2013-09-29T00:00:00",
          "2013-09-30T00:00:00",
          "2013-10-01T00:00:00",
          "2013-10-02T00:00:00",
          "2013-10-03T00:00:00",
          "2013-10-04T00:00:00",
          "2013-10-05T00:00:00",
          "2013-10-06T00:00:00",
          "2013-10-07T00:00:00",
          "2013-10-08T00:00:00",
          "2013-10-09T00:00:00",
          "2013-10-10T00:00:00",
          "2013-10-11T00:00:00",
          "2013-10-12T00:00:00",
          "2013-10-13T00:00:00",
          "2013-10-14T00:00:00",
          "2013-10-15T00:00:00",
          "2013-10-16T00:00:00",
          "2013-10-17T00:00:00",
          "2013-10-18T00:00:00",
          "2013-10-19T00:00:00",
          "2013-10-20T00:00:00",
          "2013-10-21T00:00:00",
          "2013-10-22T00:00:00",
          "2013-10-23T00:00:00",
          "2013-10-24T00:00:00",
          "2013-10-25T00:00:00",
          "2013-10-26T00:00:00",
          "2013-10-27T00:00:00",
          "2013-10-28T00:00:00",
          "2013-10-29T00:00:00",
          "2013-10-30T00:00:00",
          "2013-10-31T00:00:00",
          "2013-11-01T00:00:00",
          "2013-11-02T00:00:00",
          "2013-11-03T00:00:00",
          "2013-11-04T00:00:00",
          "2013-11-05T00:00:00",
          "2013-11-06T00:00:00",
          "2013-11-07T00:00:00",
          "2013-11-08T00:00:00",
          "2013-11-09T00:00:00",
          "2013-11-10T00:00:00",
          "2013-11-11T00:00:00",
          "2013-11-12T00:00:00",
          "2013-11-13T00:00:00",
          "2013-11-14T00:00:00",
          "2013-11-15T00:00:00",
          "2013-11-16T00:00:00",
          "2013-11-17T00:00:00",
          "2013-11-18T00:00:00",
          "2013-11-19T00:00:00",
          "2013-11-20T00:00:00",
          "2013-11-21T00:00:00",
          "2013-11-22T00:00:00",
          "2013-11-23T00:00:00",
          "2013-11-24T00:00:00",
          "2013-11-25T00:00:00",
          "2013-11-26T00:00:00",
          "2013-11-27T00:00:00",
          "2013-11-28T00:00:00",
          "2013-11-29T00:00:00",
          "2013-11-30T00:00:00",
          "2013-12-01T00:00:00",
          "2013-12-02T00:00:00",
          "2013-12-03T00:00:00",
          "2013-12-04T00:00:00",
          "2013-12-05T00:00:00",
          "2013-12-06T00:00:00",
          "2013-12-07T00:00:00",
          "2013-12-08T00:00:00",
          "2013-12-09T00:00:00",
          "2013-12-10T00:00:00",
          "2013-12-11T00:00:00",
          "2013-12-12T00:00:00",
          "2013-12-13T00:00:00",
          "2013-12-14T00:00:00",
          "2013-12-15T00:00:00",
          "2013-12-16T00:00:00",
          "2013-12-17T00:00:00",
          "2013-12-18T00:00:00",
          "2013-12-19T00:00:00",
          "2013-12-20T00:00:00",
          "2013-12-21T00:00:00",
          "2013-12-22T00:00:00",
          "2013-12-23T00:00:00",
          "2013-12-24T00:00:00",
          "2013-12-26T00:00:00",
          "2013-12-27T00:00:00",
          "2013-12-28T00:00:00",
          "2013-12-29T00:00:00",
          "2013-12-30T00:00:00",
          "2013-12-31T00:00:00",
          "2014-01-01T00:00:00",
          "2014-01-02T00:00:00",
          "2014-01-03T00:00:00",
          "2014-01-04T00:00:00",
          "2014-01-05T00:00:00",
          "2014-01-06T00:00:00",
          "2014-01-07T00:00:00",
          "2014-01-08T00:00:00",
          "2014-01-09T00:00:00",
          "2014-01-10T00:00:00",
          "2014-01-11T00:00:00",
          "2014-01-12T00:00:00",
          "2014-01-13T00:00:00",
          "2014-01-14T00:00:00",
          "2014-01-15T00:00:00",
          "2014-01-16T00:00:00",
          "2014-01-17T00:00:00",
          "2014-01-18T00:00:00",
          "2014-01-19T00:00:00",
          "2014-01-20T00:00:00",
          "2014-01-21T00:00:00",
          "2014-01-22T00:00:00",
          "2014-01-23T00:00:00",
          "2014-01-24T00:00:00",
          "2014-01-25T00:00:00",
          "2014-01-26T00:00:00",
          "2014-01-27T00:00:00",
          "2014-01-28T00:00:00",
          "2014-01-29T00:00:00",
          "2014-01-30T00:00:00",
          "2014-01-31T00:00:00",
          "2014-02-01T00:00:00",
          "2014-02-02T00:00:00",
          "2014-02-03T00:00:00",
          "2014-02-04T00:00:00",
          "2014-02-05T00:00:00",
          "2014-02-06T00:00:00",
          "2014-02-07T00:00:00",
          "2014-02-08T00:00:00",
          "2014-02-09T00:00:00",
          "2014-02-10T00:00:00",
          "2014-02-11T00:00:00",
          "2014-02-12T00:00:00",
          "2014-02-13T00:00:00",
          "2014-02-14T00:00:00",
          "2014-02-15T00:00:00",
          "2014-02-16T00:00:00",
          "2014-02-17T00:00:00",
          "2014-02-18T00:00:00",
          "2014-02-19T00:00:00",
          "2014-02-20T00:00:00",
          "2014-02-21T00:00:00",
          "2014-02-22T00:00:00",
          "2014-02-23T00:00:00",
          "2014-02-24T00:00:00",
          "2014-02-25T00:00:00",
          "2014-02-26T00:00:00",
          "2014-02-27T00:00:00",
          "2014-02-28T00:00:00",
          "2014-03-01T00:00:00",
          "2014-03-02T00:00:00",
          "2014-03-03T00:00:00",
          "2014-03-04T00:00:00",
          "2014-03-05T00:00:00",
          "2014-03-06T00:00:00",
          "2014-03-07T00:00:00",
          "2014-03-08T00:00:00",
          "2014-03-09T00:00:00",
          "2014-03-10T00:00:00",
          "2014-03-11T00:00:00",
          "2014-03-12T00:00:00",
          "2014-03-13T00:00:00",
          "2014-03-14T00:00:00",
          "2014-03-15T00:00:00",
          "2014-03-16T00:00:00",
          "2014-03-17T00:00:00",
          "2014-03-18T00:00:00",
          "2014-03-19T00:00:00",
          "2014-03-20T00:00:00",
          "2014-03-21T00:00:00",
          "2014-03-22T00:00:00",
          "2014-03-23T00:00:00",
          "2014-03-24T00:00:00",
          "2014-03-25T00:00:00",
          "2014-03-26T00:00:00",
          "2014-03-27T00:00:00",
          "2014-03-28T00:00:00",
          "2014-03-29T00:00:00",
          "2014-03-30T00:00:00",
          "2014-03-31T00:00:00",
          "2014-04-01T00:00:00",
          "2014-04-02T00:00:00",
          "2014-04-03T00:00:00",
          "2014-04-04T00:00:00",
          "2014-04-05T00:00:00",
          "2014-04-06T00:00:00",
          "2014-04-07T00:00:00",
          "2014-04-08T00:00:00",
          "2014-04-09T00:00:00",
          "2014-04-10T00:00:00",
          "2014-04-11T00:00:00",
          "2014-04-12T00:00:00",
          "2014-04-13T00:00:00",
          "2014-04-14T00:00:00",
          "2014-04-15T00:00:00",
          "2014-04-16T00:00:00",
          "2014-04-17T00:00:00",
          "2014-04-18T00:00:00",
          "2014-04-19T00:00:00",
          "2014-04-20T00:00:00",
          "2014-04-21T00:00:00",
          "2014-04-22T00:00:00",
          "2014-04-23T00:00:00",
          "2014-04-24T00:00:00",
          "2014-04-25T00:00:00",
          "2014-04-26T00:00:00",
          "2014-04-27T00:00:00",
          "2014-04-28T00:00:00",
          "2014-04-29T00:00:00",
          "2014-04-30T00:00:00",
          "2014-05-01T00:00:00",
          "2014-05-02T00:00:00",
          "2014-05-03T00:00:00",
          "2014-05-04T00:00:00",
          "2014-05-05T00:00:00",
          "2014-05-06T00:00:00",
          "2014-05-07T00:00:00",
          "2014-05-08T00:00:00",
          "2014-05-09T00:00:00",
          "2014-05-10T00:00:00",
          "2014-05-11T00:00:00",
          "2014-05-12T00:00:00",
          "2014-05-13T00:00:00",
          "2014-05-14T00:00:00",
          "2014-05-15T00:00:00",
          "2014-05-16T00:00:00",
          "2014-05-17T00:00:00",
          "2014-05-18T00:00:00",
          "2014-05-19T00:00:00",
          "2014-05-20T00:00:00",
          "2014-05-21T00:00:00",
          "2014-05-22T00:00:00",
          "2014-05-23T00:00:00",
          "2014-05-24T00:00:00",
          "2014-05-25T00:00:00",
          "2014-05-26T00:00:00",
          "2014-05-27T00:00:00",
          "2014-05-28T00:00:00",
          "2014-05-29T00:00:00",
          "2014-05-30T00:00:00",
          "2014-05-31T00:00:00",
          "2014-06-01T00:00:00",
          "2014-06-02T00:00:00",
          "2014-06-03T00:00:00",
          "2014-06-04T00:00:00",
          "2014-06-05T00:00:00",
          "2014-06-06T00:00:00",
          "2014-06-07T00:00:00",
          "2014-06-08T00:00:00",
          "2014-06-09T00:00:00",
          "2014-06-10T00:00:00",
          "2014-06-11T00:00:00",
          "2014-06-12T00:00:00",
          "2014-06-13T00:00:00",
          "2014-06-14T00:00:00",
          "2014-06-15T00:00:00",
          "2014-06-16T00:00:00",
          "2014-06-17T00:00:00",
          "2014-06-18T00:00:00",
          "2014-06-19T00:00:00",
          "2014-06-20T00:00:00",
          "2014-06-21T00:00:00",
          "2014-06-22T00:00:00",
          "2014-06-23T00:00:00",
          "2014-06-24T00:00:00",
          "2014-06-25T00:00:00",
          "2014-06-26T00:00:00",
          "2014-06-27T00:00:00",
          "2014-06-28T00:00:00",
          "2014-06-29T00:00:00",
          "2014-06-30T00:00:00",
          "2014-07-01T00:00:00",
          "2014-07-02T00:00:00",
          "2014-07-03T00:00:00",
          "2014-07-04T00:00:00",
          "2014-07-05T00:00:00",
          "2014-07-06T00:00:00",
          "2014-07-07T00:00:00",
          "2014-07-08T00:00:00",
          "2014-07-09T00:00:00",
          "2014-07-10T00:00:00",
          "2014-07-11T00:00:00",
          "2014-07-12T00:00:00",
          "2014-07-13T00:00:00",
          "2014-07-14T00:00:00",
          "2014-07-15T00:00:00",
          "2014-07-16T00:00:00",
          "2014-07-17T00:00:00",
          "2014-07-18T00:00:00",
          "2014-07-19T00:00:00",
          "2014-07-20T00:00:00",
          "2014-07-21T00:00:00",
          "2014-07-22T00:00:00",
          "2014-07-23T00:00:00",
          "2014-07-24T00:00:00",
          "2014-07-25T00:00:00",
          "2014-07-26T00:00:00",
          "2014-07-27T00:00:00",
          "2014-07-28T00:00:00",
          "2014-07-29T00:00:00",
          "2014-07-30T00:00:00",
          "2014-07-31T00:00:00",
          "2014-08-01T00:00:00",
          "2014-08-02T00:00:00",
          "2014-08-03T00:00:00",
          "2014-08-04T00:00:00",
          "2014-08-05T00:00:00",
          "2014-08-06T00:00:00",
          "2014-08-07T00:00:00",
          "2014-08-08T00:00:00",
          "2014-08-09T00:00:00",
          "2014-08-10T00:00:00",
          "2014-08-11T00:00:00",
          "2014-08-12T00:00:00",
          "2014-08-13T00:00:00",
          "2014-08-14T00:00:00",
          "2014-08-15T00:00:00",
          "2014-08-16T00:00:00",
          "2014-08-17T00:00:00",
          "2014-08-18T00:00:00",
          "2014-08-19T00:00:00",
          "2014-08-20T00:00:00",
          "2014-08-21T00:00:00",
          "2014-08-22T00:00:00",
          "2014-08-23T00:00:00",
          "2014-08-24T00:00:00",
          "2014-08-25T00:00:00",
          "2014-08-26T00:00:00",
          "2014-08-27T00:00:00",
          "2014-08-28T00:00:00",
          "2014-08-29T00:00:00",
          "2014-08-30T00:00:00",
          "2014-08-31T00:00:00",
          "2014-09-01T00:00:00",
          "2014-09-02T00:00:00",
          "2014-09-03T00:00:00",
          "2014-09-04T00:00:00",
          "2014-09-05T00:00:00",
          "2014-09-06T00:00:00",
          "2014-09-07T00:00:00",
          "2014-09-08T00:00:00",
          "2014-09-09T00:00:00",
          "2014-09-10T00:00:00",
          "2014-09-11T00:00:00",
          "2014-09-12T00:00:00",
          "2014-09-13T00:00:00",
          "2014-09-14T00:00:00",
          "2014-09-15T00:00:00",
          "2014-09-16T00:00:00",
          "2014-09-17T00:00:00",
          "2014-09-18T00:00:00",
          "2014-09-19T00:00:00",
          "2014-09-20T00:00:00",
          "2014-09-21T00:00:00",
          "2014-09-22T00:00:00",
          "2014-09-23T00:00:00",
          "2014-09-24T00:00:00",
          "2014-09-25T00:00:00",
          "2014-09-26T00:00:00",
          "2014-09-27T00:00:00",
          "2014-09-28T00:00:00",
          "2014-09-29T00:00:00",
          "2014-09-30T00:00:00",
          "2014-10-01T00:00:00",
          "2014-10-02T00:00:00",
          "2014-10-03T00:00:00",
          "2014-10-04T00:00:00",
          "2014-10-05T00:00:00",
          "2014-10-06T00:00:00",
          "2014-10-07T00:00:00",
          "2014-10-08T00:00:00",
          "2014-10-09T00:00:00",
          "2014-10-10T00:00:00",
          "2014-10-11T00:00:00",
          "2014-10-12T00:00:00",
          "2014-10-13T00:00:00",
          "2014-10-14T00:00:00",
          "2014-10-15T00:00:00",
          "2014-10-16T00:00:00",
          "2014-10-17T00:00:00",
          "2014-10-18T00:00:00",
          "2014-10-19T00:00:00",
          "2014-10-20T00:00:00",
          "2014-10-21T00:00:00",
          "2014-10-22T00:00:00",
          "2014-10-23T00:00:00",
          "2014-10-24T00:00:00",
          "2014-10-25T00:00:00",
          "2014-10-26T00:00:00",
          "2014-10-27T00:00:00",
          "2014-10-28T00:00:00",
          "2014-10-29T00:00:00",
          "2014-10-30T00:00:00",
          "2014-10-31T00:00:00",
          "2014-11-01T00:00:00",
          "2014-11-02T00:00:00",
          "2014-11-03T00:00:00",
          "2014-11-04T00:00:00",
          "2014-11-05T00:00:00",
          "2014-11-06T00:00:00",
          "2014-11-07T00:00:00",
          "2014-11-08T00:00:00",
          "2014-11-09T00:00:00",
          "2014-11-10T00:00:00",
          "2014-11-11T00:00:00",
          "2014-11-12T00:00:00",
          "2014-11-13T00:00:00",
          "2014-11-14T00:00:00",
          "2014-11-15T00:00:00",
          "2014-11-16T00:00:00",
          "2014-11-17T00:00:00",
          "2014-11-18T00:00:00",
          "2014-11-19T00:00:00",
          "2014-11-20T00:00:00",
          "2014-11-21T00:00:00",
          "2014-11-22T00:00:00",
          "2014-11-23T00:00:00",
          "2014-11-24T00:00:00",
          "2014-11-25T00:00:00",
          "2014-11-26T00:00:00",
          "2014-11-27T00:00:00",
          "2014-11-28T00:00:00",
          "2014-11-29T00:00:00",
          "2014-11-30T00:00:00",
          "2014-12-01T00:00:00",
          "2014-12-02T00:00:00",
          "2014-12-03T00:00:00",
          "2014-12-04T00:00:00",
          "2014-12-05T00:00:00",
          "2014-12-06T00:00:00",
          "2014-12-07T00:00:00",
          "2014-12-08T00:00:00",
          "2014-12-09T00:00:00",
          "2014-12-10T00:00:00",
          "2014-12-11T00:00:00",
          "2014-12-12T00:00:00",
          "2014-12-13T00:00:00",
          "2014-12-14T00:00:00",
          "2014-12-15T00:00:00",
          "2014-12-16T00:00:00",
          "2014-12-17T00:00:00",
          "2014-12-18T00:00:00",
          "2014-12-19T00:00:00",
          "2014-12-20T00:00:00",
          "2014-12-21T00:00:00",
          "2014-12-22T00:00:00",
          "2014-12-23T00:00:00",
          "2014-12-24T00:00:00",
          "2014-12-26T00:00:00",
          "2014-12-27T00:00:00",
          "2014-12-28T00:00:00",
          "2014-12-29T00:00:00",
          "2014-12-30T00:00:00",
          "2014-12-31T00:00:00",
          "2015-01-01T00:00:00",
          "2015-01-02T00:00:00",
          "2015-01-03T00:00:00",
          "2015-01-04T00:00:00",
          "2015-01-05T00:00:00",
          "2015-01-06T00:00:00",
          "2015-01-07T00:00:00",
          "2015-01-08T00:00:00",
          "2015-01-09T00:00:00",
          "2015-01-10T00:00:00",
          "2015-01-11T00:00:00",
          "2015-01-12T00:00:00",
          "2015-01-13T00:00:00",
          "2015-01-14T00:00:00",
          "2015-01-15T00:00:00",
          "2015-01-16T00:00:00",
          "2015-01-17T00:00:00",
          "2015-01-18T00:00:00",
          "2015-01-19T00:00:00",
          "2015-01-20T00:00:00",
          "2015-01-21T00:00:00",
          "2015-01-22T00:00:00",
          "2015-01-23T00:00:00",
          "2015-01-24T00:00:00",
          "2015-01-25T00:00:00",
          "2015-01-26T00:00:00",
          "2015-01-27T00:00:00",
          "2015-01-28T00:00:00",
          "2015-01-29T00:00:00",
          "2015-01-30T00:00:00",
          "2015-01-31T00:00:00",
          "2015-02-01T00:00:00",
          "2015-02-02T00:00:00",
          "2015-02-03T00:00:00",
          "2015-02-04T00:00:00",
          "2015-02-05T00:00:00",
          "2015-02-06T00:00:00",
          "2015-02-07T00:00:00",
          "2015-02-08T00:00:00",
          "2015-02-09T00:00:00",
          "2015-02-10T00:00:00",
          "2015-02-11T00:00:00",
          "2015-02-12T00:00:00",
          "2015-02-13T00:00:00",
          "2015-02-14T00:00:00",
          "2015-02-15T00:00:00",
          "2015-02-16T00:00:00",
          "2015-02-17T00:00:00",
          "2015-02-18T00:00:00",
          "2015-02-19T00:00:00",
          "2015-02-20T00:00:00",
          "2015-02-21T00:00:00",
          "2015-02-22T00:00:00",
          "2015-02-23T00:00:00",
          "2015-02-24T00:00:00",
          "2015-02-25T00:00:00",
          "2015-02-26T00:00:00",
          "2015-02-27T00:00:00",
          "2015-02-28T00:00:00",
          "2015-03-01T00:00:00",
          "2015-03-02T00:00:00",
          "2015-03-03T00:00:00",
          "2015-03-04T00:00:00",
          "2015-03-05T00:00:00",
          "2015-03-06T00:00:00",
          "2015-03-07T00:00:00",
          "2015-03-08T00:00:00",
          "2015-03-09T00:00:00",
          "2015-03-10T00:00:00",
          "2015-03-11T00:00:00",
          "2015-03-12T00:00:00",
          "2015-03-13T00:00:00",
          "2015-03-14T00:00:00",
          "2015-03-15T00:00:00",
          "2015-03-16T00:00:00",
          "2015-03-17T00:00:00",
          "2015-03-18T00:00:00",
          "2015-03-19T00:00:00",
          "2015-03-20T00:00:00",
          "2015-03-21T00:00:00",
          "2015-03-22T00:00:00",
          "2015-03-23T00:00:00",
          "2015-03-24T00:00:00",
          "2015-03-25T00:00:00",
          "2015-03-26T00:00:00",
          "2015-03-27T00:00:00",
          "2015-03-28T00:00:00",
          "2015-03-29T00:00:00",
          "2015-03-30T00:00:00",
          "2015-03-31T00:00:00",
          "2015-04-01T00:00:00",
          "2015-04-02T00:00:00",
          "2015-04-03T00:00:00",
          "2015-04-04T00:00:00",
          "2015-04-05T00:00:00",
          "2015-04-06T00:00:00",
          "2015-04-07T00:00:00",
          "2015-04-08T00:00:00",
          "2015-04-09T00:00:00",
          "2015-04-10T00:00:00",
          "2015-04-11T00:00:00",
          "2015-04-12T00:00:00",
          "2015-04-13T00:00:00",
          "2015-04-14T00:00:00",
          "2015-04-15T00:00:00",
          "2015-04-16T00:00:00",
          "2015-04-17T00:00:00",
          "2015-04-18T00:00:00",
          "2015-04-19T00:00:00",
          "2015-04-20T00:00:00",
          "2015-04-21T00:00:00",
          "2015-04-22T00:00:00",
          "2015-04-23T00:00:00",
          "2015-04-24T00:00:00",
          "2015-04-25T00:00:00",
          "2015-04-26T00:00:00",
          "2015-04-27T00:00:00",
          "2015-04-28T00:00:00",
          "2015-04-29T00:00:00",
          "2015-04-30T00:00:00",
          "2015-05-01T00:00:00",
          "2015-05-02T00:00:00",
          "2015-05-03T00:00:00",
          "2015-05-04T00:00:00",
          "2015-05-05T00:00:00",
          "2015-05-06T00:00:00",
          "2015-05-07T00:00:00",
          "2015-05-08T00:00:00",
          "2015-05-09T00:00:00",
          "2015-05-10T00:00:00",
          "2015-05-11T00:00:00",
          "2015-05-12T00:00:00",
          "2015-05-13T00:00:00",
          "2015-05-14T00:00:00",
          "2015-05-15T00:00:00",
          "2015-05-16T00:00:00",
          "2015-05-17T00:00:00",
          "2015-05-18T00:00:00",
          "2015-05-19T00:00:00",
          "2015-05-20T00:00:00",
          "2015-05-21T00:00:00",
          "2015-05-22T00:00:00",
          "2015-05-23T00:00:00",
          "2015-05-24T00:00:00",
          "2015-05-25T00:00:00",
          "2015-05-26T00:00:00",
          "2015-05-27T00:00:00",
          "2015-05-28T00:00:00",
          "2015-05-29T00:00:00",
          "2015-05-30T00:00:00",
          "2015-05-31T00:00:00",
          "2015-06-01T00:00:00",
          "2015-06-02T00:00:00",
          "2015-06-03T00:00:00",
          "2015-06-04T00:00:00",
          "2015-06-05T00:00:00",
          "2015-06-06T00:00:00",
          "2015-06-07T00:00:00",
          "2015-06-08T00:00:00",
          "2015-06-09T00:00:00",
          "2015-06-10T00:00:00",
          "2015-06-11T00:00:00",
          "2015-06-12T00:00:00",
          "2015-06-13T00:00:00",
          "2015-06-14T00:00:00",
          "2015-06-15T00:00:00",
          "2015-06-16T00:00:00",
          "2015-06-17T00:00:00",
          "2015-06-18T00:00:00",
          "2015-06-19T00:00:00",
          "2015-06-20T00:00:00",
          "2015-06-21T00:00:00",
          "2015-06-22T00:00:00",
          "2015-06-23T00:00:00",
          "2015-06-24T00:00:00",
          "2015-06-25T00:00:00",
          "2015-06-26T00:00:00",
          "2015-06-27T00:00:00",
          "2015-06-28T00:00:00",
          "2015-06-29T00:00:00",
          "2015-06-30T00:00:00",
          "2015-07-01T00:00:00",
          "2015-07-02T00:00:00",
          "2015-07-03T00:00:00",
          "2015-07-04T00:00:00",
          "2015-07-05T00:00:00",
          "2015-07-06T00:00:00",
          "2015-07-07T00:00:00",
          "2015-07-08T00:00:00",
          "2015-07-09T00:00:00",
          "2015-07-10T00:00:00",
          "2015-07-11T00:00:00",
          "2015-07-12T00:00:00",
          "2015-07-13T00:00:00",
          "2015-07-14T00:00:00",
          "2015-07-15T00:00:00",
          "2015-07-16T00:00:00",
          "2015-07-17T00:00:00",
          "2015-07-18T00:00:00",
          "2015-07-19T00:00:00",
          "2015-07-20T00:00:00",
          "2015-07-21T00:00:00",
          "2015-07-22T00:00:00",
          "2015-07-23T00:00:00",
          "2015-07-24T00:00:00",
          "2015-07-25T00:00:00",
          "2015-07-26T00:00:00",
          "2015-07-27T00:00:00",
          "2015-07-28T00:00:00",
          "2015-07-29T00:00:00",
          "2015-07-30T00:00:00",
          "2015-07-31T00:00:00",
          "2015-08-01T00:00:00",
          "2015-08-02T00:00:00",
          "2015-08-03T00:00:00",
          "2015-08-04T00:00:00",
          "2015-08-05T00:00:00",
          "2015-08-06T00:00:00",
          "2015-08-07T00:00:00",
          "2015-08-08T00:00:00",
          "2015-08-09T00:00:00",
          "2015-08-10T00:00:00",
          "2015-08-11T00:00:00",
          "2015-08-12T00:00:00",
          "2015-08-13T00:00:00",
          "2015-08-14T00:00:00",
          "2015-08-15T00:00:00",
          "2015-08-16T00:00:00",
          "2015-08-17T00:00:00",
          "2015-08-18T00:00:00",
          "2015-08-19T00:00:00",
          "2015-08-20T00:00:00",
          "2015-08-21T00:00:00",
          "2015-08-22T00:00:00",
          "2015-08-23T00:00:00",
          "2015-08-24T00:00:00",
          "2015-08-25T00:00:00",
          "2015-08-26T00:00:00",
          "2015-08-27T00:00:00",
          "2015-08-28T00:00:00",
          "2015-08-29T00:00:00",
          "2015-08-30T00:00:00",
          "2015-08-31T00:00:00",
          "2015-09-01T00:00:00",
          "2015-09-02T00:00:00",
          "2015-09-03T00:00:00",
          "2015-09-04T00:00:00",
          "2015-09-05T00:00:00",
          "2015-09-06T00:00:00",
          "2015-09-07T00:00:00",
          "2015-09-08T00:00:00",
          "2015-09-09T00:00:00",
          "2015-09-10T00:00:00",
          "2015-09-11T00:00:00",
          "2015-09-12T00:00:00",
          "2015-09-13T00:00:00",
          "2015-09-14T00:00:00",
          "2015-09-15T00:00:00",
          "2015-09-16T00:00:00",
          "2015-09-17T00:00:00",
          "2015-09-18T00:00:00",
          "2015-09-19T00:00:00",
          "2015-09-20T00:00:00",
          "2015-09-21T00:00:00",
          "2015-09-22T00:00:00",
          "2015-09-23T00:00:00",
          "2015-09-24T00:00:00",
          "2015-09-25T00:00:00",
          "2015-09-26T00:00:00",
          "2015-09-27T00:00:00",
          "2015-09-28T00:00:00",
          "2015-09-29T00:00:00",
          "2015-09-30T00:00:00",
          "2015-10-01T00:00:00",
          "2015-10-02T00:00:00",
          "2015-10-03T00:00:00",
          "2015-10-04T00:00:00",
          "2015-10-05T00:00:00",
          "2015-10-06T00:00:00",
          "2015-10-07T00:00:00",
          "2015-10-08T00:00:00",
          "2015-10-09T00:00:00",
          "2015-10-10T00:00:00",
          "2015-10-11T00:00:00",
          "2015-10-12T00:00:00",
          "2015-10-13T00:00:00",
          "2015-10-14T00:00:00",
          "2015-10-15T00:00:00",
          "2015-10-16T00:00:00",
          "2015-10-17T00:00:00",
          "2015-10-18T00:00:00",
          "2015-10-19T00:00:00",
          "2015-10-20T00:00:00",
          "2015-10-21T00:00:00",
          "2015-10-22T00:00:00",
          "2015-10-23T00:00:00",
          "2015-10-24T00:00:00",
          "2015-10-25T00:00:00",
          "2015-10-26T00:00:00",
          "2015-10-27T00:00:00",
          "2015-10-28T00:00:00",
          "2015-10-29T00:00:00",
          "2015-10-30T00:00:00",
          "2015-10-31T00:00:00",
          "2015-11-01T00:00:00",
          "2015-11-02T00:00:00",
          "2015-11-03T00:00:00",
          "2015-11-04T00:00:00",
          "2015-11-05T00:00:00",
          "2015-11-06T00:00:00",
          "2015-11-07T00:00:00",
          "2015-11-08T00:00:00",
          "2015-11-09T00:00:00",
          "2015-11-10T00:00:00",
          "2015-11-11T00:00:00",
          "2015-11-12T00:00:00",
          "2015-11-13T00:00:00",
          "2015-11-14T00:00:00",
          "2015-11-15T00:00:00",
          "2015-11-16T00:00:00",
          "2015-11-17T00:00:00",
          "2015-11-18T00:00:00",
          "2015-11-19T00:00:00",
          "2015-11-20T00:00:00",
          "2015-11-21T00:00:00",
          "2015-11-22T00:00:00",
          "2015-11-23T00:00:00",
          "2015-11-24T00:00:00",
          "2015-11-25T00:00:00",
          "2015-11-26T00:00:00",
          "2015-11-27T00:00:00",
          "2015-11-28T00:00:00",
          "2015-11-29T00:00:00",
          "2015-11-30T00:00:00",
          "2015-12-01T00:00:00",
          "2015-12-02T00:00:00",
          "2015-12-03T00:00:00",
          "2015-12-04T00:00:00",
          "2015-12-05T00:00:00",
          "2015-12-06T00:00:00",
          "2015-12-07T00:00:00",
          "2015-12-08T00:00:00",
          "2015-12-09T00:00:00",
          "2015-12-10T00:00:00",
          "2015-12-11T00:00:00",
          "2015-12-12T00:00:00",
          "2015-12-13T00:00:00",
          "2015-12-14T00:00:00",
          "2015-12-15T00:00:00",
          "2015-12-16T00:00:00",
          "2015-12-17T00:00:00",
          "2015-12-18T00:00:00",
          "2015-12-19T00:00:00",
          "2015-12-20T00:00:00",
          "2015-12-21T00:00:00",
          "2015-12-22T00:00:00",
          "2015-12-23T00:00:00",
          "2015-12-24T00:00:00",
          "2015-12-26T00:00:00",
          "2015-12-27T00:00:00",
          "2015-12-28T00:00:00",
          "2015-12-29T00:00:00",
          "2015-12-30T00:00:00",
          "2015-12-31T00:00:00",
          "2016-01-01T00:00:00",
          "2016-01-02T00:00:00",
          "2016-01-03T00:00:00",
          "2016-01-04T00:00:00",
          "2016-01-05T00:00:00",
          "2016-01-06T00:00:00",
          "2016-01-07T00:00:00",
          "2016-01-08T00:00:00",
          "2016-01-09T00:00:00",
          "2016-01-10T00:00:00",
          "2016-01-11T00:00:00",
          "2016-01-12T00:00:00",
          "2016-01-13T00:00:00",
          "2016-01-14T00:00:00",
          "2016-01-15T00:00:00",
          "2016-01-16T00:00:00",
          "2016-01-17T00:00:00",
          "2016-01-18T00:00:00",
          "2016-01-19T00:00:00",
          "2016-01-20T00:00:00",
          "2016-01-21T00:00:00",
          "2016-01-22T00:00:00",
          "2016-01-23T00:00:00",
          "2016-01-24T00:00:00",
          "2016-01-25T00:00:00",
          "2016-01-26T00:00:00",
          "2016-01-27T00:00:00",
          "2016-01-28T00:00:00",
          "2016-01-29T00:00:00",
          "2016-01-30T00:00:00",
          "2016-01-31T00:00:00",
          "2016-02-01T00:00:00",
          "2016-02-02T00:00:00",
          "2016-02-03T00:00:00",
          "2016-02-04T00:00:00",
          "2016-02-05T00:00:00",
          "2016-02-06T00:00:00",
          "2016-02-07T00:00:00",
          "2016-02-08T00:00:00",
          "2016-02-09T00:00:00",
          "2016-02-10T00:00:00",
          "2016-02-11T00:00:00",
          "2016-02-12T00:00:00",
          "2016-02-13T00:00:00",
          "2016-02-14T00:00:00",
          "2016-02-15T00:00:00",
          "2016-02-16T00:00:00",
          "2016-02-17T00:00:00",
          "2016-02-18T00:00:00",
          "2016-02-19T00:00:00",
          "2016-02-20T00:00:00",
          "2016-02-21T00:00:00",
          "2016-02-22T00:00:00",
          "2016-02-23T00:00:00",
          "2016-02-24T00:00:00",
          "2016-02-25T00:00:00",
          "2016-02-26T00:00:00",
          "2016-02-27T00:00:00",
          "2016-02-28T00:00:00",
          "2016-02-29T00:00:00",
          "2016-03-01T00:00:00",
          "2016-03-02T00:00:00",
          "2016-03-03T00:00:00",
          "2016-03-04T00:00:00",
          "2016-03-05T00:00:00",
          "2016-03-06T00:00:00",
          "2016-03-07T00:00:00",
          "2016-03-08T00:00:00",
          "2016-03-09T00:00:00",
          "2016-03-10T00:00:00",
          "2016-03-11T00:00:00",
          "2016-03-12T00:00:00",
          "2016-03-13T00:00:00",
          "2016-03-14T00:00:00",
          "2016-03-15T00:00:00",
          "2016-03-16T00:00:00",
          "2016-03-17T00:00:00",
          "2016-03-18T00:00:00",
          "2016-03-19T00:00:00",
          "2016-03-20T00:00:00",
          "2016-03-21T00:00:00",
          "2016-03-22T00:00:00",
          "2016-03-23T00:00:00",
          "2016-03-24T00:00:00",
          "2016-03-25T00:00:00",
          "2016-03-26T00:00:00",
          "2016-03-27T00:00:00",
          "2016-03-28T00:00:00",
          "2016-03-29T00:00:00",
          "2016-03-30T00:00:00",
          "2016-03-31T00:00:00",
          "2016-04-01T00:00:00",
          "2016-04-02T00:00:00",
          "2016-04-03T00:00:00",
          "2016-04-04T00:00:00",
          "2016-04-05T00:00:00",
          "2016-04-06T00:00:00",
          "2016-04-07T00:00:00",
          "2016-04-08T00:00:00",
          "2016-04-09T00:00:00",
          "2016-04-10T00:00:00",
          "2016-04-11T00:00:00",
          "2016-04-12T00:00:00",
          "2016-04-13T00:00:00",
          "2016-04-14T00:00:00",
          "2016-04-15T00:00:00",
          "2016-04-16T00:00:00",
          "2016-04-17T00:00:00",
          "2016-04-18T00:00:00",
          "2016-04-19T00:00:00",
          "2016-04-20T00:00:00",
          "2016-04-21T00:00:00",
          "2016-04-22T00:00:00",
          "2016-04-23T00:00:00",
          "2016-04-24T00:00:00",
          "2016-04-25T00:00:00",
          "2016-04-26T00:00:00",
          "2016-04-27T00:00:00",
          "2016-04-28T00:00:00",
          "2016-04-29T00:00:00",
          "2016-04-30T00:00:00",
          "2016-05-01T00:00:00",
          "2016-05-02T00:00:00",
          "2016-05-03T00:00:00",
          "2016-05-04T00:00:00",
          "2016-05-05T00:00:00",
          "2016-05-06T00:00:00",
          "2016-05-07T00:00:00",
          "2016-05-08T00:00:00",
          "2016-05-09T00:00:00",
          "2016-05-10T00:00:00",
          "2016-05-11T00:00:00",
          "2016-05-12T00:00:00",
          "2016-05-13T00:00:00",
          "2016-05-14T00:00:00",
          "2016-05-15T00:00:00",
          "2016-05-16T00:00:00",
          "2016-05-17T00:00:00",
          "2016-05-18T00:00:00",
          "2016-05-19T00:00:00",
          "2016-05-20T00:00:00",
          "2016-05-21T00:00:00",
          "2016-05-22T00:00:00",
          "2016-05-23T00:00:00",
          "2016-05-24T00:00:00",
          "2016-05-25T00:00:00",
          "2016-05-26T00:00:00",
          "2016-05-27T00:00:00",
          "2016-05-28T00:00:00",
          "2016-05-29T00:00:00",
          "2016-05-30T00:00:00",
          "2016-05-31T00:00:00",
          "2016-06-01T00:00:00",
          "2016-06-02T00:00:00",
          "2016-06-03T00:00:00",
          "2016-06-04T00:00:00",
          "2016-06-05T00:00:00",
          "2016-06-06T00:00:00",
          "2016-06-07T00:00:00",
          "2016-06-08T00:00:00",
          "2016-06-09T00:00:00",
          "2016-06-10T00:00:00",
          "2016-06-11T00:00:00",
          "2016-06-12T00:00:00",
          "2016-06-13T00:00:00",
          "2016-06-14T00:00:00",
          "2016-06-15T00:00:00",
          "2016-06-16T00:00:00",
          "2016-06-17T00:00:00",
          "2016-06-18T00:00:00",
          "2016-06-19T00:00:00",
          "2016-06-20T00:00:00",
          "2016-06-21T00:00:00",
          "2016-06-22T00:00:00",
          "2016-06-23T00:00:00",
          "2016-06-24T00:00:00",
          "2016-06-25T00:00:00",
          "2016-06-26T00:00:00",
          "2016-06-27T00:00:00",
          "2016-06-28T00:00:00",
          "2016-06-29T00:00:00",
          "2016-06-30T00:00:00",
          "2016-07-01T00:00:00",
          "2016-07-02T00:00:00",
          "2016-07-03T00:00:00",
          "2016-07-04T00:00:00",
          "2016-07-05T00:00:00",
          "2016-07-06T00:00:00",
          "2016-07-07T00:00:00",
          "2016-07-08T00:00:00",
          "2016-07-09T00:00:00",
          "2016-07-10T00:00:00",
          "2016-07-11T00:00:00",
          "2016-07-12T00:00:00",
          "2016-07-13T00:00:00",
          "2016-07-14T00:00:00",
          "2016-07-15T00:00:00",
          "2016-07-16T00:00:00",
          "2016-07-17T00:00:00",
          "2016-07-18T00:00:00",
          "2016-07-19T00:00:00",
          "2016-07-20T00:00:00",
          "2016-07-21T00:00:00",
          "2016-07-22T00:00:00",
          "2016-07-23T00:00:00",
          "2016-07-24T00:00:00",
          "2016-07-25T00:00:00",
          "2016-07-26T00:00:00",
          "2016-07-27T00:00:00",
          "2016-07-28T00:00:00",
          "2016-07-29T00:00:00",
          "2016-07-30T00:00:00",
          "2016-07-31T00:00:00",
          "2016-08-01T00:00:00",
          "2016-08-02T00:00:00",
          "2016-08-03T00:00:00",
          "2016-08-04T00:00:00",
          "2016-08-05T00:00:00",
          "2016-08-06T00:00:00",
          "2016-08-07T00:00:00",
          "2016-08-08T00:00:00",
          "2016-08-09T00:00:00",
          "2016-08-10T00:00:00",
          "2016-08-11T00:00:00",
          "2016-08-12T00:00:00",
          "2016-08-13T00:00:00",
          "2016-08-14T00:00:00",
          "2016-08-15T00:00:00",
          "2016-08-16T00:00:00",
          "2016-08-17T00:00:00",
          "2016-08-18T00:00:00",
          "2016-08-19T00:00:00",
          "2016-08-20T00:00:00",
          "2016-08-21T00:00:00",
          "2016-08-22T00:00:00",
          "2016-08-23T00:00:00",
          "2016-08-24T00:00:00",
          "2016-08-25T00:00:00",
          "2016-08-26T00:00:00",
          "2016-08-27T00:00:00",
          "2016-08-28T00:00:00",
          "2016-08-29T00:00:00",
          "2016-08-30T00:00:00",
          "2016-08-31T00:00:00",
          "2016-09-01T00:00:00",
          "2016-09-02T00:00:00",
          "2016-09-03T00:00:00",
          "2016-09-04T00:00:00",
          "2016-09-05T00:00:00",
          "2016-09-06T00:00:00",
          "2016-09-07T00:00:00",
          "2016-09-08T00:00:00",
          "2016-09-09T00:00:00",
          "2016-09-10T00:00:00",
          "2016-09-11T00:00:00",
          "2016-09-12T00:00:00",
          "2016-09-13T00:00:00",
          "2016-09-14T00:00:00",
          "2016-09-15T00:00:00",
          "2016-09-16T00:00:00",
          "2016-09-17T00:00:00",
          "2016-09-18T00:00:00",
          "2016-09-19T00:00:00",
          "2016-09-20T00:00:00",
          "2016-09-21T00:00:00",
          "2016-09-22T00:00:00",
          "2016-09-23T00:00:00",
          "2016-09-24T00:00:00",
          "2016-09-25T00:00:00",
          "2016-09-26T00:00:00",
          "2016-09-27T00:00:00",
          "2016-09-28T00:00:00",
          "2016-09-29T00:00:00",
          "2016-09-30T00:00:00",
          "2016-10-01T00:00:00",
          "2016-10-02T00:00:00",
          "2016-10-03T00:00:00",
          "2016-10-04T00:00:00",
          "2016-10-05T00:00:00",
          "2016-10-06T00:00:00",
          "2016-10-07T00:00:00",
          "2016-10-08T00:00:00",
          "2016-10-09T00:00:00",
          "2016-10-10T00:00:00",
          "2016-10-11T00:00:00",
          "2016-10-12T00:00:00",
          "2016-10-13T00:00:00",
          "2016-10-14T00:00:00",
          "2016-10-15T00:00:00",
          "2016-10-16T00:00:00",
          "2016-10-17T00:00:00",
          "2016-10-18T00:00:00",
          "2016-10-19T00:00:00",
          "2016-10-20T00:00:00",
          "2016-10-21T00:00:00",
          "2016-10-22T00:00:00",
          "2016-10-23T00:00:00",
          "2016-10-24T00:00:00",
          "2016-10-25T00:00:00",
          "2016-10-26T00:00:00",
          "2016-10-27T00:00:00",
          "2016-10-28T00:00:00",
          "2016-10-29T00:00:00",
          "2016-10-30T00:00:00",
          "2016-10-31T00:00:00",
          "2016-11-01T00:00:00",
          "2016-11-02T00:00:00",
          "2016-11-03T00:00:00",
          "2016-11-04T00:00:00",
          "2016-11-05T00:00:00",
          "2016-11-06T00:00:00",
          "2016-11-07T00:00:00",
          "2016-11-08T00:00:00",
          "2016-11-09T00:00:00",
          "2016-11-10T00:00:00",
          "2016-11-11T00:00:00",
          "2016-11-12T00:00:00",
          "2016-11-13T00:00:00",
          "2016-11-14T00:00:00",
          "2016-11-15T00:00:00",
          "2016-11-16T00:00:00",
          "2016-11-17T00:00:00",
          "2016-11-18T00:00:00",
          "2016-11-19T00:00:00",
          "2016-11-20T00:00:00",
          "2016-11-21T00:00:00",
          "2016-11-22T00:00:00",
          "2016-11-23T00:00:00",
          "2016-11-24T00:00:00",
          "2016-11-25T00:00:00",
          "2016-11-26T00:00:00",
          "2016-11-27T00:00:00",
          "2016-11-28T00:00:00",
          "2016-11-29T00:00:00",
          "2016-11-30T00:00:00",
          "2016-12-01T00:00:00",
          "2016-12-02T00:00:00",
          "2016-12-03T00:00:00",
          "2016-12-04T00:00:00",
          "2016-12-05T00:00:00",
          "2016-12-06T00:00:00",
          "2016-12-07T00:00:00",
          "2016-12-08T00:00:00",
          "2016-12-09T00:00:00",
          "2016-12-10T00:00:00",
          "2016-12-11T00:00:00",
          "2016-12-12T00:00:00",
          "2016-12-13T00:00:00",
          "2016-12-14T00:00:00",
          "2016-12-15T00:00:00",
          "2016-12-16T00:00:00",
          "2016-12-17T00:00:00",
          "2016-12-18T00:00:00",
          "2016-12-19T00:00:00",
          "2016-12-20T00:00:00",
          "2016-12-21T00:00:00",
          "2016-12-22T00:00:00",
          "2016-12-23T00:00:00",
          "2016-12-24T00:00:00",
          "2016-12-26T00:00:00",
          "2016-12-27T00:00:00",
          "2016-12-28T00:00:00",
          "2016-12-29T00:00:00",
          "2016-12-30T00:00:00",
          "2016-12-31T00:00:00",
          "2017-01-01T00:00:00",
          "2017-01-02T00:00:00",
          "2017-01-03T00:00:00",
          "2017-01-04T00:00:00",
          "2017-01-05T00:00:00",
          "2017-01-06T00:00:00",
          "2017-01-07T00:00:00",
          "2017-01-08T00:00:00",
          "2017-01-09T00:00:00",
          "2017-01-10T00:00:00",
          "2017-01-11T00:00:00",
          "2017-01-12T00:00:00",
          "2017-01-13T00:00:00",
          "2017-01-14T00:00:00",
          "2017-01-15T00:00:00",
          "2017-01-16T00:00:00",
          "2017-01-17T00:00:00",
          "2017-01-18T00:00:00",
          "2017-01-19T00:00:00",
          "2017-01-20T00:00:00",
          "2017-01-21T00:00:00",
          "2017-01-22T00:00:00",
          "2017-01-23T00:00:00",
          "2017-01-24T00:00:00",
          "2017-01-25T00:00:00",
          "2017-01-26T00:00:00",
          "2017-01-27T00:00:00",
          "2017-01-28T00:00:00",
          "2017-01-29T00:00:00",
          "2017-01-30T00:00:00",
          "2017-01-31T00:00:00",
          "2017-02-01T00:00:00",
          "2017-02-02T00:00:00",
          "2017-02-03T00:00:00",
          "2017-02-04T00:00:00",
          "2017-02-05T00:00:00",
          "2017-02-06T00:00:00",
          "2017-02-07T00:00:00",
          "2017-02-08T00:00:00",
          "2017-02-09T00:00:00",
          "2017-02-10T00:00:00",
          "2017-02-11T00:00:00",
          "2017-02-12T00:00:00",
          "2017-02-13T00:00:00",
          "2017-02-14T00:00:00",
          "2017-02-15T00:00:00",
          "2017-02-16T00:00:00",
          "2017-02-17T00:00:00",
          "2017-02-18T00:00:00",
          "2017-02-19T00:00:00",
          "2017-02-20T00:00:00",
          "2017-02-21T00:00:00",
          "2017-02-22T00:00:00",
          "2017-02-23T00:00:00",
          "2017-02-24T00:00:00",
          "2017-02-25T00:00:00",
          "2017-02-26T00:00:00",
          "2017-02-27T00:00:00",
          "2017-02-28T00:00:00",
          "2017-03-01T00:00:00",
          "2017-03-02T00:00:00",
          "2017-03-03T00:00:00",
          "2017-03-04T00:00:00",
          "2017-03-05T00:00:00",
          "2017-03-06T00:00:00",
          "2017-03-07T00:00:00",
          "2017-03-08T00:00:00",
          "2017-03-09T00:00:00",
          "2017-03-10T00:00:00",
          "2017-03-11T00:00:00",
          "2017-03-12T00:00:00",
          "2017-03-13T00:00:00",
          "2017-03-14T00:00:00",
          "2017-03-15T00:00:00",
          "2017-03-16T00:00:00",
          "2017-03-17T00:00:00",
          "2017-03-18T00:00:00",
          "2017-03-19T00:00:00",
          "2017-03-20T00:00:00",
          "2017-03-21T00:00:00",
          "2017-03-22T00:00:00",
          "2017-03-23T00:00:00",
          "2017-03-24T00:00:00",
          "2017-03-25T00:00:00",
          "2017-03-26T00:00:00",
          "2017-03-27T00:00:00",
          "2017-03-28T00:00:00",
          "2017-03-29T00:00:00",
          "2017-03-30T00:00:00",
          "2017-03-31T00:00:00",
          "2017-04-01T00:00:00",
          "2017-04-02T00:00:00",
          "2017-04-03T00:00:00",
          "2017-04-04T00:00:00",
          "2017-04-05T00:00:00",
          "2017-04-06T00:00:00",
          "2017-04-07T00:00:00",
          "2017-04-08T00:00:00",
          "2017-04-09T00:00:00",
          "2017-04-10T00:00:00",
          "2017-04-11T00:00:00",
          "2017-04-12T00:00:00",
          "2017-04-13T00:00:00",
          "2017-04-14T00:00:00",
          "2017-04-15T00:00:00",
          "2017-04-16T00:00:00",
          "2017-04-17T00:00:00",
          "2017-04-18T00:00:00",
          "2017-04-19T00:00:00",
          "2017-04-20T00:00:00",
          "2017-04-21T00:00:00",
          "2017-04-22T00:00:00",
          "2017-04-23T00:00:00",
          "2017-04-24T00:00:00",
          "2017-04-25T00:00:00",
          "2017-04-26T00:00:00",
          "2017-04-27T00:00:00",
          "2017-04-28T00:00:00",
          "2017-04-29T00:00:00",
          "2017-04-30T00:00:00",
          "2017-05-01T00:00:00",
          "2017-05-02T00:00:00",
          "2017-05-03T00:00:00",
          "2017-05-04T00:00:00",
          "2017-05-05T00:00:00",
          "2017-05-06T00:00:00",
          "2017-05-07T00:00:00",
          "2017-05-08T00:00:00",
          "2017-05-09T00:00:00",
          "2017-05-10T00:00:00",
          "2017-05-11T00:00:00",
          "2017-05-12T00:00:00",
          "2017-05-13T00:00:00",
          "2017-05-14T00:00:00",
          "2017-05-15T00:00:00",
          "2017-05-16T00:00:00",
          "2017-05-17T00:00:00",
          "2017-05-18T00:00:00",
          "2017-05-19T00:00:00",
          "2017-05-20T00:00:00",
          "2017-05-21T00:00:00",
          "2017-05-22T00:00:00",
          "2017-05-23T00:00:00",
          "2017-05-24T00:00:00",
          "2017-05-25T00:00:00",
          "2017-05-26T00:00:00",
          "2017-05-27T00:00:00",
          "2017-05-28T00:00:00",
          "2017-05-29T00:00:00",
          "2017-05-30T00:00:00",
          "2017-05-31T00:00:00",
          "2017-06-01T00:00:00",
          "2017-06-02T00:00:00",
          "2017-06-03T00:00:00",
          "2017-06-04T00:00:00",
          "2017-06-05T00:00:00",
          "2017-06-06T00:00:00",
          "2017-06-07T00:00:00",
          "2017-06-08T00:00:00",
          "2017-06-09T00:00:00",
          "2017-06-10T00:00:00",
          "2017-06-11T00:00:00",
          "2017-06-12T00:00:00",
          "2017-06-13T00:00:00",
          "2017-06-14T00:00:00",
          "2017-06-15T00:00:00",
          "2017-06-16T00:00:00",
          "2017-06-17T00:00:00",
          "2017-06-18T00:00:00",
          "2017-06-19T00:00:00",
          "2017-06-20T00:00:00",
          "2017-06-21T00:00:00",
          "2017-06-22T00:00:00",
          "2017-06-23T00:00:00",
          "2017-06-24T00:00:00",
          "2017-06-25T00:00:00",
          "2017-06-26T00:00:00",
          "2017-06-27T00:00:00",
          "2017-06-28T00:00:00",
          "2017-06-29T00:00:00",
          "2017-06-30T00:00:00",
          "2017-07-01T00:00:00",
          "2017-07-02T00:00:00",
          "2017-07-03T00:00:00",
          "2017-07-04T00:00:00",
          "2017-07-05T00:00:00",
          "2017-07-06T00:00:00",
          "2017-07-07T00:00:00",
          "2017-07-08T00:00:00",
          "2017-07-09T00:00:00",
          "2017-07-10T00:00:00",
          "2017-07-11T00:00:00",
          "2017-07-12T00:00:00",
          "2017-07-13T00:00:00",
          "2017-07-14T00:00:00",
          "2017-07-15T00:00:00",
          "2017-07-16T00:00:00",
          "2017-07-17T00:00:00",
          "2017-07-18T00:00:00",
          "2017-07-19T00:00:00",
          "2017-07-20T00:00:00",
          "2017-07-21T00:00:00",
          "2017-07-22T00:00:00",
          "2017-07-23T00:00:00",
          "2017-07-24T00:00:00",
          "2017-07-25T00:00:00",
          "2017-07-26T00:00:00",
          "2017-07-27T00:00:00",
          "2017-07-28T00:00:00",
          "2017-07-29T00:00:00",
          "2017-07-30T00:00:00",
          "2017-07-31T00:00:00",
          "2017-08-01T00:00:00",
          "2017-08-02T00:00:00",
          "2017-08-03T00:00:00",
          "2017-08-04T00:00:00",
          "2017-08-05T00:00:00",
          "2017-08-06T00:00:00",
          "2017-08-07T00:00:00",
          "2017-08-08T00:00:00",
          "2017-08-09T00:00:00",
          "2017-08-10T00:00:00",
          "2017-08-11T00:00:00",
          "2017-08-12T00:00:00",
          "2017-08-13T00:00:00",
          "2017-08-14T00:00:00",
          "2017-08-15T00:00:00"
         ],
         "xaxis": "x",
         "y": [
          4430.993,
          30095.181,
          20447.057,
          22795.799,
          31382.508,
          36069.345,
          21025.329,
          32109.757,
          21296.042004,
          15522.82798,
          19738.47498,
          25418.678,
          31129.350000000002,
          17518.412,
          15761.721,
          21994.873,
          14999.145,
          19238.57502,
          29145.70396,
          31897.75303,
          17632.768,
          29963.041999999998,
          17574.106,
          12230.94998,
          18529.643,
          26769.391,
          28839.307,
          15423.466,
          14607.175,
          17236.404,
          13467.855,
          22294.816,
          32618.54397,
          31751.366,
          17728.195,
          16512.018995,
          20066.783,
          16506.634000000002,
          18985.489005,
          22806.965004,
          16419.163,
          17130.39,
          21691.158,
          18051.50398,
          18872.218004,
          19068.482,
          32582.67696,
          24503.894,
          19797.048,
          14658.543,
          19929.391,
          13970.993,
          17469.76,
          26033.812,
          30505.36303,
          19499.08904,
          14784.476004,
          16250.759,
          14857.52002,
          22270.176,
          32798.856,
          38181.899,
          20911.8,
          21365.32598,
          21711.109,
          15394.973,
          26132.240999999998,
          29951.63497,
          30386.64104,
          17089.015,
          15752.124,
          19609.154,
          13119.796999999999,
          18609.6001,
          30441.078,
          34892.567,
          18203.304,
          15874.448999999999,
          19657.66,
          14880.33397,
          18411.19799,
          28803.287,
          29504.92494,
          17026.287,
          11090.212,
          20180.98101,
          17541.689,
          21393.413,
          25750.003,
          27281.635,
          23812.061999999998,
          18911.76104,
          22686.992000000002,
          16390.74098,
          19861.856,
          34105.411,
          35840.16896,
          19095.92498,
          15986.89,
          18763.54098,
          25121.68502,
          17896.815,
          28717.04396,
          30727.966,
          17175.006,
          18734.07102,
          20281.665,
          14613.58798,
          18418.77102,
          31940.41297,
          34161.373,
          17595.709,
          19494.95396,
          21656.471996,
          14097.76898,
          18063.70493,
          28625.561,
          31498.599,
          15882.329,
          16726.380004,
          32403.07196,
          16732.446,
          20307.881,
          32686.795000000002,
          35122.784,
          19113.395996,
          17208.600055,
          22033.699950000002,
          15910.097,
          19872.198,
          33235.071,
          21028.07,
          18201.79303,
          16103.760995,
          20636.25501,
          16731.731,
          18508.32502,
          30071.30494,
          30169.425,
          18731.98902,
          23968.809,
          19134.037,
          15289.211000000001,
          23864.536,
          23364.938000000002,
          25866.678,
          16393.94995,
          15671.846019999999,
          18336.311,
          14867.07198,
          19986.79598,
          33549.18697,
          34257.964,
          24061.683,
          19372.717025,
          21612.54896,
          22572.038999999997,
          21082.201,
          28157.82,
          31103.634,
          18317.678,
          9067.748,
          20190.51397,
          15515.116,
          19448.78,
          31677.276,
          25512.193,
          20971.606,
          16529.624,
          19371.832,
          14823.9,
          17997.704999999998,
          27135.50703,
          30147.9071,
          17430.38497,
          16086.064,
          17885.09,
          13367.374,
          18571.285975,
          28918.57103,
          30647.135,
          22435.429,
          18992.21,
          22594.334964,
          16342.848,
          19716.326,
          28221.622,
          30067.878,
          23736.041995,
          16194.452,
          19083.094,
          14926.503002000001,
          19570.1461,
          25551.453,
          26430.766900000002,
          18433.810999999998,
          18956.344,
          19327.877,
          14413.33296,
          18460.795000000002,
          27066.738,
          25648.429,
          18184.386996,
          17178.475,
          18275.443,
          14697.380000000001,
          18334.66802,
          25032.70603,
          25934.157,
          15982.595004,
          16544.708,
          21213.629,
          19674.833004,
          21796.648,
          27782.083,
          28971.977,
          20281.915979999998,
          16580.21302,
          20773.107,
          15136.22898,
          18776.961,
          23900.353,
          24592.702,
          17999.44203,
          15731.28603,
          27273.263,
          14313.863003999999,
          21132.7649,
          25991.805,
          28210.74197,
          17520.15698,
          16271.089,
          18742.41698,
          15319.284,
          18760.6771,
          24856.625,
          27013.72,
          19270.846,
          16836.177,
          20119.064,
          16342.876004,
          20108.851,
          32721.901,
          39680.56186,
          24041.972999999998,
          21102.799,
          22985.879,
          15870.138995000001,
          19587.69,
          33419.726,
          34310.45497,
          27969.502,
          15571.527979999999,
          19347.83,
          16717.59202,
          19314.525999999998,
          29248.576,
          32548.023,
          19569.348,
          15575.609,
          19114.14398,
          13765.261,
          19475.93105,
          28572.5511,
          29860.1169,
          19300.57,
          15040.373995,
          20191.385,
          14082.235,
          17421.79297,
          29274.957000000002,
          33667.266,
          17504.325,
          21496.926,
          24277.869,
          18228.32396,
          22577.46401,
          33031.783,
          35826.801999999996,
          19676.989,
          15810.702,
          19608.898,
          14949.693,
          9901.369,
          25805.34996,
          27805.43998,
          17257.346995,
          15191.979995,
          21417.242,
          24336.704980000002,
          20494.814,
          32384.713,
          34755.346,
          17788.627,
          14769.623,
          19598.106,
          14100.944,
          18478.785,
          28321.6199,
          30392.536,
          17238.931,
          15493.799,
          19402.935999999998,
          13095.737,
          24611.41199,
          34257.548,
          36307.784,
          21289.25797,
          19676.962,
          22878.09,
          20842.612979999998,
          21331.824,
          34375.283,
          36188.38,
          21203.853,
          20942.147,
          21011.626,
          16602.626,
          21800.019,
          35513.099,
          37887.497,
          21014.880998,
          18417.246,
          20758.32393,
          15725.33098,
          21721.107,
          30902.990999999998,
          35309.196,
          20636.88,
          18771.03,
          21559.955,
          16013.36398,
          21273.3171,
          32135.5329,
          46422.157,
          24624.881,
          25119.819030000002,
          24250.329999999998,
          18840.623995,
          31338.4489,
          32877.163,
          36016.826,
          25644.45,
          26656.403,
          30728.707000000002,
          23076.183,
          26620.41,
          36116.058,
          42092.115,
          29312.314996,
          25699.445499999998,
          30926.5624,
          28019.1935,
          26921.8666,
          36097.1515,
          37116.6655,
          32584.941600000002,
          24526.033,
          22924.3731,
          23745.0961,
          25482.50296,
          25062.428,
          32170.490999999998,
          21858.742,
          4430.993,
          47024.630000000005,
          42599.8299,
          66224.098,
          67394.9425,
          35479.563969999996,
          33580.124,
          46992.093,
          31824.837,
          36090.15382,
          55630.36,
          56970.429000000004,
          34139.751000000004,
          28619.93202,
          36914.54503,
          32441.581005,
          36528.0114,
          56954.546,
          57108.134,
          44123.681000000004,
          31216.80302,
          39696.2649,
          26562.924000000003,
          33638.3732,
          50336.988,
          54292.42599,
          31841.58399,
          26648.06,
          35791.32298,
          27103.36097,
          34240.683020000004,
          38545.720030000004,
          38334.13,
          23293.14902,
          19283.974026,
          24106.276,
          19545.262,
          22461.0052,
          31493.50997,
          31436.724,
          20699.438000000002,
          19062.98,
          22616.42802,
          18793.61702,
          18833.928,
          33489.2699,
          33559.76689,
          22465.329,
          19353.30297,
          22963.304,
          17429.65703,
          19806.878099999998,
          33223.683899999996,
          28292.816,
          20883.012996,
          27000.984,
          19054.396034999998,
          17144.783,
          22526.049,
          53867.67803,
          42455.376,
          41354.459,
          53082.461,
          42861.101,
          36285.962,
          35323.349,
          49641.777,
          65236.288,
          35022.716,
          32751.994,
          41069.02597,
          28479.314000000002,
          31221.1149,
          50209.351989999996,
          69833.366,
          35288.98,
          29881.96,
          40301.240996,
          28380.389,
          33102.3863,
          55151.025,
          61070.6901,
          32621.523,
          40972.223,
          39789.373,
          26546.899,
          33682.1213,
          58404.1379,
          62621.939,
          37292.342,
          25795.309999999998,
          26778.774,
          19494.696,
          24838.8032,
          39148.23097,
          44150.856999999996,
          23442.186,
          20750.016,
          23151.396,
          17810.947996,
          22522.9074,
          34460.062,
          36157.49797,
          21771.858,
          20091.358015,
          26306.105,
          20136.201,
          26399.479,
          30574.836,
          33703.25501,
          22809.098,
          29583.742000000002,
          22588.811,
          18038.154,
          20097.688,
          33079.020000000004,
          37814.516,
          20560.411,
          17166.632002000002,
          21151.276,
          32626.414,
          25433.4442,
          37058.75703,
          40410.051,
          23503.752,
          20478.337994999998,
          25011.95401,
          16930.431,
          23459.0435,
          37298.6771,
          25713.196,
          21146.045,
          20078.082000000002,
          22226.753996,
          27578.50695,
          23266.30298,
          34412.45197,
          40186.64,
          21452.155,
          17575.336,
          21326.734,
          18292.761,
          21697.3613,
          31196.215,
          35615.1291,
          21149.048,
          18214.23202,
          21139.673,
          16065.006,
          22692.8241,
          34071.326,
          45746.361,
          26885.239999999998,
          23017.072,
          25767.83002,
          18599.567020000002,
          24965.048,
          33788.094,
          33953.34599,
          22558.201,
          17574.672,
          22662.139,
          17963.107,
          24853.1865,
          39771.190500000004,
          21852.582024,
          25087.072,
          20307.715,
          22039.20303,
          18725.544,
          19765.7377,
          33907.945999999996,
          35434.051,
          33421.347,
          19632.886,
          18506.561,
          18178.56698,
          21626.338,
          29778,
          33155.78,
          22789.352,
          40447.494,
          50616.442,
          34998.176,
          35662.77099,
          50965.708,
          64068.527,
          37039.867,
          31809.408,
          40275.27,
          29022.609,
          37861.54,
          53590.55697,
          46165.933,
          36774.152,
          32841.531004,
          45677.125,
          29882.358996,
          34775.24311,
          50027.627,
          50306.461,
          35054.345,
          32111.938,
          42585.843,
          28092.80304,
          48399.257995,
          47298.36,
          50479.52297,
          35186.050004000004,
          31343.13597,
          38118.313,
          32168.346999999998,
          27042.526,
          36954.818999999996,
          34795.486,
          25818.219,
          21754.34,
          23769.505979999998,
          19047.866,
          23582.24,
          29485.0971,
          31297.376,
          23136.750004,
          21408.672000000002,
          25680.017,
          21396.310995,
          25490.833,
          37065.8731,
          41568.736,
          26353.47002,
          23521.301,
          25751.911,
          22883.45,
          26390.971,
          35757.604,
          36201.968,
          33928.066,
          22411.626,
          26185.335,
          21707.870995999998,
          28162.47805,
          39139.669,
          46584.903,
          56175.48101,
          44463.162,
          55815.05,
          35452.082,
          43405.606,
          67653.91201,
          75065.7711,
          42367.3151,
          34833.334,
          48540.066,
          31647.082000000002,
          41854.164000000004,
          63571.566,
          69663.308,
          41801.766,
          38825.07102,
          49840.5921,
          32346.391,
          37117.209,
          62560.889,
          67633.88603,
          39016.212999999996,
          36328.7955,
          48032.9665,
          32439.716,
          35919.066,
          63660.413,
          67184.21399,
          38658.312,
          35402.212,
          55816.804000000004,
          39048.393,
          46623.8601,
          72059.58503,
          75674.6555,
          37647.286,
          35987.4041,
          46377.37303,
          31668.956000000002,
          53150.41599,
          54235.574,
          58958.4029,
          40759.334,
          34500.71,
          47419.752,
          36280.494,
          41849.5959,
          61903.886999999995,
          64781.698,
          39835.910970000004,
          35175.215000000004,
          47076.872,
          29149.737119999998,
          32216.742,
          53981.646,
          59717.403,
          33667.032,
          29403.591,
          37708,
          26088.866,
          31528.15902,
          52467.43101,
          45932.62,
          60840.39,
          37195.303,
          44905.337980000004,
          33664.892,
          37895.551,
          56493.354,
          61508.49299,
          34130.752,
          34310.367996,
          40978.187,
          29556.051,
          37615.5171,
          53323.774,
          59671.95903,
          34439.479,
          32418.19,
          41420.74198,
          30127.368000000002,
          35943.08498,
          52902.809,
          60933.29901,
          35262.186,
          32387.087,
          40536.291,
          33537.693025,
          34585.978,
          56050.716,
          67542.3404,
          48771.65598,
          41555.246,
          49576.938,
          33866.123,
          40338.9493,
          54377.576,
          67381.38399999999,
          45415.956,
          43091.0225,
          45070.7125,
          36760.925,
          42169.89,
          60272.19898,
          62237.147,
          46231.146,
          43429.209,
          54956.895899999996,
          40638.2805,
          44693.14378,
          54646.6164,
          62521.0425,
          51817.38143,
          46255.48853,
          41347.192,
          46032.0351,
          37877.142,
          42549.1991,
          39928.859105,
          44539.547,
          39245.241003999996,
          4430.993,
          33283.114,
          32598.434,
          41727.042,
          30253.239999999998,
          22941.504,
          29337.046000000002,
          22956.348104,
          25093.571,
          35426.942,
          42744.9405,
          22810.463,
          20298.762,
          23638.568,
          18840.223,
          22759.374,
          39148.019,
          40449.736,
          23644.779000000002,
          20288.36603,
          23173.565,
          19664.75402,
          22837.026,
          36935.473,
          37607.085,
          20581.615,
          17723.559,
          21931.244,
          18275.49301,
          22037.04599,
          38255.569,
          43470.342,
          24484.53501,
          22281.565,
          25556.32799,
          19663.24,
          22772.671,
          34627.594,
          36415.337,
          23068.975019999998,
          18406.19998,
          21071.21,
          17958.26203,
          25713.806,
          24912.949,
          22023.036,
          24862.541,
          29435.54101,
          24836.212,
          19480.450960000002,
          23948.158,
          32825.68,
          39260.04591,
          20707.8,
          21605.121,
          22283.7971,
          16840.895,
          22857.254,
          36823.858,
          45161.531,
          25410.923,
          23335.914,
          25460.03702,
          19881.172,
          24604.93,
          38836.50697,
          38429.228970000004,
          26160.8621,
          25312.099029999998,
          25211.092,
          19004.870004,
          25446.912,
          36316.7461,
          41831.981,
          23486.391,
          20581.921000000002,
          22936.185996,
          18078.77,
          23605.31502,
          38403.607130000004,
          39181.850099999996,
          22142.989004,
          20185.403,
          22999.368,
          16806.978,
          23547.546,
          35232.205,
          36594.54,
          20656.381,
          21466.316,
          28023.774,
          24349.005,
          29500.549,
          34825.16703,
          37736.732,
          24868.025,
          25763.332,
          23962.170000000002,
          19150.397,
          24295.005,
          34851.431000000004,
          38822.287,
          22197.56,
          18336.769,
          23563.474000000002,
          19383.748,
          26063.008,
          37478.143000000004,
          41436.88,
          23271.648,
          20732.751,
          22440.653,
          19770.58797,
          23668.786,
          35843.717,
          37564.661,
          21634.772,
          19029.944,
          21911.808,
          22066.59298,
          36314.82,
          39235.481,
          39568.104999999996,
          27075.279,
          23232.257,
          25810.869,
          22197.657,
          26346.097999999998,
          42732.08803,
          28795.837,
          26314.777,
          20642.766005,
          23683.682,
          19730.807034,
          25357.751,
          44486.971,
          45508.216,
          24386.600996,
          22541.393,
          23815.0059,
          20603.206000000002,
          25096.609,
          35945.4309,
          41144.03499,
          26066.99198,
          23413.864,
          27655.345,
          20338.028,
          28950.523,
          46820.818,
          52992.095,
          42869.511,
          37978.316,
          45528.159,
          32808.296,
          37346.358,
          54397.8159,
          57249.61887,
          37501.71,
          34956.432,
          38738.189995,
          26800.716,
          35997.924,
          53245.346,
          58555.752,
          33843.614,
          34358.615,
          45091.409,
          27669.094,
          39969.962,
          63106.320999999996,
          43659.518,
          37994.701,
          33350.625,
          43303.578,
          24194.508,
          34397.919,
          55060.143,
          60859.98601,
          34429.333,
          31038.999,
          51933.23901,
          35976.069,
          47743.7409,
          61965.245,
          40040.634,
          19896.671,
          20055.14,
          48744.4991,
          34725.333,
          38095.963,
          51629.62,
          50342.467,
          37133.795,
          31047.450999999997,
          43752.685,
          31999.743,
          39961.49603,
          50785.458,
          54339.875,
          36929.176999999996,
          30850.421,
          41254.146996,
          28942.917,
          36531.752,
          49943.778,
          48556.81,
          35486.677,
          29439.209,
          39999.6465,
          27962.603004,
          40057.583,
          58830.643,
          59115.55,
          42769.157096,
          35523.728,
          43063.417004,
          30586.07595,
          36059.902,
          43401.246,
          37825.152,
          46311.90202,
          42810.13604,
          42051.939,
          26694.789,
          48398.727,
          63814.344,
          55945.552,
          36645.975999999995,
          32398.169995,
          41174.562999999995,
          28424.41,
          38068.586,
          47722.6049,
          49710.96903,
          39590.761999999995,
          34022.489466,
          38718.447,
          31623.8623,
          37966.947,
          56718.489,
          61525.182,
          43396.909999999996,
          46080.36,
          53752.84,
          37572.993,
          44821.65998,
          67093.37499,
          67964.13003,
          39121.704,
          32595.89403,
          44043.665,
          31023.973,
          37964.201,
          60222.215,
          62395.026,
          37486.842,
          32575.705,
          46262.625,
          32346.631,
          37804.497,
          58963.231,
          62280.222,
          36555.46698,
          33049.636025,
          43475.423,
          32234.18,
          38761.365,
          59465.527,
          64883.7795,
          36942.88,
          32183.858,
          43676.08698,
          39829.255,
          48430.907999999996,
          74397.1165,
          64394.4085,
          42547.133,
          35623.645,
          43824.78411,
          29099.741,
          54652.962,
          50840.53,
          55033.05,
          36069.46,
          20532.592,
          44497.549005,
          31496.591,
          42091.825,
          63085.042,
          63897.312,
          37562.943,
          31685.545,
          42988.68898,
          36181.658970000004,
          41040.00799,
          56422.659,
          58994.88803,
          33807.731004,
          30696.712,
          33815.586,
          26112.053,
          36078.947,
          47410.596,
          45647.73402,
          42748.525,
          58456.024000000005,
          47897.034999999996,
          33460.335,
          38853.73901,
          58209.442,
          64559.451,
          35983.460004,
          33611.955,
          41675.591,
          20762.654,
          37395.786,
          55831.873999999996,
          65763.84,
          38565.2141,
          32766.609,
          44012.625,
          34061.153,
          38265.820999999996,
          56322.8059,
          63540.171,
          38753.426,
          32874.02098,
          45353.073,
          31847.5,
          38206.363,
          56948.1501,
          66262.839,
          39093.603,
          40900.13093,
          54551.072,
          33474.826,
          33430.19398,
          51688.011,
          69359.2879,
          45676.445,
          36447.237,
          49053.009,
          38996.137500000004,
          44265.863895999995,
          63763.272,
          64160.695100000004,
          45300.985,
          41025.348,
          49572.9785,
          41786.5034,
          46403.7815,
          60968.5265,
          66380.2665,
          52510.1095,
          50696.4095,
          58493.47052,
          43974.551003,
          50216.097,
          43531.533,
          36415.46,
          42265.66,
          54848.641,
          39571.13402,
          4430.993,
          56659.22203,
          73940.947,
          52673.883069999996,
          42355.222,
          52359.6081,
          34331.716,
          43287.8951,
          63203.181,
          67623.662,
          40130.063995,
          33724.945999999996,
          40163.09003,
          30370.21496,
          40489.33399,
          59635.5155,
          61752.296,
          38894.408997,
          34412.49108,
          42449.685,
          28825.623,
          36561.65199,
          56206.906,
          58038.854999999996,
          36893.278,
          32080.89698,
          40017.410995,
          30360.560026,
          36126.70102,
          57402.788,
          62168.136,
          43139.159,
          33410.3759,
          43061.244999999995,
          32281.648,
          40122.522000000004,
          48934.9681,
          36404.997,
          38158.046096,
          48778.313,
          42278.149,
          33046.553,
          37233.85,
          52298.6009,
          56158.795,
          37613.863,
          38132.969000000005,
          44095.940996,
          29651.714,
          38103.1515,
          53064.968,
          62998.343,
          35799.51,
          32068.909,
          43717.8179,
          29267.548,
          36289.589,
          54937.833,
          60934.043000000005,
          36372.202,
          42463.369999999995,
          50172.990505,
          33318.24,
          40147.1211,
          64495.84,
          64987.84303,
          37143.115,
          33073.44,
          43109.432,
          30288.135000000002,
          38955.4569,
          56377.977,
          58153.53303,
          35257.952,
          31790.58,
          44807.653,
          31619.743,
          40351.849,
          53872.577,
          57865.33,
          34350.112,
          30438.042999999998,
          43052.727996,
          23614.093,
          41295.5801,
          46767.682,
          48959.411,
          33597.084,
          30816.718,
          39890.637004,
          32297.157966,
          43285.101,
          69735.91001,
          71723.5775,
          38743.416034,
          34997.26,
          42980.811,
          28823.844999999998,
          38592.729999999996,
          59405.165,
          63940.636,
          35367.29,
          32050.399999999998,
          41775.631004,
          30506.47,
          35546.702900000004,
          47281.715,
          51718.42509,
          37665.541000000005,
          36296.98502,
          66016.342,
          48621.716996,
          47217.624,
          63546.178,
          63047.61,
          34551.1357,
          32164.734,
          42646.883,
          28033.234,
          41261.38901,
          57008.883,
          71369.004,
          42284.434,
          35562.047979999996,
          46691.646,
          33167.821904,
          43069.751000000004,
          65387.782,
          41341.511999999995,
          36004.7101,
          30832.029,
          44226.444004000004,
          32205.659,
          39126.048,
          56154.2191,
          61256.619,
          37493.995,
          29578.157,
          41666.71,
          31804.515,
          39556.588990000004,
          55073.284999999996,
          58287.756,
          37556.971,
          28559.916,
          41066.10698,
          30183.794,
          53566.027,
          45206.436,
          52737.663,
          38508.486,
          47682.81893,
          47975.0091,
          34675.297,
          41204.548,
          56149.4261,
          64224.817,
          39813.466,
          32121.95604,
          41612.472,
          28811.603,
          36340.623,
          49414.57703,
          52693.395,
          36659.317,
          30758.631,
          41408.448,
          31387.04198,
          41207.9951,
          60527.7408,
          44711.288985,
          36541.16,
          29887.646,
          40634.591,
          29624.8283,
          35419.428,
          50679.801999999996,
          54101.106,
          35102.628000000004,
          29128.215,
          40059.603,
          28295.88698,
          46086.894,
          59278.353,
          62759.459,
          40987.996,
          34021.231,
          44368.9256,
          25506.902,
          40143.7701,
          51143.789,
          51161.197,
          37135.8591,
          32113.18597,
          40948.325,
          27541.204999999998,
          38623.186,
          54310.027,
          55818.7141,
          37165.931,
          32993.761,
          29093.458,
          32044.826,
          37283.24311,
          48195.644,
          48831.557,
          35452.68498,
          29586.989,
          36691.339,
          29581.109,
          36625.465000000004,
          50337.248999999996,
          55901.57,
          45122.26997,
          36735.569,
          45046.132,
          29416.774,
          39315.094,
          49682.304,
          50449.7921,
          35947.675,
          29773.806,
          37597.577,
          29933.319995,
          44038.71798,
          38904.632,
          42845.240996,
          35694.586,
          37785.657979999996,
          42466.805,
          30300.932,
          39435.087,
          51817.376,
          55240.873,
          39545.172,
          34509.375,
          40773.409005,
          32985.604996,
          38553.70503,
          47736.484,
          53036.4029,
          34805.47,
          34184.03103,
          44749.367,
          25789.594,
          49897.761,
          67441.884,
          59807.431,
          45753.794,
          36311.009,
          45278.665,
          31337.405,
          38539.642,
          58421.203,
          57976.672,
          38192.405,
          30423.01603,
          40323.417,
          29761.388,
          43159.858,
          57820.564,
          62851.975,
          35881.29798,
          33331.80202,
          39025.621,
          30001.55397,
          38525.334,
          56328.313,
          60054.018,
          36030.57698,
          32391.435,
          40004.357,
          30945.499,
          45622.579,
          74376.999,
          51761.733,
          46667.743996,
          35519.862,
          48496.784,
          24081.773,
          44193.29398,
          63108.1029,
          66190.5105,
          39245.648,
          31734.94,
          41446.915,
          34567.093,
          41800.862104,
          55532.866,
          69709.57809,
          39498.063034,
          32762.682,
          41146.554,
          30965.82602,
          41251.355,
          54078.742,
          61634.568,
          35095.3491,
          31603.80198,
          42508.405,
          30103.341,
          41093.272000000004,
          55403.612,
          60259.568,
          34356.684,
          41024.585,
          64157.938,
          44037.457,
          53071.612,
          55926.423,
          69007.7885,
          44330.674,
          43043.82,
          51967.739,
          35040.921,
          41847.434,
          64956.136,
          59060.0295,
          43320.354,
          30161.50504,
          52432.886,
          35163.959,
          44802.789000000004,
          64539.71403,
          73935.90303,
          40351.66997,
          35127.193999999996,
          47418.294499999996,
          35064.2173,
          45537.223,
          57180.691,
          72546.043,
          42288.062,
          34580.338,
          48603.833,
          40360.125005,
          49923.706,
          60689.26,
          73402.0905,
          42271.638,
          59479.27897,
          52736.0031,
          39610.095,
          50764.904,
          55555.464,
          66153.823,
          47791.762,
          39169.0995,
          56274.403,
          41596.527,
          46889.3635,
          65383.6995,
          60407.406495,
          50837.3305,
          51251.3105,
          61347.55747,
          53143.2255,
          59041.8875,
          52702.252,
          57689.675,
          39629.505000000005,
          47344.295996,
          42080.328,
          58892.878,
          50232.18402,
          4430.993,
          63141.3045,
          56728.483029999996,
          56626.504,
          41374.229,
          51079.906,
          70570.15904,
          69845.673,
          41606.729999999996,
          38348.60403,
          49929.149,
          36047.835,
          47170.509,
          66040.221,
          60296.91547,
          43028.068,
          38083.865025,
          46880.968,
          31917.297,
          42441.406,
          70277.154,
          71627.7229,
          40357.521,
          35158.765,
          43958.340000000004,
          32603.411,
          41966.115900000004,
          62522.34,
          63302.313500000004,
          34724.349,
          37849.519,
          57784.501,
          37197.46387,
          47677.0951,
          65759.208,
          69034.606,
          40100.564,
          35285.188,
          51131.51197,
          36626.44798,
          47349.592,
          56454.06103,
          62697.4496,
          41739.945999999996,
          29176.029,
          42805.625,
          36226.026005,
          46191.399,
          68391.8299,
          48166.778,
          28181.444,
          31067.36,
          40366.897,
          34574.142996,
          43555.504,
          52907.916,
          44572.564,
          43538.723,
          58150.477,
          51357.081999999995,
          40359.865996,
          46649.632,
          67577.47097,
          73023.048,
          37565.3131,
          35245.354999999996,
          41455.955996,
          35165.476,
          41406.329,
          60171.96,
          68143.0804,
          36709.721,
          33883.928,
          46331.362,
          34836.5018,
          48982.2571,
          65532.065,
          61165.6895,
          38941.895,
          35045.716,
          43831.174,
          33206.86,
          43174.193,
          65391.1163,
          66438.2355,
          38984.441999999995,
          24661.158,
          47773.11401,
          33761.83,
          49952.112,
          52016.542,
          48902.028,
          31936.103,
          28952.963,
          38820.6795,
          29803.8373,
          38493.619,
          54976.925,
          68286.44,
          31674.681996,
          32126.412,
          38792.42797,
          36617.456,
          43492.629,
          49566.637,
          61905.94002,
          37190.723,
          33420.984000000004,
          44244.451,
          29530.854,
          44622.743,
          52336.738,
          68159.553,
          33960.599,
          34116.409,
          42376.317,
          31945.71,
          44525.778,
          59402.155999999995,
          59432.718,
          70065.704,
          40968.571996,
          47378.801,
          32906.263,
          43266.702000000005,
          62857.362,
          65648.909,
          38308.136,
          33361.914017,
          40985.47,
          29170.638,
          42401.6929,
          68962.48502000001,
          48698.213,
          36084.673,
          38743.118,
          45660.028,
          31145.081,
          42351.26602,
          59728.652,
          68527.6735,
          37637.14595,
          33163.297,
          41576.76897,
          31178.103,
          57850.36098,
          52223.639,
          57966.979,
          36919.294,
          33741.95302,
          43410.895,
          37649.81,
          51452.504,
          65866.31,
          58823.372,
          44537.68,
          35931.961,
          47669.789016,
          32212.23603,
          43178.943,
          60316.722,
          69823.521,
          36862.22703,
          34285.742996,
          41818.065,
          33581.081,
          47411.152,
          66174.939,
          51498.84703,
          41468.739,
          37406.353,
          41859.62203,
          29666.547,
          41111.263,
          54101.54,
          61962.309,
          35645.336025,
          34683.26,
          41858.254,
          31895.382,
          44060.454000000005,
          70132.294,
          70185.3,
          44620.30302,
          35815.014,
          46791.723,
          30955.067,
          43925.304,
          58746.929,
          64942.8605,
          39227.293,
          32996.43,
          41741.59098,
          33239.86402,
          41852.76199,
          60417.843,
          62801.295979999995,
          43767.030996,
          35475.934,
          43996.451,
          33573.228,
          42294.16401,
          56090.44002,
          60703.56,
          40092.235,
          32471.92897,
          40687.736,
          31051.847999999998,
          41686.01198,
          60011.179,
          63374.278,
          42275.007,
          44181.359,
          49230.460999999996,
          33790.102,
          40252.911,
          51308.659999999996,
          56358.299999999996,
          35564.598,
          31748.91,
          37909.28698,
          30611.99,
          42955.5,
          40899.973,
          45098.445,
          35220.528004,
          32801.322
         ],
         "yaxis": "y"
        }
       ],
       "layout": {
        "legend": {
         "tracegroupgap": 0
        },
        "template": {
         "data": {
          "bar": [
           {
            "error_x": {
             "color": "#2a3f5f"
            },
            "error_y": {
             "color": "#2a3f5f"
            },
            "marker": {
             "line": {
              "color": "#E5ECF6",
              "width": 0.5
             },
             "pattern": {
              "fillmode": "overlay",
              "size": 10,
              "solidity": 0.2
             }
            },
            "type": "bar"
           }
          ],
          "barpolar": [
           {
            "marker": {
             "line": {
              "color": "#E5ECF6",
              "width": 0.5
             },
             "pattern": {
              "fillmode": "overlay",
              "size": 10,
              "solidity": 0.2
             }
            },
            "type": "barpolar"
           }
          ],
          "carpet": [
           {
            "aaxis": {
             "endlinecolor": "#2a3f5f",
             "gridcolor": "white",
             "linecolor": "white",
             "minorgridcolor": "white",
             "startlinecolor": "#2a3f5f"
            },
            "baxis": {
             "endlinecolor": "#2a3f5f",
             "gridcolor": "white",
             "linecolor": "white",
             "minorgridcolor": "white",
             "startlinecolor": "#2a3f5f"
            },
            "type": "carpet"
           }
          ],
          "choropleth": [
           {
            "colorbar": {
             "outlinewidth": 0,
             "ticks": ""
            },
            "type": "choropleth"
           }
          ],
          "contour": [
           {
            "colorbar": {
             "outlinewidth": 0,
             "ticks": ""
            },
            "colorscale": [
             [
              0,
              "#0d0887"
             ],
             [
              0.1111111111111111,
              "#46039f"
             ],
             [
              0.2222222222222222,
              "#7201a8"
             ],
             [
              0.3333333333333333,
              "#9c179e"
             ],
             [
              0.4444444444444444,
              "#bd3786"
             ],
             [
              0.5555555555555556,
              "#d8576b"
             ],
             [
              0.6666666666666666,
              "#ed7953"
             ],
             [
              0.7777777777777778,
              "#fb9f3a"
             ],
             [
              0.8888888888888888,
              "#fdca26"
             ],
             [
              1,
              "#f0f921"
             ]
            ],
            "type": "contour"
           }
          ],
          "contourcarpet": [
           {
            "colorbar": {
             "outlinewidth": 0,
             "ticks": ""
            },
            "type": "contourcarpet"
           }
          ],
          "heatmap": [
           {
            "colorbar": {
             "outlinewidth": 0,
             "ticks": ""
            },
            "colorscale": [
             [
              0,
              "#0d0887"
             ],
             [
              0.1111111111111111,
              "#46039f"
             ],
             [
              0.2222222222222222,
              "#7201a8"
             ],
             [
              0.3333333333333333,
              "#9c179e"
             ],
             [
              0.4444444444444444,
              "#bd3786"
             ],
             [
              0.5555555555555556,
              "#d8576b"
             ],
             [
              0.6666666666666666,
              "#ed7953"
             ],
             [
              0.7777777777777778,
              "#fb9f3a"
             ],
             [
              0.8888888888888888,
              "#fdca26"
             ],
             [
              1,
              "#f0f921"
             ]
            ],
            "type": "heatmap"
           }
          ],
          "heatmapgl": [
           {
            "colorbar": {
             "outlinewidth": 0,
             "ticks": ""
            },
            "colorscale": [
             [
              0,
              "#0d0887"
             ],
             [
              0.1111111111111111,
              "#46039f"
             ],
             [
              0.2222222222222222,
              "#7201a8"
             ],
             [
              0.3333333333333333,
              "#9c179e"
             ],
             [
              0.4444444444444444,
              "#bd3786"
             ],
             [
              0.5555555555555556,
              "#d8576b"
             ],
             [
              0.6666666666666666,
              "#ed7953"
             ],
             [
              0.7777777777777778,
              "#fb9f3a"
             ],
             [
              0.8888888888888888,
              "#fdca26"
             ],
             [
              1,
              "#f0f921"
             ]
            ],
            "type": "heatmapgl"
           }
          ],
          "histogram": [
           {
            "marker": {
             "pattern": {
              "fillmode": "overlay",
              "size": 10,
              "solidity": 0.2
             }
            },
            "type": "histogram"
           }
          ],
          "histogram2d": [
           {
            "colorbar": {
             "outlinewidth": 0,
             "ticks": ""
            },
            "colorscale": [
             [
              0,
              "#0d0887"
             ],
             [
              0.1111111111111111,
              "#46039f"
             ],
             [
              0.2222222222222222,
              "#7201a8"
             ],
             [
              0.3333333333333333,
              "#9c179e"
             ],
             [
              0.4444444444444444,
              "#bd3786"
             ],
             [
              0.5555555555555556,
              "#d8576b"
             ],
             [
              0.6666666666666666,
              "#ed7953"
             ],
             [
              0.7777777777777778,
              "#fb9f3a"
             ],
             [
              0.8888888888888888,
              "#fdca26"
             ],
             [
              1,
              "#f0f921"
             ]
            ],
            "type": "histogram2d"
           }
          ],
          "histogram2dcontour": [
           {
            "colorbar": {
             "outlinewidth": 0,
             "ticks": ""
            },
            "colorscale": [
             [
              0,
              "#0d0887"
             ],
             [
              0.1111111111111111,
              "#46039f"
             ],
             [
              0.2222222222222222,
              "#7201a8"
             ],
             [
              0.3333333333333333,
              "#9c179e"
             ],
             [
              0.4444444444444444,
              "#bd3786"
             ],
             [
              0.5555555555555556,
              "#d8576b"
             ],
             [
              0.6666666666666666,
              "#ed7953"
             ],
             [
              0.7777777777777778,
              "#fb9f3a"
             ],
             [
              0.8888888888888888,
              "#fdca26"
             ],
             [
              1,
              "#f0f921"
             ]
            ],
            "type": "histogram2dcontour"
           }
          ],
          "mesh3d": [
           {
            "colorbar": {
             "outlinewidth": 0,
             "ticks": ""
            },
            "type": "mesh3d"
           }
          ],
          "parcoords": [
           {
            "line": {
             "colorbar": {
              "outlinewidth": 0,
              "ticks": ""
             }
            },
            "type": "parcoords"
           }
          ],
          "pie": [
           {
            "automargin": true,
            "type": "pie"
           }
          ],
          "scatter": [
           {
            "fillpattern": {
             "fillmode": "overlay",
             "size": 10,
             "solidity": 0.2
            },
            "type": "scatter"
           }
          ],
          "scatter3d": [
           {
            "line": {
             "colorbar": {
              "outlinewidth": 0,
              "ticks": ""
             }
            },
            "marker": {
             "colorbar": {
              "outlinewidth": 0,
              "ticks": ""
             }
            },
            "type": "scatter3d"
           }
          ],
          "scattercarpet": [
           {
            "marker": {
             "colorbar": {
              "outlinewidth": 0,
              "ticks": ""
             }
            },
            "type": "scattercarpet"
           }
          ],
          "scattergeo": [
           {
            "marker": {
             "colorbar": {
              "outlinewidth": 0,
              "ticks": ""
             }
            },
            "type": "scattergeo"
           }
          ],
          "scattergl": [
           {
            "marker": {
             "colorbar": {
              "outlinewidth": 0,
              "ticks": ""
             }
            },
            "type": "scattergl"
           }
          ],
          "scattermapbox": [
           {
            "marker": {
             "colorbar": {
              "outlinewidth": 0,
              "ticks": ""
             }
            },
            "type": "scattermapbox"
           }
          ],
          "scatterpolar": [
           {
            "marker": {
             "colorbar": {
              "outlinewidth": 0,
              "ticks": ""
             }
            },
            "type": "scatterpolar"
           }
          ],
          "scatterpolargl": [
           {
            "marker": {
             "colorbar": {
              "outlinewidth": 0,
              "ticks": ""
             }
            },
            "type": "scatterpolargl"
           }
          ],
          "scatterternary": [
           {
            "marker": {
             "colorbar": {
              "outlinewidth": 0,
              "ticks": ""
             }
            },
            "type": "scatterternary"
           }
          ],
          "surface": [
           {
            "colorbar": {
             "outlinewidth": 0,
             "ticks": ""
            },
            "colorscale": [
             [
              0,
              "#0d0887"
             ],
             [
              0.1111111111111111,
              "#46039f"
             ],
             [
              0.2222222222222222,
              "#7201a8"
             ],
             [
              0.3333333333333333,
              "#9c179e"
             ],
             [
              0.4444444444444444,
              "#bd3786"
             ],
             [
              0.5555555555555556,
              "#d8576b"
             ],
             [
              0.6666666666666666,
              "#ed7953"
             ],
             [
              0.7777777777777778,
              "#fb9f3a"
             ],
             [
              0.8888888888888888,
              "#fdca26"
             ],
             [
              1,
              "#f0f921"
             ]
            ],
            "type": "surface"
           }
          ],
          "table": [
           {
            "cells": {
             "fill": {
              "color": "#EBF0F8"
             },
             "line": {
              "color": "white"
             }
            },
            "header": {
             "fill": {
              "color": "#C8D4E3"
             },
             "line": {
              "color": "white"
             }
            },
            "type": "table"
           }
          ]
         },
         "layout": {
          "annotationdefaults": {
           "arrowcolor": "#2a3f5f",
           "arrowhead": 0,
           "arrowwidth": 1
          },
          "autotypenumbers": "strict",
          "coloraxis": {
           "colorbar": {
            "outlinewidth": 0,
            "ticks": ""
           }
          },
          "colorscale": {
           "diverging": [
            [
             0,
             "#8e0152"
            ],
            [
             0.1,
             "#c51b7d"
            ],
            [
             0.2,
             "#de77ae"
            ],
            [
             0.3,
             "#f1b6da"
            ],
            [
             0.4,
             "#fde0ef"
            ],
            [
             0.5,
             "#f7f7f7"
            ],
            [
             0.6,
             "#e6f5d0"
            ],
            [
             0.7,
             "#b8e186"
            ],
            [
             0.8,
             "#7fbc41"
            ],
            [
             0.9,
             "#4d9221"
            ],
            [
             1,
             "#276419"
            ]
           ],
           "sequential": [
            [
             0,
             "#0d0887"
            ],
            [
             0.1111111111111111,
             "#46039f"
            ],
            [
             0.2222222222222222,
             "#7201a8"
            ],
            [
             0.3333333333333333,
             "#9c179e"
            ],
            [
             0.4444444444444444,
             "#bd3786"
            ],
            [
             0.5555555555555556,
             "#d8576b"
            ],
            [
             0.6666666666666666,
             "#ed7953"
            ],
            [
             0.7777777777777778,
             "#fb9f3a"
            ],
            [
             0.8888888888888888,
             "#fdca26"
            ],
            [
             1,
             "#f0f921"
            ]
           ],
           "sequentialminus": [
            [
             0,
             "#0d0887"
            ],
            [
             0.1111111111111111,
             "#46039f"
            ],
            [
             0.2222222222222222,
             "#7201a8"
            ],
            [
             0.3333333333333333,
             "#9c179e"
            ],
            [
             0.4444444444444444,
             "#bd3786"
            ],
            [
             0.5555555555555556,
             "#d8576b"
            ],
            [
             0.6666666666666666,
             "#ed7953"
            ],
            [
             0.7777777777777778,
             "#fb9f3a"
            ],
            [
             0.8888888888888888,
             "#fdca26"
            ],
            [
             1,
             "#f0f921"
            ]
           ]
          },
          "colorway": [
           "#636efa",
           "#EF553B",
           "#00cc96",
           "#ab63fa",
           "#FFA15A",
           "#19d3f3",
           "#FF6692",
           "#B6E880",
           "#FF97FF",
           "#FECB52"
          ],
          "font": {
           "color": "#2a3f5f"
          },
          "geo": {
           "bgcolor": "white",
           "lakecolor": "white",
           "landcolor": "#E5ECF6",
           "showlakes": true,
           "showland": true,
           "subunitcolor": "white"
          },
          "hoverlabel": {
           "align": "left"
          },
          "hovermode": "closest",
          "mapbox": {
           "style": "light"
          },
          "paper_bgcolor": "white",
          "plot_bgcolor": "#E5ECF6",
          "polar": {
           "angularaxis": {
            "gridcolor": "white",
            "linecolor": "white",
            "ticks": ""
           },
           "bgcolor": "#E5ECF6",
           "radialaxis": {
            "gridcolor": "white",
            "linecolor": "white",
            "ticks": ""
           }
          },
          "scene": {
           "xaxis": {
            "backgroundcolor": "#E5ECF6",
            "gridcolor": "white",
            "gridwidth": 2,
            "linecolor": "white",
            "showbackground": true,
            "ticks": "",
            "zerolinecolor": "white"
           },
           "yaxis": {
            "backgroundcolor": "#E5ECF6",
            "gridcolor": "white",
            "gridwidth": 2,
            "linecolor": "white",
            "showbackground": true,
            "ticks": "",
            "zerolinecolor": "white"
           },
           "zaxis": {
            "backgroundcolor": "#E5ECF6",
            "gridcolor": "white",
            "gridwidth": 2,
            "linecolor": "white",
            "showbackground": true,
            "ticks": "",
            "zerolinecolor": "white"
           }
          },
          "shapedefaults": {
           "line": {
            "color": "#2a3f5f"
           }
          },
          "ternary": {
           "aaxis": {
            "gridcolor": "white",
            "linecolor": "white",
            "ticks": ""
           },
           "baxis": {
            "gridcolor": "white",
            "linecolor": "white",
            "ticks": ""
           },
           "bgcolor": "#E5ECF6",
           "caxis": {
            "gridcolor": "white",
            "linecolor": "white",
            "ticks": ""
           }
          },
          "title": {
           "x": 0.05
          },
          "xaxis": {
           "automargin": true,
           "gridcolor": "white",
           "linecolor": "white",
           "ticks": "",
           "title": {
            "standoff": 15
           },
           "zerolinecolor": "white",
           "zerolinewidth": 2
          },
          "yaxis": {
           "automargin": true,
           "gridcolor": "white",
           "linecolor": "white",
           "ticks": "",
           "title": {
            "standoff": 15
           },
           "zerolinecolor": "white",
           "zerolinewidth": 2
          }
         }
        },
        "title": {
         "text": "Store 44 Sales"
        },
        "xaxis": {
         "anchor": "y",
         "domain": [
          0,
          1
         ],
         "title": {
          "text": "date"
         }
        },
        "yaxis": {
         "anchor": "x",
         "domain": [
          0,
          1
         ],
         "title": {
          "text": "sales"
         }
        }
       }
      }
     },
     "metadata": {},
     "output_type": "display_data"
    }
   ],
   "source": [
    "train_df, test_df, holiday_df, oil_df, stores_df = load_data(data_path)\n",
    "cl_train_df = clean_data(train_df)\n",
    "top_3_families = get_top_families(cl_train_df, n=3)\n",
    "top_3_stores = get_top_stores(cl_train_df, n=3)\n",
    "store_sales_df = get_store_sales(cl_train_df)\n",
    "family_sales_df = get_family_sales(cl_train_df)\n",
    "\n",
    "display(Markdown(\"### Top 3 Families\"))\n",
    "print(top_3_families)\n",
    "display(Markdown(\"### Top 3 Stores\"))\n",
    "print(top_3_stores)\n",
    "\n",
    "display(Markdown(\"### Plots for Sales per Family and Store (after cleaning)\"))\n",
    "fig = plot_sales_per_family(cl_train_df)\n",
    "fig.show()\n",
    "\n",
    "fig = plot_sales_per_store(cl_train_df)\n",
    "fig.show()\n",
    "\n",
    "display(Markdown(\"### Plots for Store Sales over Time\"))\n",
    "fig = plot_sales_per_store_over_time(cl_train_df, 44)\n",
    "fig.show()"
   ]
  },
  {
   "cell_type": "code",
   "execution_count": 115,
   "metadata": {},
   "outputs": [
    {
     "name": "stdout",
     "output_type": "stream",
     "text": [
      "Top family for store 44: FROZEN FOODS\n"
     ]
    }
   ],
   "source": [
    "# df_total = (\n",
    "#     cl_train_df[(cl_train_df[\"store_nbr\"] == 44)]\n",
    "#     .groupby(\"date\")[\"sales\"]\n",
    "#     .sum()\n",
    "#     .reset_index()\n",
    "# )\n",
    "\n",
    "# get a top product family of store 44\n",
    "df_total = cl_train_df[(cl_train_df[\"store_nbr\"] == 3)]\n",
    "top_family = df_total.groupby(\"family\")[\"sales\"].sum().idxmax()\n",
    "top_family = \"FROZEN FOODS\"\n",
    "\n",
    "print(f\"Top family for store 44: {top_family}\")\n",
    "\n",
    "df_total = df_total[df_total[\"family\"] == top_family]\n",
    "df_total = df_total.groupby(\"date\")[\"sales\"].sum().reset_index()"
   ]
  },
  {
   "cell_type": "code",
   "execution_count": 117,
   "metadata": {},
   "outputs": [
    {
     "name": "stdout",
     "output_type": "stream",
     "text": [
      "Total Sales:\n",
      "ADF Statistic: -5.820089029727789\n",
      "p-value: 4.2027339577549183e-07\n",
      "Critical Values:\n",
      "\t1%: -3.434300212992577\n",
      "\t5%: -2.863284793874921\n",
      "\t10%: -2.567698886736967\n"
     ]
    },
    {
     "data": {
      "application/vnd.plotly.v1+json": {
       "config": {
        "plotlyServerURL": "https://plot.ly"
       },
       "data": [
        {
         "alignmentgroup": "True",
         "bingroup": "x",
         "hovertemplate": "sales=%{x}<br>count=%{y}<extra></extra>",
         "legendgroup": "",
         "marker": {
          "color": "#636efa",
          "pattern": {
           "shape": ""
          }
         },
         "name": "",
         "offsetgroup": "",
         "orientation": "v",
         "showlegend": false,
         "type": "histogram",
         "x": [
          0,
          490.391,
          326.191,
          274.515,
          372.455,
          435,
          274.562,
          206.784,
          200,
          183.963,
          184.565,
          336.804,
          346.485,
          270.518,
          260.993,
          243.33,
          219.357,
          257.875,
          358.108,
          369.926,
          266.553,
          219.709,
          207.25,
          165.132,
          208.711,
          318.377,
          330,
          218.057,
          213.473,
          239.98,
          185.749,
          278.298,
          415.678,
          372.084,
          189.67,
          234.509,
          249.214,
          170.882,
          212.482,
          271.826,
          145.034,
          184.295,
          265.659,
          227,
          220.044,
          211.741,
          376.827,
          318.091,
          277.555,
          224.609,
          281.832,
          183,
          209.554,
          292.754,
          360.23,
          200.936,
          170,
          177,
          198.262,
          257.686,
          358.16602,
          500.434,
          312,
          278.739,
          254.366,
          204,
          232.414,
          307.826,
          413.951,
          206,
          230.694,
          228.157,
          212.239,
          187.383,
          420,
          481.984,
          245,
          270.7,
          220,
          238.778,
          240.52,
          387.378,
          415.263,
          190,
          223.585,
          286.288,
          220.979,
          291.528,
          353.191,
          323.091,
          335.002,
          256.505,
          289,
          264.377,
          241.58,
          468.779,
          417.279,
          349.516,
          225,
          236.607,
          231,
          278.361,
          408.371,
          402.567,
          253.793,
          253,
          274.366,
          261.185,
          323.388,
          437.807,
          423.399,
          271,
          233.067,
          263.409,
          203.453,
          294.486,
          450.615,
          402,
          220.634,
          231.653,
          481.266,
          263.687,
          321.737,
          443.573,
          421.015,
          253.68,
          294.549,
          269.057,
          258.505,
          435.796,
          433.821,
          260,
          218,
          268.143,
          271.64,
          211.348,
          317,
          399.67902,
          400.772,
          254.56,
          170.115,
          149,
          206.259,
          324.541,
          388.112,
          333.936,
          261,
          193,
          213.882,
          223.529,
          209.739,
          436.291,
          529.52,
          302.81,
          216.702,
          318.48,
          204.649,
          357.577,
          400.812,
          463.63,
          280,
          324.77,
          353.035,
          377.775,
          387.361,
          585.773,
          460,
          345,
          352.04102,
          342.17,
          251.387,
          367.644,
          439.494,
          503,
          310.758,
          242.624,
          304.734,
          247.95801,
          372.827,
          557.95,
          442.414,
          366.007,
          467.736,
          325.564,
          288.509,
          437.258,
          547.637,
          563.643,
          333.296,
          320.988,
          299.322,
          268.91,
          299,
          480.983,
          462.375,
          318.105,
          337.288,
          357.02,
          227.79,
          400.884,
          488.739,
          402.891,
          312,
          312.134,
          343.139,
          313.486,
          339.943,
          449.385,
          403,
          250,
          275.68,
          292.127,
          318.258,
          464,
          450,
          486.741,
          323,
          291.441,
          298,
          186.639,
          316,
          394.567,
          347,
          262,
          290.973,
          317.262,
          233,
          392,
          453.751,
          423.436,
          331.549,
          346.24,
          394.148,
          243.009,
          387.112,
          471.932,
          438.083,
          309.548,
          306.039,
          262,
          284.847,
          408.55,
          510,
          571,
          389.025,
          442.173,
          321.659,
          190.157,
          403.785,
          521.08,
          510.831,
          299.307,
          252,
          287.309,
          209.882,
          333.101,
          487.5,
          499.023,
          343.333,
          315,
          350.898,
          291,
          359.945,
          448.688,
          512.8,
          306.32,
          261.29102,
          288,
          236,
          338.16,
          473.93,
          501.168,
          271,
          355.434,
          349.304,
          220,
          394.064,
          542.187,
          557.588,
          315,
          289.905,
          301.739,
          282.836,
          397,
          419.933,
          384.789,
          288.9,
          267.88,
          311.696,
          225.741,
          333.663,
          520,
          578.732,
          252.52,
          217.471,
          242.118,
          291.754,
          295.884,
          470.332,
          448.704,
          242.86,
          286,
          284.474,
          266.647,
          372.906,
          452.565,
          510.41,
          336.005,
          293.132,
          330.848,
          297.965,
          313.448,
          486.911,
          493.615,
          305.302,
          294.937,
          242,
          228.811,
          296.646,
          529.504,
          521.805,
          353.646,
          287.54,
          406.239,
          287.949,
          358.3,
          496.888,
          529.64,
          379.62,
          316.397,
          458.696,
          423.95,
          442.999,
          575.939,
          645.331,
          490.41,
          435.397,
          479.39,
          490.69,
          637.641,
          684.24,
          771.136,
          528.98303,
          639.811,
          759.394,
          751.213,
          1142.35,
          1422.093,
          1494.821,
          1627.285,
          1758.9,
          351.996,
          351.996,
          351.996,
          351.996,
          351.996,
          351.996,
          1301.183,
          708.29803,
          987.955,
          987.154,
          875.698,
          959.947,
          715.33,
          0,
          458.02,
          482.434,
          657.73,
          600.072,
          371.6,
          354.927,
          342.134,
          266.985,
          310.323,
          453.752,
          479.262,
          272.38,
          224.78,
          308.945,
          236.475,
          291.409,
          440.875,
          489.023,
          237.239,
          260.441,
          295.355,
          201.116,
          295.632,
          421.213,
          446.627,
          258.616,
          218.475,
          301.242,
          288.503,
          396.367,
          647.828,
          519.461,
          349.795,
          259.319,
          364.759,
          291.422,
          353.551,
          462,
          500.777,
          366,
          295.18,
          380.841,
          242.511,
          365.45,
          490.412,
          611.671,
          265,
          276.929,
          307.248,
          259.15,
          309,
          489.097,
          389.252,
          277.729,
          278.914,
          316.327,
          186.991,
          364.43,
          408.099,
          306,
          299.096,
          505,
          425.689,
          255.236,
          301.002,
          463.895,
          451,
          247,
          251,
          333.608,
          228.819,
          305.015,
          379.494,
          599,
          284,
          273.955,
          329.163,
          297.505,
          361.529,
          465.105,
          440.916,
          273.7,
          243.734,
          265.804,
          237.76,
          344.603,
          450.465,
          523.885,
          292.662,
          381.359,
          405.22202,
          286.158,
          340,
          468.88,
          498.804,
          310,
          212.43,
          262.414,
          199.912,
          281.394,
          432.816,
          413.925,
          252,
          221.789,
          302.651,
          283.091,
          332,
          397,
          454.212,
          306.203,
          344.66,
          347,
          229.113,
          338.794,
          449.453,
          455.516,
          312.118,
          254,
          319.225,
          407.191,
          378.028,
          554.873,
          554.945,
          276.477,
          336.442,
          396.678,
          251.785,
          353.274,
          491.357,
          353.414,
          286.856,
          315.183,
          299.837,
          243.162,
          435.147,
          497.588,
          515.282,
          276.636,
          265.801,
          292.789,
          274.462,
          311.554,
          466.356,
          505.767,
          294.664,
          221.234,
          245.131,
          197.20801,
          326,
          527.596,
          599.721,
          364,
          339,
          346.71,
          270.575,
          344.063,
          395,
          576.48,
          331.95,
          297.415,
          343.275,
          252.635,
          439.325,
          714.361,
          359.635,
          300.015,
          346.145,
          296,
          238.233,
          373.212,
          461,
          443,
          296.152,
          316.144,
          319.371,
          224.296,
          387.759,
          516,
          494.904,
          301.591,
          349.325,
          383,
          332.196,
          333.113,
          519.418,
          514.438,
          329.011,
          275.604,
          282.46,
          256.6,
          367.496,
          521.24,
          472,
          315.91,
          288.39,
          345.051,
          315,
          336.145,
          459.95,
          409.36,
          268.446,
          305,
          338.15,
          220.504,
          358.417,
          372.471,
          463.014,
          279.803,
          223,
          310.812,
          241.829,
          386.961,
          474.804,
          516.915,
          322.188,
          278.079,
          271,
          261.132,
          379.349,
          399.439,
          408.004,
          276,
          232,
          282.263,
          269.183,
          311.421,
          472,
          542.111,
          317.535,
          289.554,
          337.389,
          260.707,
          324,
          406.576,
          506.712,
          266.505,
          278.535,
          266,
          213.959,
          286.835,
          462.524,
          556.896,
          422.43,
          390,
          359,
          194,
          355.727,
          524,
          610.775,
          329.771,
          319.631,
          294.721,
          226,
          274,
          533.089,
          437.34,
          277,
          269.493,
          315.227,
          245,
          301,
          528.764,
          516.219,
          227.086,
          268.139,
          293.609,
          269.718,
          299.299,
          518.51,
          507.2,
          274.026,
          269.118,
          355.409,
          257,
          395,
          586.06,
          491.995,
          315.174,
          323.296,
          309.269,
          291.333,
          415.575,
          422.643,
          331.848,
          318.417,
          231,
          298.81,
          280.454,
          305.675,
          493.867,
          530.594,
          267.44,
          253.588,
          278.789,
          193.854,
          299.782,
          397.946,
          414.275,
          233.496,
          271.839,
          307.431,
          230.802,
          301.976,
          401.685,
          386.985,
          535,
          264.996,
          340.585,
          365.456,
          340.9,
          461.544,
          434.919,
          262.79102,
          293.565,
          326.028,
          260.235,
          311.266,
          433.795,
          553.892,
          322.796,
          296.837,
          317.815,
          308.62,
          388.678,
          558.093,
          541.58,
          430.828,
          355.979,
          404.036,
          259.502,
          431.282,
          470.061,
          534.863,
          463.09,
          393.604,
          429.103,
          330.266,
          672.54,
          707.149,
          733.949,
          533.133,
          690.416,
          351.996,
          845.304,
          1380.632,
          1255.396,
          1602.765,
          1528.267,
          1258.7,
          351.996,
          351.996,
          351.996,
          351.996,
          351.996,
          351.996,
          351.996,
          1096.3359,
          856.221,
          736.677,
          916.302,
          1205.658,
          1110.647,
          631.055,
          0,
          512.179,
          402,
          547,
          355.519,
          651.85,
          388.654,
          359.503,
          449.931,
          460.343,
          563.762,
          346.815,
          333.514,
          331.18,
          273.551,
          363.978,
          585.074,
          473,
          336.053,
          217,
          297.565,
          271.669,
          294.633,
          468.043,
          525.702,
          264.85,
          299.7,
          283.432,
          206.065,
          345.954,
          537.428,
          644.613,
          358.637,
          324,
          319.95,
          266.726,
          304,
          429.89,
          508.454,
          242,
          242.56,
          267.317,
          244.425,
          375.871,
          357.58,
          338.431,
          298.776,
          383.25,
          346.667,
          221.418,
          443.421,
          450,
          495.077,
          225.005,
          320.929,
          352.764,
          238.232,
          318.465,
          495.022,
          588.921,
          300.753,
          271,
          389.979,
          249.081,
          391.007,
          584.456,
          495.354,
          337.041,
          296.725,
          334.017,
          258.121,
          359,
          470.92,
          414.983,
          332.214,
          289.679,
          331.789,
          199,
          343.957,
          459.623,
          456,
          243.423,
          272.825,
          236.575,
          188,
          328.428,
          374.505,
          504.424,
          269.945,
          215.421,
          418.573,
          332.809,
          358.554,
          477.935,
          455.285,
          299,
          376.086,
          312.038,
          261.019,
          346.296,
          480,
          581.217,
          280.692,
          259.432,
          338.886,
          252.429,
          380,
          513.32,
          626.259,
          238.038,
          293.954,
          291.36,
          284.01,
          351.967,
          441,
          535.144,
          275.483,
          263.274,
          315.942,
          312.06,
          514.162,
          561.304,
          587.221,
          290.884,
          327.128,
          439.023,
          267.379,
          481.073,
          660.656,
          445.881,
          353.602,
          261,
          322.381,
          275.24,
          417.597,
          574,
          543.529,
          310.9,
          313.58,
          346.208,
          255.753,
          362.546,
          511.452,
          513.292,
          305.84,
          266.31,
          348.875,
          262.98,
          361,
          558.983,
          558.619,
          416.094,
          304.218,
          416,
          276.536,
          351,
          611.258,
          510.306,
          389.048,
          325.438,
          387.993,
          269.073,
          342.773,
          464.208,
          550.946,
          380.617,
          365.814,
          466.031,
          328.866,
          501.671,
          565.454,
          364.16,
          350.146,
          332.644,
          381.235,
          299.115,
          425.544,
          499.785,
          511.077,
          396.344,
          267.45,
          505.697,
          386.462,
          444.161,
          645.214,
          571.75,
          338.507,
          267,
          468.164,
          342.657,
          364,
          526.75,
          521.733,
          342.204,
          270.885,
          367.589,
          289.826,
          438.783,
          519.49,
          525.995,
          290.85,
          244,
          304.894,
          308.425,
          384,
          468.599,
          461,
          356.909,
          301.785,
          342.145,
          210.858,
          369.329,
          646.929,
          488.44,
          332.706,
          279.138,
          337.24,
          278,
          332,
          426.913,
          367.405,
          396.524,
          261.185,
          320.271,
          297.274,
          398.607,
          506.318,
          495.915,
          310.633,
          292,
          361.175,
          359.769,
          394.161,
          474.481,
          445.909,
          290.486,
          225.707,
          305,
          288.175,
          376.123,
          499.02,
          494,
          287.851,
          366.449,
          453.423,
          328.565,
          457.413,
          641.03,
          581.766,
          336.262,
          294,
          329.023,
          236.392,
          380.949,
          539.941,
          558,
          300,
          263.486,
          431.89,
          278.396,
          362.19,
          605.565,
          612.415,
          333.844,
          334.351,
          336.069,
          239.793,
          371.709,
          515.823,
          549.369,
          281,
          219.849,
          382.435,
          358.513,
          474.78,
          628.597,
          570.788,
          333.01,
          297.419,
          343.232,
          321.813,
          610.619,
          486.296,
          482.287,
          270.952,
          246.841,
          311.77,
          296.732,
          360.026,
          560.12,
          550.324,
          328.369,
          307.292,
          333.919,
          257.642,
          413.346,
          475,
          580.865,
          304,
          331.138,
          307.511,
          186.159,
          386.58,
          538.636,
          320.655,
          423.264,
          486.848,
          414.348,
          364.149,
          407.501,
          523.256,
          589.745,
          302.421,
          321.343,
          378.769,
          323.453,
          419.377,
          576.59,
          539.38,
          404.893,
          284.761,
          367.371,
          304.82098,
          462.323,
          631.63,
          666.988,
          492.816,
          383.678,
          487.572,
          437.074,
          392.405,
          622.911,
          732.036,
          358.964,
          484.332,
          488.51,
          435.454,
          728.886,
          896.098,
          969.054,
          734.577,
          848.016,
          785.265,
          652.533,
          1127.3,
          1265.0391,
          1342.277,
          1306.617,
          351.996,
          351.996,
          351.996,
          351.996,
          351.996,
          351.996,
          351.996,
          351.996,
          351.996,
          1784.684,
          1121.06,
          1064.6959,
          1458.356,
          1372.526,
          1242.307,
          1007.879,
          0,
          507.064,
          664.986,
          469.283,
          462.436,
          452.605,
          363.709,
          468.804,
          554.878,
          549.233,
          299.252,
          378.512,
          295.657,
          283.66602,
          403.386,
          590.57,
          585.75,
          349.461,
          292.535,
          401.475,
          314.756,
          421.803,
          562.672,
          543.351,
          292.8,
          268.119,
          344.17902,
          257.375,
          373.161,
          564.67,
          494.208,
          352.115,
          339,
          370.247,
          281.929,
          482.689,
          511.623,
          411.857,
          383.55,
          393.206,
          406.818,
          304.609,
          427.967,
          559.94,
          573.171,
          287.575,
          318.084,
          370.589,
          297.645,
          457,
          610.12,
          544.031,
          302.649,
          310.12,
          330.45898,
          210.261,
          359,
          551.009,
          467.385,
          308.476,
          323,
          410,
          262.409,
          345.75,
          566.59,
          585.615,
          289.655,
          314.575,
          350.257,
          269.75,
          357,
          468.687,
          454,
          245.285,
          260.503,
          350.303,
          262.896,
          416.902,
          506.405,
          441.827,
          294,
          324.506,
          349.744,
          392.893,
          347,
          405.347,
          451.122,
          238.554,
          263,
          344.122,
          295.031,
          418,
          554.708,
          585.79,
          301.527,
          365.333,
          339.098,
          253.929,
          433.543,
          488.15,
          496.465,
          283,
          270.972,
          285,
          265.964,
          350.496,
          522.261,
          641.43,
          360.315,
          249,
          318.121,
          284.202,
          439.736,
          566.788,
          499.959,
          290.013,
          246.746,
          346.052,
          237.206,
          441.71,
          481.262,
          587.14,
          358.479,
          415.578,
          384.45,
          369.435,
          508.989,
          676.692,
          360.399,
          332.595,
          237.28,
          338.651,
          327.839,
          389.598,
          572.889,
          545.206,
          362.861,
          259.9,
          362.234,
          270.64,
          502.315,
          444.734,
          510.011,
          322.808,
          252.191,
          356.322,
          328.204,
          475.975,
          476.667,
          421.113,
          318.9,
          403.019,
          398.889,
          350.198,
          386.32,
          571.2,
          590.821,
          243.867,
          334.29,
          287.685,
          260.653,
          506.047,
          474.684,
          462.381,
          368.356,
          268.311,
          394.026,
          368.157,
          553.732,
          630.919,
          404.155,
          296.998,
          263.815,
          335.379,
          299.936,
          401.586,
          496,
          461.689,
          339.194,
          296.347,
          380.255,
          256,
          450.374,
          586.529,
          505.579,
          315.51,
          289.406,
          348.371,
          281.46,
          359.238,
          483.183,
          482.255,
          305.01,
          300.043,
          302.27,
          314.528,
          430.49,
          434,
          510.021,
          349.192,
          292.035,
          445.026,
          215.196,
          379.885,
          470.56,
          430.355,
          279.545,
          227.414,
          392.38,
          253.912,
          356.899,
          419,
          424.832,
          329,
          350.088,
          366,
          246,
          470.393,
          467.476,
          361.101,
          292.415,
          306.396,
          331.586,
          260.974,
          401.689,
          357.47,
          342.084,
          278,
          288.974,
          345.649,
          257.095,
          372.07,
          442.929,
          383.514,
          317.296,
          297.085,
          256,
          257.303,
          391.121,
          438.06,
          402,
          286.506,
          262.339,
          372.303,
          307.18,
          419.859,
          529.19,
          492.87,
          280.012,
          305.49,
          318.947,
          237,
          404.429,
          642.054,
          476.817,
          320.475,
          263.94,
          243,
          201.397,
          334.077,
          500.123,
          453.569,
          291.453,
          327.679,
          297.463,
          222.27,
          375.709,
          475.78,
          473.274,
          317.303,
          281.227,
          319.141,
          230.061,
          461.109,
          556.474,
          482.045,
          353.30402,
          310.389,
          356.1,
          246.062,
          423.159,
          477.328,
          600.643,
          311.679,
          283.665,
          275.63,
          245.254,
          438.604,
          496.384,
          531.291,
          357.693,
          317.351,
          311.644,
          235,
          349.63,
          514.896,
          487.011,
          271.307,
          308.672,
          311.26,
          250.367,
          418.515,
          488.654,
          437.934,
          232.919,
          304.56,
          435.706,
          357.525,
          460.934,
          404.403,
          470,
          296.486,
          308.38,
          466.007,
          236,
          342.264,
          652.353,
          558.366,
          325.582,
          303.669,
          421.164,
          393.026,
          460.547,
          516.705,
          620.492,
          434.3,
          429.921,
          452.457,
          333.864,
          426.976,
          523.754,
          568.317,
          319.028,
          278.523,
          477.33398,
          410.492,
          802.495,
          796.712,
          771.311,
          588.997,
          695.333,
          709.452,
          529.104,
          748.323,
          1006.059,
          1137.198,
          1336.795,
          1299.202,
          1631.317,
          1578.511,
          351.996,
          351.996,
          351.996,
          351.996,
          351.996,
          351.996,
          351.996,
          351.996,
          1442.134,
          1104.155,
          1072.632,
          1541.264,
          1605.792,
          1548.717,
          958.696,
          0,
          613.321,
          437.233,
          471.367,
          348.275,
          503.486,
          574.885,
          591.698,
          279.375,
          323.556,
          328.727,
          273.631,
          437.234,
          530.557,
          478.163,
          319.313,
          250.144,
          312.035,
          291.044,
          278.774,
          515.918,
          513.808,
          340.341,
          275.358,
          291.659,
          250.668,
          383.8,
          484,
          419.379,
          238,
          272.838,
          352.483,
          241.41,
          374.667,
          434.68,
          531.394,
          289.51,
          291.368,
          353.867,
          281.775,
          409.141,
          513.959,
          491.115,
          273,
          248.774,
          311.121,
          274.876,
          338.359,
          518.071,
          368.141,
          240.419,
          227,
          284.625,
          217.195,
          321.5,
          400,
          297.928,
          329.127,
          365.253,
          345.077,
          322.829,
          457.574,
          563.132,
          516.59,
          268,
          247,
          291.429,
          244.419,
          414.396,
          428.371,
          439.644,
          248.356,
          248.485,
          341.411,
          314.138,
          366.315,
          415.296,
          494.792,
          352.025,
          284.344,
          297.003,
          280.884,
          343.724,
          448.417,
          412.976,
          278.41,
          238.745,
          281.938,
          266.623,
          457.046,
          544.24,
          533.543,
          233.365,
          253.626,
          300.108,
          246.554,
          333.795,
          457.121,
          446.629,
          267.705,
          261.496,
          318.154,
          347.849,
          327.003,
          442.616,
          416.969,
          344.429,
          236.522,
          372.151,
          225.497,
          435.687,
          465.32,
          465.732,
          245.759,
          365.043,
          322.958,
          277.657,
          439.698,
          443.969,
          403.601,
          576.897,
          373.928,
          336.011,
          271.839,
          430.02,
          609.798,
          509.373,
          344.355,
          260.498,
          351.589,
          322.183,
          438.726,
          586.273,
          467.368,
          275.871,
          251.977,
          359.714,
          292.224,
          357.22,
          550.41,
          545.135,
          321.302,
          277.421,
          293.913,
          308.292,
          619.30597,
          450.944,
          387.769,
          253.962,
          263.586,
          277.715,
          293.438,
          498.25,
          547.917,
          569.902,
          363.898,
          285.227,
          390.258,
          274.872,
          392.726,
          525.739,
          447.592,
          308.968,
          343.115,
          427.415,
          365.782,
          493.214,
          583.856,
          429.387,
          272.064,
          284.695,
          384.697,
          275.226,
          425.346,
          465.152,
          456.423,
          248.329,
          238.647,
          322.102,
          244.094,
          438.882,
          582.435,
          554.888,
          396.474,
          351.287,
          376.35,
          306.326,
          371.493,
          516.676,
          509.053,
          350.093,
          340.268,
          397.256,
          139.657,
          402.424,
          494.828,
          502.308,
          260.017,
          265.216,
          340.293,
          328.425,
          408.418,
          516.485,
          435.045,
          305.066,
          273.492,
          335.565,
          278.977,
          409.887,
          535.112,
          438.421,
          353.889,
          308.566,
          349.13,
          335.689,
          408.9,
          477.745,
          427.3,
          300.68,
          291.103,
          244.759,
          265.568,
          432.863,
          354.405,
          361.183,
          317.63,
          273.655
         ],
         "xaxis": "x",
         "yaxis": "y"
        }
       ],
       "layout": {
        "barmode": "relative",
        "legend": {
         "tracegroupgap": 0
        },
        "template": {
         "data": {
          "bar": [
           {
            "error_x": {
             "color": "#2a3f5f"
            },
            "error_y": {
             "color": "#2a3f5f"
            },
            "marker": {
             "line": {
              "color": "#E5ECF6",
              "width": 0.5
             },
             "pattern": {
              "fillmode": "overlay",
              "size": 10,
              "solidity": 0.2
             }
            },
            "type": "bar"
           }
          ],
          "barpolar": [
           {
            "marker": {
             "line": {
              "color": "#E5ECF6",
              "width": 0.5
             },
             "pattern": {
              "fillmode": "overlay",
              "size": 10,
              "solidity": 0.2
             }
            },
            "type": "barpolar"
           }
          ],
          "carpet": [
           {
            "aaxis": {
             "endlinecolor": "#2a3f5f",
             "gridcolor": "white",
             "linecolor": "white",
             "minorgridcolor": "white",
             "startlinecolor": "#2a3f5f"
            },
            "baxis": {
             "endlinecolor": "#2a3f5f",
             "gridcolor": "white",
             "linecolor": "white",
             "minorgridcolor": "white",
             "startlinecolor": "#2a3f5f"
            },
            "type": "carpet"
           }
          ],
          "choropleth": [
           {
            "colorbar": {
             "outlinewidth": 0,
             "ticks": ""
            },
            "type": "choropleth"
           }
          ],
          "contour": [
           {
            "colorbar": {
             "outlinewidth": 0,
             "ticks": ""
            },
            "colorscale": [
             [
              0,
              "#0d0887"
             ],
             [
              0.1111111111111111,
              "#46039f"
             ],
             [
              0.2222222222222222,
              "#7201a8"
             ],
             [
              0.3333333333333333,
              "#9c179e"
             ],
             [
              0.4444444444444444,
              "#bd3786"
             ],
             [
              0.5555555555555556,
              "#d8576b"
             ],
             [
              0.6666666666666666,
              "#ed7953"
             ],
             [
              0.7777777777777778,
              "#fb9f3a"
             ],
             [
              0.8888888888888888,
              "#fdca26"
             ],
             [
              1,
              "#f0f921"
             ]
            ],
            "type": "contour"
           }
          ],
          "contourcarpet": [
           {
            "colorbar": {
             "outlinewidth": 0,
             "ticks": ""
            },
            "type": "contourcarpet"
           }
          ],
          "heatmap": [
           {
            "colorbar": {
             "outlinewidth": 0,
             "ticks": ""
            },
            "colorscale": [
             [
              0,
              "#0d0887"
             ],
             [
              0.1111111111111111,
              "#46039f"
             ],
             [
              0.2222222222222222,
              "#7201a8"
             ],
             [
              0.3333333333333333,
              "#9c179e"
             ],
             [
              0.4444444444444444,
              "#bd3786"
             ],
             [
              0.5555555555555556,
              "#d8576b"
             ],
             [
              0.6666666666666666,
              "#ed7953"
             ],
             [
              0.7777777777777778,
              "#fb9f3a"
             ],
             [
              0.8888888888888888,
              "#fdca26"
             ],
             [
              1,
              "#f0f921"
             ]
            ],
            "type": "heatmap"
           }
          ],
          "heatmapgl": [
           {
            "colorbar": {
             "outlinewidth": 0,
             "ticks": ""
            },
            "colorscale": [
             [
              0,
              "#0d0887"
             ],
             [
              0.1111111111111111,
              "#46039f"
             ],
             [
              0.2222222222222222,
              "#7201a8"
             ],
             [
              0.3333333333333333,
              "#9c179e"
             ],
             [
              0.4444444444444444,
              "#bd3786"
             ],
             [
              0.5555555555555556,
              "#d8576b"
             ],
             [
              0.6666666666666666,
              "#ed7953"
             ],
             [
              0.7777777777777778,
              "#fb9f3a"
             ],
             [
              0.8888888888888888,
              "#fdca26"
             ],
             [
              1,
              "#f0f921"
             ]
            ],
            "type": "heatmapgl"
           }
          ],
          "histogram": [
           {
            "marker": {
             "pattern": {
              "fillmode": "overlay",
              "size": 10,
              "solidity": 0.2
             }
            },
            "type": "histogram"
           }
          ],
          "histogram2d": [
           {
            "colorbar": {
             "outlinewidth": 0,
             "ticks": ""
            },
            "colorscale": [
             [
              0,
              "#0d0887"
             ],
             [
              0.1111111111111111,
              "#46039f"
             ],
             [
              0.2222222222222222,
              "#7201a8"
             ],
             [
              0.3333333333333333,
              "#9c179e"
             ],
             [
              0.4444444444444444,
              "#bd3786"
             ],
             [
              0.5555555555555556,
              "#d8576b"
             ],
             [
              0.6666666666666666,
              "#ed7953"
             ],
             [
              0.7777777777777778,
              "#fb9f3a"
             ],
             [
              0.8888888888888888,
              "#fdca26"
             ],
             [
              1,
              "#f0f921"
             ]
            ],
            "type": "histogram2d"
           }
          ],
          "histogram2dcontour": [
           {
            "colorbar": {
             "outlinewidth": 0,
             "ticks": ""
            },
            "colorscale": [
             [
              0,
              "#0d0887"
             ],
             [
              0.1111111111111111,
              "#46039f"
             ],
             [
              0.2222222222222222,
              "#7201a8"
             ],
             [
              0.3333333333333333,
              "#9c179e"
             ],
             [
              0.4444444444444444,
              "#bd3786"
             ],
             [
              0.5555555555555556,
              "#d8576b"
             ],
             [
              0.6666666666666666,
              "#ed7953"
             ],
             [
              0.7777777777777778,
              "#fb9f3a"
             ],
             [
              0.8888888888888888,
              "#fdca26"
             ],
             [
              1,
              "#f0f921"
             ]
            ],
            "type": "histogram2dcontour"
           }
          ],
          "mesh3d": [
           {
            "colorbar": {
             "outlinewidth": 0,
             "ticks": ""
            },
            "type": "mesh3d"
           }
          ],
          "parcoords": [
           {
            "line": {
             "colorbar": {
              "outlinewidth": 0,
              "ticks": ""
             }
            },
            "type": "parcoords"
           }
          ],
          "pie": [
           {
            "automargin": true,
            "type": "pie"
           }
          ],
          "scatter": [
           {
            "fillpattern": {
             "fillmode": "overlay",
             "size": 10,
             "solidity": 0.2
            },
            "type": "scatter"
           }
          ],
          "scatter3d": [
           {
            "line": {
             "colorbar": {
              "outlinewidth": 0,
              "ticks": ""
             }
            },
            "marker": {
             "colorbar": {
              "outlinewidth": 0,
              "ticks": ""
             }
            },
            "type": "scatter3d"
           }
          ],
          "scattercarpet": [
           {
            "marker": {
             "colorbar": {
              "outlinewidth": 0,
              "ticks": ""
             }
            },
            "type": "scattercarpet"
           }
          ],
          "scattergeo": [
           {
            "marker": {
             "colorbar": {
              "outlinewidth": 0,
              "ticks": ""
             }
            },
            "type": "scattergeo"
           }
          ],
          "scattergl": [
           {
            "marker": {
             "colorbar": {
              "outlinewidth": 0,
              "ticks": ""
             }
            },
            "type": "scattergl"
           }
          ],
          "scattermapbox": [
           {
            "marker": {
             "colorbar": {
              "outlinewidth": 0,
              "ticks": ""
             }
            },
            "type": "scattermapbox"
           }
          ],
          "scatterpolar": [
           {
            "marker": {
             "colorbar": {
              "outlinewidth": 0,
              "ticks": ""
             }
            },
            "type": "scatterpolar"
           }
          ],
          "scatterpolargl": [
           {
            "marker": {
             "colorbar": {
              "outlinewidth": 0,
              "ticks": ""
             }
            },
            "type": "scatterpolargl"
           }
          ],
          "scatterternary": [
           {
            "marker": {
             "colorbar": {
              "outlinewidth": 0,
              "ticks": ""
             }
            },
            "type": "scatterternary"
           }
          ],
          "surface": [
           {
            "colorbar": {
             "outlinewidth": 0,
             "ticks": ""
            },
            "colorscale": [
             [
              0,
              "#0d0887"
             ],
             [
              0.1111111111111111,
              "#46039f"
             ],
             [
              0.2222222222222222,
              "#7201a8"
             ],
             [
              0.3333333333333333,
              "#9c179e"
             ],
             [
              0.4444444444444444,
              "#bd3786"
             ],
             [
              0.5555555555555556,
              "#d8576b"
             ],
             [
              0.6666666666666666,
              "#ed7953"
             ],
             [
              0.7777777777777778,
              "#fb9f3a"
             ],
             [
              0.8888888888888888,
              "#fdca26"
             ],
             [
              1,
              "#f0f921"
             ]
            ],
            "type": "surface"
           }
          ],
          "table": [
           {
            "cells": {
             "fill": {
              "color": "#EBF0F8"
             },
             "line": {
              "color": "white"
             }
            },
            "header": {
             "fill": {
              "color": "#C8D4E3"
             },
             "line": {
              "color": "white"
             }
            },
            "type": "table"
           }
          ]
         },
         "layout": {
          "annotationdefaults": {
           "arrowcolor": "#2a3f5f",
           "arrowhead": 0,
           "arrowwidth": 1
          },
          "autotypenumbers": "strict",
          "coloraxis": {
           "colorbar": {
            "outlinewidth": 0,
            "ticks": ""
           }
          },
          "colorscale": {
           "diverging": [
            [
             0,
             "#8e0152"
            ],
            [
             0.1,
             "#c51b7d"
            ],
            [
             0.2,
             "#de77ae"
            ],
            [
             0.3,
             "#f1b6da"
            ],
            [
             0.4,
             "#fde0ef"
            ],
            [
             0.5,
             "#f7f7f7"
            ],
            [
             0.6,
             "#e6f5d0"
            ],
            [
             0.7,
             "#b8e186"
            ],
            [
             0.8,
             "#7fbc41"
            ],
            [
             0.9,
             "#4d9221"
            ],
            [
             1,
             "#276419"
            ]
           ],
           "sequential": [
            [
             0,
             "#0d0887"
            ],
            [
             0.1111111111111111,
             "#46039f"
            ],
            [
             0.2222222222222222,
             "#7201a8"
            ],
            [
             0.3333333333333333,
             "#9c179e"
            ],
            [
             0.4444444444444444,
             "#bd3786"
            ],
            [
             0.5555555555555556,
             "#d8576b"
            ],
            [
             0.6666666666666666,
             "#ed7953"
            ],
            [
             0.7777777777777778,
             "#fb9f3a"
            ],
            [
             0.8888888888888888,
             "#fdca26"
            ],
            [
             1,
             "#f0f921"
            ]
           ],
           "sequentialminus": [
            [
             0,
             "#0d0887"
            ],
            [
             0.1111111111111111,
             "#46039f"
            ],
            [
             0.2222222222222222,
             "#7201a8"
            ],
            [
             0.3333333333333333,
             "#9c179e"
            ],
            [
             0.4444444444444444,
             "#bd3786"
            ],
            [
             0.5555555555555556,
             "#d8576b"
            ],
            [
             0.6666666666666666,
             "#ed7953"
            ],
            [
             0.7777777777777778,
             "#fb9f3a"
            ],
            [
             0.8888888888888888,
             "#fdca26"
            ],
            [
             1,
             "#f0f921"
            ]
           ]
          },
          "colorway": [
           "#636efa",
           "#EF553B",
           "#00cc96",
           "#ab63fa",
           "#FFA15A",
           "#19d3f3",
           "#FF6692",
           "#B6E880",
           "#FF97FF",
           "#FECB52"
          ],
          "font": {
           "color": "#2a3f5f"
          },
          "geo": {
           "bgcolor": "white",
           "lakecolor": "white",
           "landcolor": "#E5ECF6",
           "showlakes": true,
           "showland": true,
           "subunitcolor": "white"
          },
          "hoverlabel": {
           "align": "left"
          },
          "hovermode": "closest",
          "mapbox": {
           "style": "light"
          },
          "paper_bgcolor": "white",
          "plot_bgcolor": "#E5ECF6",
          "polar": {
           "angularaxis": {
            "gridcolor": "white",
            "linecolor": "white",
            "ticks": ""
           },
           "bgcolor": "#E5ECF6",
           "radialaxis": {
            "gridcolor": "white",
            "linecolor": "white",
            "ticks": ""
           }
          },
          "scene": {
           "xaxis": {
            "backgroundcolor": "#E5ECF6",
            "gridcolor": "white",
            "gridwidth": 2,
            "linecolor": "white",
            "showbackground": true,
            "ticks": "",
            "zerolinecolor": "white"
           },
           "yaxis": {
            "backgroundcolor": "#E5ECF6",
            "gridcolor": "white",
            "gridwidth": 2,
            "linecolor": "white",
            "showbackground": true,
            "ticks": "",
            "zerolinecolor": "white"
           },
           "zaxis": {
            "backgroundcolor": "#E5ECF6",
            "gridcolor": "white",
            "gridwidth": 2,
            "linecolor": "white",
            "showbackground": true,
            "ticks": "",
            "zerolinecolor": "white"
           }
          },
          "shapedefaults": {
           "line": {
            "color": "#2a3f5f"
           }
          },
          "ternary": {
           "aaxis": {
            "gridcolor": "white",
            "linecolor": "white",
            "ticks": ""
           },
           "baxis": {
            "gridcolor": "white",
            "linecolor": "white",
            "ticks": ""
           },
           "bgcolor": "#E5ECF6",
           "caxis": {
            "gridcolor": "white",
            "linecolor": "white",
            "ticks": ""
           }
          },
          "title": {
           "x": 0.05
          },
          "xaxis": {
           "automargin": true,
           "gridcolor": "white",
           "linecolor": "white",
           "ticks": "",
           "title": {
            "standoff": 15
           },
           "zerolinecolor": "white",
           "zerolinewidth": 2
          },
          "yaxis": {
           "automargin": true,
           "gridcolor": "white",
           "linecolor": "white",
           "ticks": "",
           "title": {
            "standoff": 15
           },
           "zerolinecolor": "white",
           "zerolinewidth": 2
          }
         }
        },
        "title": {
         "text": "Sales Histogram"
        },
        "xaxis": {
         "anchor": "y",
         "domain": [
          0,
          1
         ],
         "title": {
          "text": "sales"
         }
        },
        "yaxis": {
         "anchor": "x",
         "domain": [
          0,
          1
         ],
         "title": {
          "text": "count"
         }
        }
       }
      }
     },
     "metadata": {},
     "output_type": "display_data"
    }
   ],
   "source": [
    "total_result, total_fig = check_stationarity(df_total)\n",
    "print(\"Total Sales:\")\n",
    "print_adfuller_result(total_result)\n",
    "total_fig.show()"
   ]
  },
  {
   "cell_type": "code",
   "execution_count": 122,
   "metadata": {},
   "outputs": [],
   "source": [
    "# cut last 30 days for testing\n",
    "days_for_test = 45\n",
    "df_train = df_total[:-days_for_test]\n",
    "df_test = df_total[-days_for_test:]"
   ]
  },
  {
   "cell_type": "code",
   "execution_count": 123,
   "metadata": {},
   "outputs": [
    {
     "data": {
      "application/vnd.plotly.v1+json": {
       "config": {
        "plotlyServerURL": "https://plot.ly"
       },
       "data": [
        {
         "mode": "lines",
         "name": "Train",
         "type": "scatter",
         "x": [
          "2013-01-01T00:00:00",
          "2013-01-02T00:00:00",
          "2013-01-03T00:00:00",
          "2013-01-04T00:00:00",
          "2013-01-05T00:00:00",
          "2013-01-06T00:00:00",
          "2013-01-07T00:00:00",
          "2013-01-08T00:00:00",
          "2013-01-09T00:00:00",
          "2013-01-10T00:00:00",
          "2013-01-11T00:00:00",
          "2013-01-12T00:00:00",
          "2013-01-13T00:00:00",
          "2013-01-14T00:00:00",
          "2013-01-15T00:00:00",
          "2013-01-16T00:00:00",
          "2013-01-17T00:00:00",
          "2013-01-18T00:00:00",
          "2013-01-19T00:00:00",
          "2013-01-20T00:00:00",
          "2013-01-21T00:00:00",
          "2013-01-22T00:00:00",
          "2013-01-23T00:00:00",
          "2013-01-24T00:00:00",
          "2013-01-25T00:00:00",
          "2013-01-26T00:00:00",
          "2013-01-27T00:00:00",
          "2013-01-28T00:00:00",
          "2013-01-29T00:00:00",
          "2013-01-30T00:00:00",
          "2013-01-31T00:00:00",
          "2013-02-01T00:00:00",
          "2013-02-02T00:00:00",
          "2013-02-03T00:00:00",
          "2013-02-04T00:00:00",
          "2013-02-05T00:00:00",
          "2013-02-06T00:00:00",
          "2013-02-07T00:00:00",
          "2013-02-08T00:00:00",
          "2013-02-09T00:00:00",
          "2013-02-10T00:00:00",
          "2013-02-11T00:00:00",
          "2013-02-12T00:00:00",
          "2013-02-13T00:00:00",
          "2013-02-14T00:00:00",
          "2013-02-15T00:00:00",
          "2013-02-16T00:00:00",
          "2013-02-17T00:00:00",
          "2013-02-18T00:00:00",
          "2013-02-19T00:00:00",
          "2013-02-20T00:00:00",
          "2013-02-21T00:00:00",
          "2013-02-22T00:00:00",
          "2013-02-23T00:00:00",
          "2013-02-24T00:00:00",
          "2013-02-25T00:00:00",
          "2013-02-26T00:00:00",
          "2013-02-27T00:00:00",
          "2013-02-28T00:00:00",
          "2013-03-01T00:00:00",
          "2013-03-02T00:00:00",
          "2013-03-03T00:00:00",
          "2013-03-04T00:00:00",
          "2013-03-05T00:00:00",
          "2013-03-06T00:00:00",
          "2013-03-07T00:00:00",
          "2013-03-08T00:00:00",
          "2013-03-09T00:00:00",
          "2013-03-10T00:00:00",
          "2013-03-11T00:00:00",
          "2013-03-12T00:00:00",
          "2013-03-13T00:00:00",
          "2013-03-14T00:00:00",
          "2013-03-15T00:00:00",
          "2013-03-16T00:00:00",
          "2013-03-17T00:00:00",
          "2013-03-18T00:00:00",
          "2013-03-19T00:00:00",
          "2013-03-20T00:00:00",
          "2013-03-21T00:00:00",
          "2013-03-22T00:00:00",
          "2013-03-23T00:00:00",
          "2013-03-24T00:00:00",
          "2013-03-25T00:00:00",
          "2013-03-26T00:00:00",
          "2013-03-27T00:00:00",
          "2013-03-28T00:00:00",
          "2013-03-29T00:00:00",
          "2013-03-30T00:00:00",
          "2013-03-31T00:00:00",
          "2013-04-01T00:00:00",
          "2013-04-02T00:00:00",
          "2013-04-03T00:00:00",
          "2013-04-04T00:00:00",
          "2013-04-05T00:00:00",
          "2013-04-06T00:00:00",
          "2013-04-07T00:00:00",
          "2013-04-08T00:00:00",
          "2013-04-09T00:00:00",
          "2013-04-10T00:00:00",
          "2013-04-11T00:00:00",
          "2013-04-12T00:00:00",
          "2013-04-13T00:00:00",
          "2013-04-14T00:00:00",
          "2013-04-15T00:00:00",
          "2013-04-16T00:00:00",
          "2013-04-17T00:00:00",
          "2013-04-18T00:00:00",
          "2013-04-19T00:00:00",
          "2013-04-20T00:00:00",
          "2013-04-21T00:00:00",
          "2013-04-22T00:00:00",
          "2013-04-23T00:00:00",
          "2013-04-24T00:00:00",
          "2013-04-25T00:00:00",
          "2013-04-26T00:00:00",
          "2013-04-27T00:00:00",
          "2013-04-28T00:00:00",
          "2013-04-29T00:00:00",
          "2013-04-30T00:00:00",
          "2013-05-01T00:00:00",
          "2013-05-02T00:00:00",
          "2013-05-03T00:00:00",
          "2013-05-04T00:00:00",
          "2013-05-05T00:00:00",
          "2013-05-06T00:00:00",
          "2013-05-07T00:00:00",
          "2013-05-08T00:00:00",
          "2013-05-09T00:00:00",
          "2013-05-10T00:00:00",
          "2013-05-11T00:00:00",
          "2013-05-12T00:00:00",
          "2013-05-13T00:00:00",
          "2013-05-14T00:00:00",
          "2013-05-15T00:00:00",
          "2013-05-16T00:00:00",
          "2013-05-17T00:00:00",
          "2013-05-18T00:00:00",
          "2013-05-19T00:00:00",
          "2013-05-20T00:00:00",
          "2013-05-21T00:00:00",
          "2013-05-22T00:00:00",
          "2013-05-23T00:00:00",
          "2013-05-24T00:00:00",
          "2013-05-25T00:00:00",
          "2013-05-26T00:00:00",
          "2013-05-27T00:00:00",
          "2013-05-28T00:00:00",
          "2013-05-29T00:00:00",
          "2013-05-30T00:00:00",
          "2013-05-31T00:00:00",
          "2013-06-01T00:00:00",
          "2013-06-02T00:00:00",
          "2013-06-03T00:00:00",
          "2013-06-04T00:00:00",
          "2013-06-05T00:00:00",
          "2013-06-06T00:00:00",
          "2013-06-07T00:00:00",
          "2013-06-08T00:00:00",
          "2013-06-09T00:00:00",
          "2013-06-10T00:00:00",
          "2013-06-11T00:00:00",
          "2013-06-12T00:00:00",
          "2013-06-13T00:00:00",
          "2013-06-14T00:00:00",
          "2013-06-15T00:00:00",
          "2013-06-16T00:00:00",
          "2013-06-17T00:00:00",
          "2013-06-18T00:00:00",
          "2013-06-19T00:00:00",
          "2013-06-20T00:00:00",
          "2013-06-21T00:00:00",
          "2013-06-22T00:00:00",
          "2013-06-23T00:00:00",
          "2013-06-24T00:00:00",
          "2013-06-25T00:00:00",
          "2013-06-26T00:00:00",
          "2013-06-27T00:00:00",
          "2013-06-28T00:00:00",
          "2013-06-29T00:00:00",
          "2013-06-30T00:00:00",
          "2013-07-01T00:00:00",
          "2013-07-02T00:00:00",
          "2013-07-03T00:00:00",
          "2013-07-04T00:00:00",
          "2013-07-05T00:00:00",
          "2013-07-06T00:00:00",
          "2013-07-07T00:00:00",
          "2013-07-08T00:00:00",
          "2013-07-09T00:00:00",
          "2013-07-10T00:00:00",
          "2013-07-11T00:00:00",
          "2013-07-12T00:00:00",
          "2013-07-13T00:00:00",
          "2013-07-14T00:00:00",
          "2013-07-15T00:00:00",
          "2013-07-16T00:00:00",
          "2013-07-17T00:00:00",
          "2013-07-18T00:00:00",
          "2013-07-19T00:00:00",
          "2013-07-20T00:00:00",
          "2013-07-21T00:00:00",
          "2013-07-22T00:00:00",
          "2013-07-23T00:00:00",
          "2013-07-24T00:00:00",
          "2013-07-25T00:00:00",
          "2013-07-26T00:00:00",
          "2013-07-27T00:00:00",
          "2013-07-28T00:00:00",
          "2013-07-29T00:00:00",
          "2013-07-30T00:00:00",
          "2013-07-31T00:00:00",
          "2013-08-01T00:00:00",
          "2013-08-02T00:00:00",
          "2013-08-03T00:00:00",
          "2013-08-04T00:00:00",
          "2013-08-05T00:00:00",
          "2013-08-06T00:00:00",
          "2013-08-07T00:00:00",
          "2013-08-08T00:00:00",
          "2013-08-09T00:00:00",
          "2013-08-10T00:00:00",
          "2013-08-11T00:00:00",
          "2013-08-12T00:00:00",
          "2013-08-13T00:00:00",
          "2013-08-14T00:00:00",
          "2013-08-15T00:00:00",
          "2013-08-16T00:00:00",
          "2013-08-17T00:00:00",
          "2013-08-18T00:00:00",
          "2013-08-19T00:00:00",
          "2013-08-20T00:00:00",
          "2013-08-21T00:00:00",
          "2013-08-22T00:00:00",
          "2013-08-23T00:00:00",
          "2013-08-24T00:00:00",
          "2013-08-25T00:00:00",
          "2013-08-26T00:00:00",
          "2013-08-27T00:00:00",
          "2013-08-28T00:00:00",
          "2013-08-29T00:00:00",
          "2013-08-30T00:00:00",
          "2013-08-31T00:00:00",
          "2013-09-01T00:00:00",
          "2013-09-02T00:00:00",
          "2013-09-03T00:00:00",
          "2013-09-04T00:00:00",
          "2013-09-05T00:00:00",
          "2013-09-06T00:00:00",
          "2013-09-07T00:00:00",
          "2013-09-08T00:00:00",
          "2013-09-09T00:00:00",
          "2013-09-10T00:00:00",
          "2013-09-11T00:00:00",
          "2013-09-12T00:00:00",
          "2013-09-13T00:00:00",
          "2013-09-14T00:00:00",
          "2013-09-15T00:00:00",
          "2013-09-16T00:00:00",
          "2013-09-17T00:00:00",
          "2013-09-18T00:00:00",
          "2013-09-19T00:00:00",
          "2013-09-20T00:00:00",
          "2013-09-21T00:00:00",
          "2013-09-22T00:00:00",
          "2013-09-23T00:00:00",
          "2013-09-24T00:00:00",
          "2013-09-25T00:00:00",
          "2013-09-26T00:00:00",
          "2013-09-27T00:00:00",
          "2013-09-28T00:00:00",
          "2013-09-29T00:00:00",
          "2013-09-30T00:00:00",
          "2013-10-01T00:00:00",
          "2013-10-02T00:00:00",
          "2013-10-03T00:00:00",
          "2013-10-04T00:00:00",
          "2013-10-05T00:00:00",
          "2013-10-06T00:00:00",
          "2013-10-07T00:00:00",
          "2013-10-08T00:00:00",
          "2013-10-09T00:00:00",
          "2013-10-10T00:00:00",
          "2013-10-11T00:00:00",
          "2013-10-12T00:00:00",
          "2013-10-13T00:00:00",
          "2013-10-14T00:00:00",
          "2013-10-15T00:00:00",
          "2013-10-16T00:00:00",
          "2013-10-17T00:00:00",
          "2013-10-18T00:00:00",
          "2013-10-19T00:00:00",
          "2013-10-20T00:00:00",
          "2013-10-21T00:00:00",
          "2013-10-22T00:00:00",
          "2013-10-23T00:00:00",
          "2013-10-24T00:00:00",
          "2013-10-25T00:00:00",
          "2013-10-26T00:00:00",
          "2013-10-27T00:00:00",
          "2013-10-28T00:00:00",
          "2013-10-29T00:00:00",
          "2013-10-30T00:00:00",
          "2013-10-31T00:00:00",
          "2013-11-01T00:00:00",
          "2013-11-02T00:00:00",
          "2013-11-03T00:00:00",
          "2013-11-04T00:00:00",
          "2013-11-05T00:00:00",
          "2013-11-06T00:00:00",
          "2013-11-07T00:00:00",
          "2013-11-08T00:00:00",
          "2013-11-09T00:00:00",
          "2013-11-10T00:00:00",
          "2013-11-11T00:00:00",
          "2013-11-12T00:00:00",
          "2013-11-13T00:00:00",
          "2013-11-14T00:00:00",
          "2013-11-15T00:00:00",
          "2013-11-16T00:00:00",
          "2013-11-17T00:00:00",
          "2013-11-18T00:00:00",
          "2013-11-19T00:00:00",
          "2013-11-20T00:00:00",
          "2013-11-21T00:00:00",
          "2013-11-22T00:00:00",
          "2013-11-23T00:00:00",
          "2013-11-24T00:00:00",
          "2013-11-25T00:00:00",
          "2013-11-26T00:00:00",
          "2013-11-27T00:00:00",
          "2013-11-28T00:00:00",
          "2013-11-29T00:00:00",
          "2013-11-30T00:00:00",
          "2013-12-01T00:00:00",
          "2013-12-02T00:00:00",
          "2013-12-03T00:00:00",
          "2013-12-04T00:00:00",
          "2013-12-05T00:00:00",
          "2013-12-06T00:00:00",
          "2013-12-07T00:00:00",
          "2013-12-08T00:00:00",
          "2013-12-09T00:00:00",
          "2013-12-10T00:00:00",
          "2013-12-11T00:00:00",
          "2013-12-12T00:00:00",
          "2013-12-13T00:00:00",
          "2013-12-14T00:00:00",
          "2013-12-15T00:00:00",
          "2013-12-16T00:00:00",
          "2013-12-17T00:00:00",
          "2013-12-18T00:00:00",
          "2013-12-19T00:00:00",
          "2013-12-20T00:00:00",
          "2013-12-21T00:00:00",
          "2013-12-22T00:00:00",
          "2013-12-23T00:00:00",
          "2013-12-24T00:00:00",
          "2013-12-26T00:00:00",
          "2013-12-27T00:00:00",
          "2013-12-28T00:00:00",
          "2013-12-29T00:00:00",
          "2013-12-30T00:00:00",
          "2013-12-31T00:00:00",
          "2014-01-01T00:00:00",
          "2014-01-02T00:00:00",
          "2014-01-03T00:00:00",
          "2014-01-04T00:00:00",
          "2014-01-05T00:00:00",
          "2014-01-06T00:00:00",
          "2014-01-07T00:00:00",
          "2014-01-08T00:00:00",
          "2014-01-09T00:00:00",
          "2014-01-10T00:00:00",
          "2014-01-11T00:00:00",
          "2014-01-12T00:00:00",
          "2014-01-13T00:00:00",
          "2014-01-14T00:00:00",
          "2014-01-15T00:00:00",
          "2014-01-16T00:00:00",
          "2014-01-17T00:00:00",
          "2014-01-18T00:00:00",
          "2014-01-19T00:00:00",
          "2014-01-20T00:00:00",
          "2014-01-21T00:00:00",
          "2014-01-22T00:00:00",
          "2014-01-23T00:00:00",
          "2014-01-24T00:00:00",
          "2014-01-25T00:00:00",
          "2014-01-26T00:00:00",
          "2014-01-27T00:00:00",
          "2014-01-28T00:00:00",
          "2014-01-29T00:00:00",
          "2014-01-30T00:00:00",
          "2014-01-31T00:00:00",
          "2014-02-01T00:00:00",
          "2014-02-02T00:00:00",
          "2014-02-03T00:00:00",
          "2014-02-04T00:00:00",
          "2014-02-05T00:00:00",
          "2014-02-06T00:00:00",
          "2014-02-07T00:00:00",
          "2014-02-08T00:00:00",
          "2014-02-09T00:00:00",
          "2014-02-10T00:00:00",
          "2014-02-11T00:00:00",
          "2014-02-12T00:00:00",
          "2014-02-13T00:00:00",
          "2014-02-14T00:00:00",
          "2014-02-15T00:00:00",
          "2014-02-16T00:00:00",
          "2014-02-17T00:00:00",
          "2014-02-18T00:00:00",
          "2014-02-19T00:00:00",
          "2014-02-20T00:00:00",
          "2014-02-21T00:00:00",
          "2014-02-22T00:00:00",
          "2014-02-23T00:00:00",
          "2014-02-24T00:00:00",
          "2014-02-25T00:00:00",
          "2014-02-26T00:00:00",
          "2014-02-27T00:00:00",
          "2014-02-28T00:00:00",
          "2014-03-01T00:00:00",
          "2014-03-02T00:00:00",
          "2014-03-03T00:00:00",
          "2014-03-04T00:00:00",
          "2014-03-05T00:00:00",
          "2014-03-06T00:00:00",
          "2014-03-07T00:00:00",
          "2014-03-08T00:00:00",
          "2014-03-09T00:00:00",
          "2014-03-10T00:00:00",
          "2014-03-11T00:00:00",
          "2014-03-12T00:00:00",
          "2014-03-13T00:00:00",
          "2014-03-14T00:00:00",
          "2014-03-15T00:00:00",
          "2014-03-16T00:00:00",
          "2014-03-17T00:00:00",
          "2014-03-18T00:00:00",
          "2014-03-19T00:00:00",
          "2014-03-20T00:00:00",
          "2014-03-21T00:00:00",
          "2014-03-22T00:00:00",
          "2014-03-23T00:00:00",
          "2014-03-24T00:00:00",
          "2014-03-25T00:00:00",
          "2014-03-26T00:00:00",
          "2014-03-27T00:00:00",
          "2014-03-28T00:00:00",
          "2014-03-29T00:00:00",
          "2014-03-30T00:00:00",
          "2014-03-31T00:00:00",
          "2014-04-01T00:00:00",
          "2014-04-02T00:00:00",
          "2014-04-03T00:00:00",
          "2014-04-04T00:00:00",
          "2014-04-05T00:00:00",
          "2014-04-06T00:00:00",
          "2014-04-07T00:00:00",
          "2014-04-08T00:00:00",
          "2014-04-09T00:00:00",
          "2014-04-10T00:00:00",
          "2014-04-11T00:00:00",
          "2014-04-12T00:00:00",
          "2014-04-13T00:00:00",
          "2014-04-14T00:00:00",
          "2014-04-15T00:00:00",
          "2014-04-16T00:00:00",
          "2014-04-17T00:00:00",
          "2014-04-18T00:00:00",
          "2014-04-19T00:00:00",
          "2014-04-20T00:00:00",
          "2014-04-21T00:00:00",
          "2014-04-22T00:00:00",
          "2014-04-23T00:00:00",
          "2014-04-24T00:00:00",
          "2014-04-25T00:00:00",
          "2014-04-26T00:00:00",
          "2014-04-27T00:00:00",
          "2014-04-28T00:00:00",
          "2014-04-29T00:00:00",
          "2014-04-30T00:00:00",
          "2014-05-01T00:00:00",
          "2014-05-02T00:00:00",
          "2014-05-03T00:00:00",
          "2014-05-04T00:00:00",
          "2014-05-05T00:00:00",
          "2014-05-06T00:00:00",
          "2014-05-07T00:00:00",
          "2014-05-08T00:00:00",
          "2014-05-09T00:00:00",
          "2014-05-10T00:00:00",
          "2014-05-11T00:00:00",
          "2014-05-12T00:00:00",
          "2014-05-13T00:00:00",
          "2014-05-14T00:00:00",
          "2014-05-15T00:00:00",
          "2014-05-16T00:00:00",
          "2014-05-17T00:00:00",
          "2014-05-18T00:00:00",
          "2014-05-19T00:00:00",
          "2014-05-20T00:00:00",
          "2014-05-21T00:00:00",
          "2014-05-22T00:00:00",
          "2014-05-23T00:00:00",
          "2014-05-24T00:00:00",
          "2014-05-25T00:00:00",
          "2014-05-26T00:00:00",
          "2014-05-27T00:00:00",
          "2014-05-28T00:00:00",
          "2014-05-29T00:00:00",
          "2014-05-30T00:00:00",
          "2014-05-31T00:00:00",
          "2014-06-01T00:00:00",
          "2014-06-02T00:00:00",
          "2014-06-03T00:00:00",
          "2014-06-04T00:00:00",
          "2014-06-05T00:00:00",
          "2014-06-06T00:00:00",
          "2014-06-07T00:00:00",
          "2014-06-08T00:00:00",
          "2014-06-09T00:00:00",
          "2014-06-10T00:00:00",
          "2014-06-11T00:00:00",
          "2014-06-12T00:00:00",
          "2014-06-13T00:00:00",
          "2014-06-14T00:00:00",
          "2014-06-15T00:00:00",
          "2014-06-16T00:00:00",
          "2014-06-17T00:00:00",
          "2014-06-18T00:00:00",
          "2014-06-19T00:00:00",
          "2014-06-20T00:00:00",
          "2014-06-21T00:00:00",
          "2014-06-22T00:00:00",
          "2014-06-23T00:00:00",
          "2014-06-24T00:00:00",
          "2014-06-25T00:00:00",
          "2014-06-26T00:00:00",
          "2014-06-27T00:00:00",
          "2014-06-28T00:00:00",
          "2014-06-29T00:00:00",
          "2014-06-30T00:00:00",
          "2014-07-01T00:00:00",
          "2014-07-02T00:00:00",
          "2014-07-03T00:00:00",
          "2014-07-04T00:00:00",
          "2014-07-05T00:00:00",
          "2014-07-06T00:00:00",
          "2014-07-07T00:00:00",
          "2014-07-08T00:00:00",
          "2014-07-09T00:00:00",
          "2014-07-10T00:00:00",
          "2014-07-11T00:00:00",
          "2014-07-12T00:00:00",
          "2014-07-13T00:00:00",
          "2014-07-14T00:00:00",
          "2014-07-15T00:00:00",
          "2014-07-16T00:00:00",
          "2014-07-17T00:00:00",
          "2014-07-18T00:00:00",
          "2014-07-19T00:00:00",
          "2014-07-20T00:00:00",
          "2014-07-21T00:00:00",
          "2014-07-22T00:00:00",
          "2014-07-23T00:00:00",
          "2014-07-24T00:00:00",
          "2014-07-25T00:00:00",
          "2014-07-26T00:00:00",
          "2014-07-27T00:00:00",
          "2014-07-28T00:00:00",
          "2014-07-29T00:00:00",
          "2014-07-30T00:00:00",
          "2014-07-31T00:00:00",
          "2014-08-01T00:00:00",
          "2014-08-02T00:00:00",
          "2014-08-03T00:00:00",
          "2014-08-04T00:00:00",
          "2014-08-05T00:00:00",
          "2014-08-06T00:00:00",
          "2014-08-07T00:00:00",
          "2014-08-08T00:00:00",
          "2014-08-09T00:00:00",
          "2014-08-10T00:00:00",
          "2014-08-11T00:00:00",
          "2014-08-12T00:00:00",
          "2014-08-13T00:00:00",
          "2014-08-14T00:00:00",
          "2014-08-15T00:00:00",
          "2014-08-16T00:00:00",
          "2014-08-17T00:00:00",
          "2014-08-18T00:00:00",
          "2014-08-19T00:00:00",
          "2014-08-20T00:00:00",
          "2014-08-21T00:00:00",
          "2014-08-22T00:00:00",
          "2014-08-23T00:00:00",
          "2014-08-24T00:00:00",
          "2014-08-25T00:00:00",
          "2014-08-26T00:00:00",
          "2014-08-27T00:00:00",
          "2014-08-28T00:00:00",
          "2014-08-29T00:00:00",
          "2014-08-30T00:00:00",
          "2014-08-31T00:00:00",
          "2014-09-01T00:00:00",
          "2014-09-02T00:00:00",
          "2014-09-03T00:00:00",
          "2014-09-04T00:00:00",
          "2014-09-05T00:00:00",
          "2014-09-06T00:00:00",
          "2014-09-07T00:00:00",
          "2014-09-08T00:00:00",
          "2014-09-09T00:00:00",
          "2014-09-10T00:00:00",
          "2014-09-11T00:00:00",
          "2014-09-12T00:00:00",
          "2014-09-13T00:00:00",
          "2014-09-14T00:00:00",
          "2014-09-15T00:00:00",
          "2014-09-16T00:00:00",
          "2014-09-17T00:00:00",
          "2014-09-18T00:00:00",
          "2014-09-19T00:00:00",
          "2014-09-20T00:00:00",
          "2014-09-21T00:00:00",
          "2014-09-22T00:00:00",
          "2014-09-23T00:00:00",
          "2014-09-24T00:00:00",
          "2014-09-25T00:00:00",
          "2014-09-26T00:00:00",
          "2014-09-27T00:00:00",
          "2014-09-28T00:00:00",
          "2014-09-29T00:00:00",
          "2014-09-30T00:00:00",
          "2014-10-01T00:00:00",
          "2014-10-02T00:00:00",
          "2014-10-03T00:00:00",
          "2014-10-04T00:00:00",
          "2014-10-05T00:00:00",
          "2014-10-06T00:00:00",
          "2014-10-07T00:00:00",
          "2014-10-08T00:00:00",
          "2014-10-09T00:00:00",
          "2014-10-10T00:00:00",
          "2014-10-11T00:00:00",
          "2014-10-12T00:00:00",
          "2014-10-13T00:00:00",
          "2014-10-14T00:00:00",
          "2014-10-15T00:00:00",
          "2014-10-16T00:00:00",
          "2014-10-17T00:00:00",
          "2014-10-18T00:00:00",
          "2014-10-19T00:00:00",
          "2014-10-20T00:00:00",
          "2014-10-21T00:00:00",
          "2014-10-22T00:00:00",
          "2014-10-23T00:00:00",
          "2014-10-24T00:00:00",
          "2014-10-25T00:00:00",
          "2014-10-26T00:00:00",
          "2014-10-27T00:00:00",
          "2014-10-28T00:00:00",
          "2014-10-29T00:00:00",
          "2014-10-30T00:00:00",
          "2014-10-31T00:00:00",
          "2014-11-01T00:00:00",
          "2014-11-02T00:00:00",
          "2014-11-03T00:00:00",
          "2014-11-04T00:00:00",
          "2014-11-05T00:00:00",
          "2014-11-06T00:00:00",
          "2014-11-07T00:00:00",
          "2014-11-08T00:00:00",
          "2014-11-09T00:00:00",
          "2014-11-10T00:00:00",
          "2014-11-11T00:00:00",
          "2014-11-12T00:00:00",
          "2014-11-13T00:00:00",
          "2014-11-14T00:00:00",
          "2014-11-15T00:00:00",
          "2014-11-16T00:00:00",
          "2014-11-17T00:00:00",
          "2014-11-18T00:00:00",
          "2014-11-19T00:00:00",
          "2014-11-20T00:00:00",
          "2014-11-21T00:00:00",
          "2014-11-22T00:00:00",
          "2014-11-23T00:00:00",
          "2014-11-24T00:00:00",
          "2014-11-25T00:00:00",
          "2014-11-26T00:00:00",
          "2014-11-27T00:00:00",
          "2014-11-28T00:00:00",
          "2014-11-29T00:00:00",
          "2014-11-30T00:00:00",
          "2014-12-01T00:00:00",
          "2014-12-02T00:00:00",
          "2014-12-03T00:00:00",
          "2014-12-04T00:00:00",
          "2014-12-05T00:00:00",
          "2014-12-06T00:00:00",
          "2014-12-07T00:00:00",
          "2014-12-08T00:00:00",
          "2014-12-09T00:00:00",
          "2014-12-10T00:00:00",
          "2014-12-11T00:00:00",
          "2014-12-12T00:00:00",
          "2014-12-13T00:00:00",
          "2014-12-14T00:00:00",
          "2014-12-15T00:00:00",
          "2014-12-16T00:00:00",
          "2014-12-17T00:00:00",
          "2014-12-18T00:00:00",
          "2014-12-19T00:00:00",
          "2014-12-20T00:00:00",
          "2014-12-21T00:00:00",
          "2014-12-22T00:00:00",
          "2014-12-23T00:00:00",
          "2014-12-24T00:00:00",
          "2014-12-26T00:00:00",
          "2014-12-27T00:00:00",
          "2014-12-28T00:00:00",
          "2014-12-29T00:00:00",
          "2014-12-30T00:00:00",
          "2014-12-31T00:00:00",
          "2015-01-01T00:00:00",
          "2015-01-02T00:00:00",
          "2015-01-03T00:00:00",
          "2015-01-04T00:00:00",
          "2015-01-05T00:00:00",
          "2015-01-06T00:00:00",
          "2015-01-07T00:00:00",
          "2015-01-08T00:00:00",
          "2015-01-09T00:00:00",
          "2015-01-10T00:00:00",
          "2015-01-11T00:00:00",
          "2015-01-12T00:00:00",
          "2015-01-13T00:00:00",
          "2015-01-14T00:00:00",
          "2015-01-15T00:00:00",
          "2015-01-16T00:00:00",
          "2015-01-17T00:00:00",
          "2015-01-18T00:00:00",
          "2015-01-19T00:00:00",
          "2015-01-20T00:00:00",
          "2015-01-21T00:00:00",
          "2015-01-22T00:00:00",
          "2015-01-23T00:00:00",
          "2015-01-24T00:00:00",
          "2015-01-25T00:00:00",
          "2015-01-26T00:00:00",
          "2015-01-27T00:00:00",
          "2015-01-28T00:00:00",
          "2015-01-29T00:00:00",
          "2015-01-30T00:00:00",
          "2015-01-31T00:00:00",
          "2015-02-01T00:00:00",
          "2015-02-02T00:00:00",
          "2015-02-03T00:00:00",
          "2015-02-04T00:00:00",
          "2015-02-05T00:00:00",
          "2015-02-06T00:00:00",
          "2015-02-07T00:00:00",
          "2015-02-08T00:00:00",
          "2015-02-09T00:00:00",
          "2015-02-10T00:00:00",
          "2015-02-11T00:00:00",
          "2015-02-12T00:00:00",
          "2015-02-13T00:00:00",
          "2015-02-14T00:00:00",
          "2015-02-15T00:00:00",
          "2015-02-16T00:00:00",
          "2015-02-17T00:00:00",
          "2015-02-18T00:00:00",
          "2015-02-19T00:00:00",
          "2015-02-20T00:00:00",
          "2015-02-21T00:00:00",
          "2015-02-22T00:00:00",
          "2015-02-23T00:00:00",
          "2015-02-24T00:00:00",
          "2015-02-25T00:00:00",
          "2015-02-26T00:00:00",
          "2015-02-27T00:00:00",
          "2015-02-28T00:00:00",
          "2015-03-01T00:00:00",
          "2015-03-02T00:00:00",
          "2015-03-03T00:00:00",
          "2015-03-04T00:00:00",
          "2015-03-05T00:00:00",
          "2015-03-06T00:00:00",
          "2015-03-07T00:00:00",
          "2015-03-08T00:00:00",
          "2015-03-09T00:00:00",
          "2015-03-10T00:00:00",
          "2015-03-11T00:00:00",
          "2015-03-12T00:00:00",
          "2015-03-13T00:00:00",
          "2015-03-14T00:00:00",
          "2015-03-15T00:00:00",
          "2015-03-16T00:00:00",
          "2015-03-17T00:00:00",
          "2015-03-18T00:00:00",
          "2015-03-19T00:00:00",
          "2015-03-20T00:00:00",
          "2015-03-21T00:00:00",
          "2015-03-22T00:00:00",
          "2015-03-23T00:00:00",
          "2015-03-24T00:00:00",
          "2015-03-25T00:00:00",
          "2015-03-26T00:00:00",
          "2015-03-27T00:00:00",
          "2015-03-28T00:00:00",
          "2015-03-29T00:00:00",
          "2015-03-30T00:00:00",
          "2015-03-31T00:00:00",
          "2015-04-01T00:00:00",
          "2015-04-02T00:00:00",
          "2015-04-03T00:00:00",
          "2015-04-04T00:00:00",
          "2015-04-05T00:00:00",
          "2015-04-06T00:00:00",
          "2015-04-07T00:00:00",
          "2015-04-08T00:00:00",
          "2015-04-09T00:00:00",
          "2015-04-10T00:00:00",
          "2015-04-11T00:00:00",
          "2015-04-12T00:00:00",
          "2015-04-13T00:00:00",
          "2015-04-14T00:00:00",
          "2015-04-15T00:00:00",
          "2015-04-16T00:00:00",
          "2015-04-17T00:00:00",
          "2015-04-18T00:00:00",
          "2015-04-19T00:00:00",
          "2015-04-20T00:00:00",
          "2015-04-21T00:00:00",
          "2015-04-22T00:00:00",
          "2015-04-23T00:00:00",
          "2015-04-24T00:00:00",
          "2015-04-25T00:00:00",
          "2015-04-26T00:00:00",
          "2015-04-27T00:00:00",
          "2015-04-28T00:00:00",
          "2015-04-29T00:00:00",
          "2015-04-30T00:00:00",
          "2015-05-01T00:00:00",
          "2015-05-02T00:00:00",
          "2015-05-03T00:00:00",
          "2015-05-04T00:00:00",
          "2015-05-05T00:00:00",
          "2015-05-06T00:00:00",
          "2015-05-07T00:00:00",
          "2015-05-08T00:00:00",
          "2015-05-09T00:00:00",
          "2015-05-10T00:00:00",
          "2015-05-11T00:00:00",
          "2015-05-12T00:00:00",
          "2015-05-13T00:00:00",
          "2015-05-14T00:00:00",
          "2015-05-15T00:00:00",
          "2015-05-16T00:00:00",
          "2015-05-17T00:00:00",
          "2015-05-18T00:00:00",
          "2015-05-19T00:00:00",
          "2015-05-20T00:00:00",
          "2015-05-21T00:00:00",
          "2015-05-22T00:00:00",
          "2015-05-23T00:00:00",
          "2015-05-24T00:00:00",
          "2015-05-25T00:00:00",
          "2015-05-26T00:00:00",
          "2015-05-27T00:00:00",
          "2015-05-28T00:00:00",
          "2015-05-29T00:00:00",
          "2015-05-30T00:00:00",
          "2015-05-31T00:00:00",
          "2015-06-01T00:00:00",
          "2015-06-02T00:00:00",
          "2015-06-03T00:00:00",
          "2015-06-04T00:00:00",
          "2015-06-05T00:00:00",
          "2015-06-06T00:00:00",
          "2015-06-07T00:00:00",
          "2015-06-08T00:00:00",
          "2015-06-09T00:00:00",
          "2015-06-10T00:00:00",
          "2015-06-11T00:00:00",
          "2015-06-12T00:00:00",
          "2015-06-13T00:00:00",
          "2015-06-14T00:00:00",
          "2015-06-15T00:00:00",
          "2015-06-16T00:00:00",
          "2015-06-17T00:00:00",
          "2015-06-18T00:00:00",
          "2015-06-19T00:00:00",
          "2015-06-20T00:00:00",
          "2015-06-21T00:00:00",
          "2015-06-22T00:00:00",
          "2015-06-23T00:00:00",
          "2015-06-24T00:00:00",
          "2015-06-25T00:00:00",
          "2015-06-26T00:00:00",
          "2015-06-27T00:00:00",
          "2015-06-28T00:00:00",
          "2015-06-29T00:00:00",
          "2015-06-30T00:00:00",
          "2015-07-01T00:00:00",
          "2015-07-02T00:00:00",
          "2015-07-03T00:00:00",
          "2015-07-04T00:00:00",
          "2015-07-05T00:00:00",
          "2015-07-06T00:00:00",
          "2015-07-07T00:00:00",
          "2015-07-08T00:00:00",
          "2015-07-09T00:00:00",
          "2015-07-10T00:00:00",
          "2015-07-11T00:00:00",
          "2015-07-12T00:00:00",
          "2015-07-13T00:00:00",
          "2015-07-14T00:00:00",
          "2015-07-15T00:00:00",
          "2015-07-16T00:00:00",
          "2015-07-17T00:00:00",
          "2015-07-18T00:00:00",
          "2015-07-19T00:00:00",
          "2015-07-20T00:00:00",
          "2015-07-21T00:00:00",
          "2015-07-22T00:00:00",
          "2015-07-23T00:00:00",
          "2015-07-24T00:00:00",
          "2015-07-25T00:00:00",
          "2015-07-26T00:00:00",
          "2015-07-27T00:00:00",
          "2015-07-28T00:00:00",
          "2015-07-29T00:00:00",
          "2015-07-30T00:00:00",
          "2015-07-31T00:00:00",
          "2015-08-01T00:00:00",
          "2015-08-02T00:00:00",
          "2015-08-03T00:00:00",
          "2015-08-04T00:00:00",
          "2015-08-05T00:00:00",
          "2015-08-06T00:00:00",
          "2015-08-07T00:00:00",
          "2015-08-08T00:00:00",
          "2015-08-09T00:00:00",
          "2015-08-10T00:00:00",
          "2015-08-11T00:00:00",
          "2015-08-12T00:00:00",
          "2015-08-13T00:00:00",
          "2015-08-14T00:00:00",
          "2015-08-15T00:00:00",
          "2015-08-16T00:00:00",
          "2015-08-17T00:00:00",
          "2015-08-18T00:00:00",
          "2015-08-19T00:00:00",
          "2015-08-20T00:00:00",
          "2015-08-21T00:00:00",
          "2015-08-22T00:00:00",
          "2015-08-23T00:00:00",
          "2015-08-24T00:00:00",
          "2015-08-25T00:00:00",
          "2015-08-26T00:00:00",
          "2015-08-27T00:00:00",
          "2015-08-28T00:00:00",
          "2015-08-29T00:00:00",
          "2015-08-30T00:00:00",
          "2015-08-31T00:00:00",
          "2015-09-01T00:00:00",
          "2015-09-02T00:00:00",
          "2015-09-03T00:00:00",
          "2015-09-04T00:00:00",
          "2015-09-05T00:00:00",
          "2015-09-06T00:00:00",
          "2015-09-07T00:00:00",
          "2015-09-08T00:00:00",
          "2015-09-09T00:00:00",
          "2015-09-10T00:00:00",
          "2015-09-11T00:00:00",
          "2015-09-12T00:00:00",
          "2015-09-13T00:00:00",
          "2015-09-14T00:00:00",
          "2015-09-15T00:00:00",
          "2015-09-16T00:00:00",
          "2015-09-17T00:00:00",
          "2015-09-18T00:00:00",
          "2015-09-19T00:00:00",
          "2015-09-20T00:00:00",
          "2015-09-21T00:00:00",
          "2015-09-22T00:00:00",
          "2015-09-23T00:00:00",
          "2015-09-24T00:00:00",
          "2015-09-25T00:00:00",
          "2015-09-26T00:00:00",
          "2015-09-27T00:00:00",
          "2015-09-28T00:00:00",
          "2015-09-29T00:00:00",
          "2015-09-30T00:00:00",
          "2015-10-01T00:00:00",
          "2015-10-02T00:00:00",
          "2015-10-03T00:00:00",
          "2015-10-04T00:00:00",
          "2015-10-05T00:00:00",
          "2015-10-06T00:00:00",
          "2015-10-07T00:00:00",
          "2015-10-08T00:00:00",
          "2015-10-09T00:00:00",
          "2015-10-10T00:00:00",
          "2015-10-11T00:00:00",
          "2015-10-12T00:00:00",
          "2015-10-13T00:00:00",
          "2015-10-14T00:00:00",
          "2015-10-15T00:00:00",
          "2015-10-16T00:00:00",
          "2015-10-17T00:00:00",
          "2015-10-18T00:00:00",
          "2015-10-19T00:00:00",
          "2015-10-20T00:00:00",
          "2015-10-21T00:00:00",
          "2015-10-22T00:00:00",
          "2015-10-23T00:00:00",
          "2015-10-24T00:00:00",
          "2015-10-25T00:00:00",
          "2015-10-26T00:00:00",
          "2015-10-27T00:00:00",
          "2015-10-28T00:00:00",
          "2015-10-29T00:00:00",
          "2015-10-30T00:00:00",
          "2015-10-31T00:00:00",
          "2015-11-01T00:00:00",
          "2015-11-02T00:00:00",
          "2015-11-03T00:00:00",
          "2015-11-04T00:00:00",
          "2015-11-05T00:00:00",
          "2015-11-06T00:00:00",
          "2015-11-07T00:00:00",
          "2015-11-08T00:00:00",
          "2015-11-09T00:00:00",
          "2015-11-10T00:00:00",
          "2015-11-11T00:00:00",
          "2015-11-12T00:00:00",
          "2015-11-13T00:00:00",
          "2015-11-14T00:00:00",
          "2015-11-15T00:00:00",
          "2015-11-16T00:00:00",
          "2015-11-17T00:00:00",
          "2015-11-18T00:00:00",
          "2015-11-19T00:00:00",
          "2015-11-20T00:00:00",
          "2015-11-21T00:00:00",
          "2015-11-22T00:00:00",
          "2015-11-23T00:00:00",
          "2015-11-24T00:00:00",
          "2015-11-25T00:00:00",
          "2015-11-26T00:00:00",
          "2015-11-27T00:00:00",
          "2015-11-28T00:00:00",
          "2015-11-29T00:00:00",
          "2015-11-30T00:00:00",
          "2015-12-01T00:00:00",
          "2015-12-02T00:00:00",
          "2015-12-03T00:00:00",
          "2015-12-04T00:00:00",
          "2015-12-05T00:00:00",
          "2015-12-06T00:00:00",
          "2015-12-07T00:00:00",
          "2015-12-08T00:00:00",
          "2015-12-09T00:00:00",
          "2015-12-10T00:00:00",
          "2015-12-11T00:00:00",
          "2015-12-12T00:00:00",
          "2015-12-13T00:00:00",
          "2015-12-14T00:00:00",
          "2015-12-15T00:00:00",
          "2015-12-16T00:00:00",
          "2015-12-17T00:00:00",
          "2015-12-18T00:00:00",
          "2015-12-19T00:00:00",
          "2015-12-20T00:00:00",
          "2015-12-21T00:00:00",
          "2015-12-22T00:00:00",
          "2015-12-23T00:00:00",
          "2015-12-24T00:00:00",
          "2015-12-26T00:00:00",
          "2015-12-27T00:00:00",
          "2015-12-28T00:00:00",
          "2015-12-29T00:00:00",
          "2015-12-30T00:00:00",
          "2015-12-31T00:00:00",
          "2016-01-01T00:00:00",
          "2016-01-02T00:00:00",
          "2016-01-03T00:00:00",
          "2016-01-04T00:00:00",
          "2016-01-05T00:00:00",
          "2016-01-06T00:00:00",
          "2016-01-07T00:00:00",
          "2016-01-08T00:00:00",
          "2016-01-09T00:00:00",
          "2016-01-10T00:00:00",
          "2016-01-11T00:00:00",
          "2016-01-12T00:00:00",
          "2016-01-13T00:00:00",
          "2016-01-14T00:00:00",
          "2016-01-15T00:00:00",
          "2016-01-16T00:00:00",
          "2016-01-17T00:00:00",
          "2016-01-18T00:00:00",
          "2016-01-19T00:00:00",
          "2016-01-20T00:00:00",
          "2016-01-21T00:00:00",
          "2016-01-22T00:00:00",
          "2016-01-23T00:00:00",
          "2016-01-24T00:00:00",
          "2016-01-25T00:00:00",
          "2016-01-26T00:00:00",
          "2016-01-27T00:00:00",
          "2016-01-28T00:00:00",
          "2016-01-29T00:00:00",
          "2016-01-30T00:00:00",
          "2016-01-31T00:00:00",
          "2016-02-01T00:00:00",
          "2016-02-02T00:00:00",
          "2016-02-03T00:00:00",
          "2016-02-04T00:00:00",
          "2016-02-05T00:00:00",
          "2016-02-06T00:00:00",
          "2016-02-07T00:00:00",
          "2016-02-08T00:00:00",
          "2016-02-09T00:00:00",
          "2016-02-10T00:00:00",
          "2016-02-11T00:00:00",
          "2016-02-12T00:00:00",
          "2016-02-13T00:00:00",
          "2016-02-14T00:00:00",
          "2016-02-15T00:00:00",
          "2016-02-16T00:00:00",
          "2016-02-17T00:00:00",
          "2016-02-18T00:00:00",
          "2016-02-19T00:00:00",
          "2016-02-20T00:00:00",
          "2016-02-21T00:00:00",
          "2016-02-22T00:00:00",
          "2016-02-23T00:00:00",
          "2016-02-24T00:00:00",
          "2016-02-25T00:00:00",
          "2016-02-26T00:00:00",
          "2016-02-27T00:00:00",
          "2016-02-28T00:00:00",
          "2016-02-29T00:00:00",
          "2016-03-01T00:00:00",
          "2016-03-02T00:00:00",
          "2016-03-03T00:00:00",
          "2016-03-04T00:00:00",
          "2016-03-05T00:00:00",
          "2016-03-06T00:00:00",
          "2016-03-07T00:00:00",
          "2016-03-08T00:00:00",
          "2016-03-09T00:00:00",
          "2016-03-10T00:00:00",
          "2016-03-11T00:00:00",
          "2016-03-12T00:00:00",
          "2016-03-13T00:00:00",
          "2016-03-14T00:00:00",
          "2016-03-15T00:00:00",
          "2016-03-16T00:00:00",
          "2016-03-17T00:00:00",
          "2016-03-18T00:00:00",
          "2016-03-19T00:00:00",
          "2016-03-20T00:00:00",
          "2016-03-21T00:00:00",
          "2016-03-22T00:00:00",
          "2016-03-23T00:00:00",
          "2016-03-24T00:00:00",
          "2016-03-25T00:00:00",
          "2016-03-26T00:00:00",
          "2016-03-27T00:00:00",
          "2016-03-28T00:00:00",
          "2016-03-29T00:00:00",
          "2016-03-30T00:00:00",
          "2016-03-31T00:00:00",
          "2016-04-01T00:00:00",
          "2016-04-02T00:00:00",
          "2016-04-03T00:00:00",
          "2016-04-04T00:00:00",
          "2016-04-05T00:00:00",
          "2016-04-06T00:00:00",
          "2016-04-07T00:00:00",
          "2016-04-08T00:00:00",
          "2016-04-09T00:00:00",
          "2016-04-10T00:00:00",
          "2016-04-11T00:00:00",
          "2016-04-12T00:00:00",
          "2016-04-13T00:00:00",
          "2016-04-14T00:00:00",
          "2016-04-15T00:00:00",
          "2016-04-16T00:00:00",
          "2016-04-17T00:00:00",
          "2016-04-18T00:00:00",
          "2016-04-19T00:00:00",
          "2016-04-20T00:00:00",
          "2016-04-21T00:00:00",
          "2016-04-22T00:00:00",
          "2016-04-23T00:00:00",
          "2016-04-24T00:00:00",
          "2016-04-25T00:00:00",
          "2016-04-26T00:00:00",
          "2016-04-27T00:00:00",
          "2016-04-28T00:00:00",
          "2016-04-29T00:00:00",
          "2016-04-30T00:00:00",
          "2016-05-01T00:00:00",
          "2016-05-02T00:00:00",
          "2016-05-03T00:00:00",
          "2016-05-04T00:00:00",
          "2016-05-05T00:00:00",
          "2016-05-06T00:00:00",
          "2016-05-07T00:00:00",
          "2016-05-08T00:00:00",
          "2016-05-09T00:00:00",
          "2016-05-10T00:00:00",
          "2016-05-11T00:00:00",
          "2016-05-12T00:00:00",
          "2016-05-13T00:00:00",
          "2016-05-14T00:00:00",
          "2016-05-15T00:00:00",
          "2016-05-16T00:00:00",
          "2016-05-17T00:00:00",
          "2016-05-18T00:00:00",
          "2016-05-19T00:00:00",
          "2016-05-20T00:00:00",
          "2016-05-21T00:00:00",
          "2016-05-22T00:00:00",
          "2016-05-23T00:00:00",
          "2016-05-24T00:00:00",
          "2016-05-25T00:00:00",
          "2016-05-26T00:00:00",
          "2016-05-27T00:00:00",
          "2016-05-28T00:00:00",
          "2016-05-29T00:00:00",
          "2016-05-30T00:00:00",
          "2016-05-31T00:00:00",
          "2016-06-01T00:00:00",
          "2016-06-02T00:00:00",
          "2016-06-03T00:00:00",
          "2016-06-04T00:00:00",
          "2016-06-05T00:00:00",
          "2016-06-06T00:00:00",
          "2016-06-07T00:00:00",
          "2016-06-08T00:00:00",
          "2016-06-09T00:00:00",
          "2016-06-10T00:00:00",
          "2016-06-11T00:00:00",
          "2016-06-12T00:00:00",
          "2016-06-13T00:00:00",
          "2016-06-14T00:00:00",
          "2016-06-15T00:00:00",
          "2016-06-16T00:00:00",
          "2016-06-17T00:00:00",
          "2016-06-18T00:00:00",
          "2016-06-19T00:00:00",
          "2016-06-20T00:00:00",
          "2016-06-21T00:00:00",
          "2016-06-22T00:00:00",
          "2016-06-23T00:00:00",
          "2016-06-24T00:00:00",
          "2016-06-25T00:00:00",
          "2016-06-26T00:00:00",
          "2016-06-27T00:00:00",
          "2016-06-28T00:00:00",
          "2016-06-29T00:00:00",
          "2016-06-30T00:00:00",
          "2016-07-01T00:00:00",
          "2016-07-02T00:00:00",
          "2016-07-03T00:00:00",
          "2016-07-04T00:00:00",
          "2016-07-05T00:00:00",
          "2016-07-06T00:00:00",
          "2016-07-07T00:00:00",
          "2016-07-08T00:00:00",
          "2016-07-09T00:00:00",
          "2016-07-10T00:00:00",
          "2016-07-11T00:00:00",
          "2016-07-12T00:00:00",
          "2016-07-13T00:00:00",
          "2016-07-14T00:00:00",
          "2016-07-15T00:00:00",
          "2016-07-16T00:00:00",
          "2016-07-17T00:00:00",
          "2016-07-18T00:00:00",
          "2016-07-19T00:00:00",
          "2016-07-20T00:00:00",
          "2016-07-21T00:00:00",
          "2016-07-22T00:00:00",
          "2016-07-23T00:00:00",
          "2016-07-24T00:00:00",
          "2016-07-25T00:00:00",
          "2016-07-26T00:00:00",
          "2016-07-27T00:00:00",
          "2016-07-28T00:00:00",
          "2016-07-29T00:00:00",
          "2016-07-30T00:00:00",
          "2016-07-31T00:00:00",
          "2016-08-01T00:00:00",
          "2016-08-02T00:00:00",
          "2016-08-03T00:00:00",
          "2016-08-04T00:00:00",
          "2016-08-05T00:00:00",
          "2016-08-06T00:00:00",
          "2016-08-07T00:00:00",
          "2016-08-08T00:00:00",
          "2016-08-09T00:00:00",
          "2016-08-10T00:00:00",
          "2016-08-11T00:00:00",
          "2016-08-12T00:00:00",
          "2016-08-13T00:00:00",
          "2016-08-14T00:00:00",
          "2016-08-15T00:00:00",
          "2016-08-16T00:00:00",
          "2016-08-17T00:00:00",
          "2016-08-18T00:00:00",
          "2016-08-19T00:00:00",
          "2016-08-20T00:00:00",
          "2016-08-21T00:00:00",
          "2016-08-22T00:00:00",
          "2016-08-23T00:00:00",
          "2016-08-24T00:00:00",
          "2016-08-25T00:00:00",
          "2016-08-26T00:00:00",
          "2016-08-27T00:00:00",
          "2016-08-28T00:00:00",
          "2016-08-29T00:00:00",
          "2016-08-30T00:00:00",
          "2016-08-31T00:00:00",
          "2016-09-01T00:00:00",
          "2016-09-02T00:00:00",
          "2016-09-03T00:00:00",
          "2016-09-04T00:00:00",
          "2016-09-05T00:00:00",
          "2016-09-06T00:00:00",
          "2016-09-07T00:00:00",
          "2016-09-08T00:00:00",
          "2016-09-09T00:00:00",
          "2016-09-10T00:00:00",
          "2016-09-11T00:00:00",
          "2016-09-12T00:00:00",
          "2016-09-13T00:00:00",
          "2016-09-14T00:00:00",
          "2016-09-15T00:00:00",
          "2016-09-16T00:00:00",
          "2016-09-17T00:00:00",
          "2016-09-18T00:00:00",
          "2016-09-19T00:00:00",
          "2016-09-20T00:00:00",
          "2016-09-21T00:00:00",
          "2016-09-22T00:00:00",
          "2016-09-23T00:00:00",
          "2016-09-24T00:00:00",
          "2016-09-25T00:00:00",
          "2016-09-26T00:00:00",
          "2016-09-27T00:00:00",
          "2016-09-28T00:00:00",
          "2016-09-29T00:00:00",
          "2016-09-30T00:00:00",
          "2016-10-01T00:00:00",
          "2016-10-02T00:00:00",
          "2016-10-03T00:00:00",
          "2016-10-04T00:00:00",
          "2016-10-05T00:00:00",
          "2016-10-06T00:00:00",
          "2016-10-07T00:00:00",
          "2016-10-08T00:00:00",
          "2016-10-09T00:00:00",
          "2016-10-10T00:00:00",
          "2016-10-11T00:00:00",
          "2016-10-12T00:00:00",
          "2016-10-13T00:00:00",
          "2016-10-14T00:00:00",
          "2016-10-15T00:00:00",
          "2016-10-16T00:00:00",
          "2016-10-17T00:00:00",
          "2016-10-18T00:00:00",
          "2016-10-19T00:00:00",
          "2016-10-20T00:00:00",
          "2016-10-21T00:00:00",
          "2016-10-22T00:00:00",
          "2016-10-23T00:00:00",
          "2016-10-24T00:00:00",
          "2016-10-25T00:00:00",
          "2016-10-26T00:00:00",
          "2016-10-27T00:00:00",
          "2016-10-28T00:00:00",
          "2016-10-29T00:00:00",
          "2016-10-30T00:00:00",
          "2016-10-31T00:00:00",
          "2016-11-01T00:00:00",
          "2016-11-02T00:00:00",
          "2016-11-03T00:00:00",
          "2016-11-04T00:00:00",
          "2016-11-05T00:00:00",
          "2016-11-06T00:00:00",
          "2016-11-07T00:00:00",
          "2016-11-08T00:00:00",
          "2016-11-09T00:00:00",
          "2016-11-10T00:00:00",
          "2016-11-11T00:00:00",
          "2016-11-12T00:00:00",
          "2016-11-13T00:00:00",
          "2016-11-14T00:00:00",
          "2016-11-15T00:00:00",
          "2016-11-16T00:00:00",
          "2016-11-17T00:00:00",
          "2016-11-18T00:00:00",
          "2016-11-19T00:00:00",
          "2016-11-20T00:00:00",
          "2016-11-21T00:00:00",
          "2016-11-22T00:00:00",
          "2016-11-23T00:00:00",
          "2016-11-24T00:00:00",
          "2016-11-25T00:00:00",
          "2016-11-26T00:00:00",
          "2016-11-27T00:00:00",
          "2016-11-28T00:00:00",
          "2016-11-29T00:00:00",
          "2016-11-30T00:00:00",
          "2016-12-01T00:00:00",
          "2016-12-02T00:00:00",
          "2016-12-03T00:00:00",
          "2016-12-04T00:00:00",
          "2016-12-05T00:00:00",
          "2016-12-06T00:00:00",
          "2016-12-07T00:00:00",
          "2016-12-08T00:00:00",
          "2016-12-09T00:00:00",
          "2016-12-10T00:00:00",
          "2016-12-11T00:00:00",
          "2016-12-12T00:00:00",
          "2016-12-13T00:00:00",
          "2016-12-14T00:00:00",
          "2016-12-15T00:00:00",
          "2016-12-16T00:00:00",
          "2016-12-17T00:00:00",
          "2016-12-18T00:00:00",
          "2016-12-19T00:00:00",
          "2016-12-20T00:00:00",
          "2016-12-21T00:00:00",
          "2016-12-22T00:00:00",
          "2016-12-23T00:00:00",
          "2016-12-24T00:00:00",
          "2016-12-26T00:00:00",
          "2016-12-27T00:00:00",
          "2016-12-28T00:00:00",
          "2016-12-29T00:00:00",
          "2016-12-30T00:00:00",
          "2016-12-31T00:00:00",
          "2017-01-01T00:00:00",
          "2017-01-02T00:00:00",
          "2017-01-03T00:00:00",
          "2017-01-04T00:00:00",
          "2017-01-05T00:00:00",
          "2017-01-06T00:00:00",
          "2017-01-07T00:00:00",
          "2017-01-08T00:00:00",
          "2017-01-09T00:00:00",
          "2017-01-10T00:00:00",
          "2017-01-11T00:00:00",
          "2017-01-12T00:00:00",
          "2017-01-13T00:00:00",
          "2017-01-14T00:00:00",
          "2017-01-15T00:00:00",
          "2017-01-16T00:00:00",
          "2017-01-17T00:00:00",
          "2017-01-18T00:00:00",
          "2017-01-19T00:00:00",
          "2017-01-20T00:00:00",
          "2017-01-21T00:00:00",
          "2017-01-22T00:00:00",
          "2017-01-23T00:00:00",
          "2017-01-24T00:00:00",
          "2017-01-25T00:00:00",
          "2017-01-26T00:00:00",
          "2017-01-27T00:00:00",
          "2017-01-28T00:00:00",
          "2017-01-29T00:00:00",
          "2017-01-30T00:00:00",
          "2017-01-31T00:00:00",
          "2017-02-01T00:00:00",
          "2017-02-02T00:00:00",
          "2017-02-03T00:00:00",
          "2017-02-04T00:00:00",
          "2017-02-05T00:00:00",
          "2017-02-06T00:00:00",
          "2017-02-07T00:00:00",
          "2017-02-08T00:00:00",
          "2017-02-09T00:00:00",
          "2017-02-10T00:00:00",
          "2017-02-11T00:00:00",
          "2017-02-12T00:00:00",
          "2017-02-13T00:00:00",
          "2017-02-14T00:00:00",
          "2017-02-15T00:00:00",
          "2017-02-16T00:00:00",
          "2017-02-17T00:00:00",
          "2017-02-18T00:00:00",
          "2017-02-19T00:00:00",
          "2017-02-20T00:00:00",
          "2017-02-21T00:00:00",
          "2017-02-22T00:00:00",
          "2017-02-23T00:00:00",
          "2017-02-24T00:00:00",
          "2017-02-25T00:00:00",
          "2017-02-26T00:00:00",
          "2017-02-27T00:00:00",
          "2017-02-28T00:00:00",
          "2017-03-01T00:00:00",
          "2017-03-02T00:00:00",
          "2017-03-03T00:00:00",
          "2017-03-04T00:00:00",
          "2017-03-05T00:00:00",
          "2017-03-06T00:00:00",
          "2017-03-07T00:00:00",
          "2017-03-08T00:00:00",
          "2017-03-09T00:00:00",
          "2017-03-10T00:00:00",
          "2017-03-11T00:00:00",
          "2017-03-12T00:00:00",
          "2017-03-13T00:00:00",
          "2017-03-14T00:00:00",
          "2017-03-15T00:00:00",
          "2017-03-16T00:00:00",
          "2017-03-17T00:00:00",
          "2017-03-18T00:00:00",
          "2017-03-19T00:00:00",
          "2017-03-20T00:00:00",
          "2017-03-21T00:00:00",
          "2017-03-22T00:00:00",
          "2017-03-23T00:00:00",
          "2017-03-24T00:00:00",
          "2017-03-25T00:00:00",
          "2017-03-26T00:00:00",
          "2017-03-27T00:00:00",
          "2017-03-28T00:00:00",
          "2017-03-29T00:00:00",
          "2017-03-30T00:00:00",
          "2017-03-31T00:00:00",
          "2017-04-01T00:00:00",
          "2017-04-02T00:00:00",
          "2017-04-03T00:00:00",
          "2017-04-04T00:00:00",
          "2017-04-05T00:00:00",
          "2017-04-06T00:00:00",
          "2017-04-07T00:00:00",
          "2017-04-08T00:00:00",
          "2017-04-09T00:00:00",
          "2017-04-10T00:00:00",
          "2017-04-11T00:00:00",
          "2017-04-12T00:00:00",
          "2017-04-13T00:00:00",
          "2017-04-14T00:00:00",
          "2017-04-15T00:00:00",
          "2017-04-16T00:00:00",
          "2017-04-17T00:00:00",
          "2017-04-18T00:00:00",
          "2017-04-19T00:00:00",
          "2017-04-20T00:00:00",
          "2017-04-21T00:00:00",
          "2017-04-22T00:00:00",
          "2017-04-23T00:00:00",
          "2017-04-24T00:00:00",
          "2017-04-25T00:00:00",
          "2017-04-26T00:00:00",
          "2017-04-27T00:00:00",
          "2017-04-28T00:00:00",
          "2017-04-29T00:00:00",
          "2017-04-30T00:00:00",
          "2017-05-01T00:00:00",
          "2017-05-02T00:00:00",
          "2017-05-03T00:00:00",
          "2017-05-04T00:00:00",
          "2017-05-05T00:00:00",
          "2017-05-06T00:00:00",
          "2017-05-07T00:00:00",
          "2017-05-08T00:00:00",
          "2017-05-09T00:00:00",
          "2017-05-10T00:00:00",
          "2017-05-11T00:00:00",
          "2017-05-12T00:00:00",
          "2017-05-13T00:00:00",
          "2017-05-14T00:00:00",
          "2017-05-15T00:00:00",
          "2017-05-16T00:00:00",
          "2017-05-17T00:00:00",
          "2017-05-18T00:00:00",
          "2017-05-19T00:00:00",
          "2017-05-20T00:00:00",
          "2017-05-21T00:00:00",
          "2017-05-22T00:00:00",
          "2017-05-23T00:00:00",
          "2017-05-24T00:00:00",
          "2017-05-25T00:00:00",
          "2017-05-26T00:00:00",
          "2017-05-27T00:00:00",
          "2017-05-28T00:00:00",
          "2017-05-29T00:00:00",
          "2017-05-30T00:00:00",
          "2017-05-31T00:00:00",
          "2017-06-01T00:00:00",
          "2017-06-02T00:00:00",
          "2017-06-03T00:00:00",
          "2017-06-04T00:00:00",
          "2017-06-05T00:00:00",
          "2017-06-06T00:00:00",
          "2017-06-07T00:00:00",
          "2017-06-08T00:00:00",
          "2017-06-09T00:00:00",
          "2017-06-10T00:00:00",
          "2017-06-11T00:00:00",
          "2017-06-12T00:00:00",
          "2017-06-13T00:00:00",
          "2017-06-14T00:00:00",
          "2017-06-15T00:00:00",
          "2017-06-16T00:00:00",
          "2017-06-17T00:00:00",
          "2017-06-18T00:00:00",
          "2017-06-19T00:00:00",
          "2017-06-20T00:00:00",
          "2017-06-21T00:00:00",
          "2017-06-22T00:00:00",
          "2017-06-23T00:00:00",
          "2017-06-24T00:00:00",
          "2017-06-25T00:00:00",
          "2017-06-26T00:00:00",
          "2017-06-27T00:00:00",
          "2017-06-28T00:00:00",
          "2017-06-29T00:00:00",
          "2017-06-30T00:00:00",
          "2017-07-01T00:00:00"
         ],
         "y": [
          0,
          490.391,
          326.191,
          274.515,
          372.455,
          435,
          274.562,
          206.784,
          200,
          183.963,
          184.565,
          336.804,
          346.485,
          270.518,
          260.993,
          243.33,
          219.357,
          257.875,
          358.108,
          369.926,
          266.553,
          219.709,
          207.25,
          165.132,
          208.711,
          318.377,
          330,
          218.057,
          213.473,
          239.98,
          185.749,
          278.298,
          415.678,
          372.084,
          189.67,
          234.509,
          249.214,
          170.882,
          212.482,
          271.826,
          145.034,
          184.295,
          265.659,
          227,
          220.044,
          211.741,
          376.827,
          318.091,
          277.555,
          224.609,
          281.832,
          183,
          209.554,
          292.754,
          360.23,
          200.936,
          170,
          177,
          198.262,
          257.686,
          358.16602,
          500.434,
          312,
          278.739,
          254.366,
          204,
          232.414,
          307.826,
          413.951,
          206,
          230.694,
          228.157,
          212.239,
          187.383,
          420,
          481.984,
          245,
          270.7,
          220,
          238.778,
          240.52,
          387.378,
          415.263,
          190,
          223.585,
          286.288,
          220.979,
          291.528,
          353.191,
          323.091,
          335.002,
          256.505,
          289,
          264.377,
          241.58,
          468.779,
          417.279,
          349.516,
          225,
          236.607,
          231,
          278.361,
          408.371,
          402.567,
          253.793,
          253,
          274.366,
          261.185,
          323.388,
          437.807,
          423.399,
          271,
          233.067,
          263.409,
          203.453,
          294.486,
          450.615,
          402,
          220.634,
          231.653,
          481.266,
          263.687,
          321.737,
          443.573,
          421.015,
          253.68,
          294.549,
          269.057,
          258.505,
          435.796,
          433.821,
          260,
          218,
          268.143,
          271.64,
          211.348,
          317,
          399.67902,
          400.772,
          254.56,
          170.115,
          149,
          206.259,
          324.541,
          388.112,
          333.936,
          261,
          193,
          213.882,
          223.529,
          209.739,
          436.291,
          529.52,
          302.81,
          216.702,
          318.48,
          204.649,
          357.577,
          400.812,
          463.63,
          280,
          324.77,
          353.035,
          377.775,
          387.361,
          585.773,
          460,
          345,
          352.04102,
          342.17,
          251.387,
          367.644,
          439.494,
          503,
          310.758,
          242.624,
          304.734,
          247.95801,
          372.827,
          557.95,
          442.414,
          366.007,
          467.736,
          325.564,
          288.509,
          437.258,
          547.637,
          563.643,
          333.296,
          320.988,
          299.322,
          268.91,
          299,
          480.983,
          462.375,
          318.105,
          337.288,
          357.02,
          227.79,
          400.884,
          488.739,
          402.891,
          312,
          312.134,
          343.139,
          313.486,
          339.943,
          449.385,
          403,
          250,
          275.68,
          292.127,
          318.258,
          464,
          450,
          486.741,
          323,
          291.441,
          298,
          186.639,
          316,
          394.567,
          347,
          262,
          290.973,
          317.262,
          233,
          392,
          453.751,
          423.436,
          331.549,
          346.24,
          394.148,
          243.009,
          387.112,
          471.932,
          438.083,
          309.548,
          306.039,
          262,
          284.847,
          408.55,
          510,
          571,
          389.025,
          442.173,
          321.659,
          190.157,
          403.785,
          521.08,
          510.831,
          299.307,
          252,
          287.309,
          209.882,
          333.101,
          487.5,
          499.023,
          343.333,
          315,
          350.898,
          291,
          359.945,
          448.688,
          512.8,
          306.32,
          261.29102,
          288,
          236,
          338.16,
          473.93,
          501.168,
          271,
          355.434,
          349.304,
          220,
          394.064,
          542.187,
          557.588,
          315,
          289.905,
          301.739,
          282.836,
          397,
          419.933,
          384.789,
          288.9,
          267.88,
          311.696,
          225.741,
          333.663,
          520,
          578.732,
          252.52,
          217.471,
          242.118,
          291.754,
          295.884,
          470.332,
          448.704,
          242.86,
          286,
          284.474,
          266.647,
          372.906,
          452.565,
          510.41,
          336.005,
          293.132,
          330.848,
          297.965,
          313.448,
          486.911,
          493.615,
          305.302,
          294.937,
          242,
          228.811,
          296.646,
          529.504,
          521.805,
          353.646,
          287.54,
          406.239,
          287.949,
          358.3,
          496.888,
          529.64,
          379.62,
          316.397,
          458.696,
          423.95,
          442.999,
          575.939,
          645.331,
          490.41,
          435.397,
          479.39,
          490.69,
          637.641,
          684.24,
          771.136,
          528.98303,
          639.811,
          759.394,
          751.213,
          1142.35,
          1422.093,
          1494.821,
          1627.285,
          1758.9,
          351.996,
          351.996,
          351.996,
          351.996,
          351.996,
          351.996,
          1301.183,
          708.29803,
          987.955,
          987.154,
          875.698,
          959.947,
          715.33,
          0,
          458.02,
          482.434,
          657.73,
          600.072,
          371.6,
          354.927,
          342.134,
          266.985,
          310.323,
          453.752,
          479.262,
          272.38,
          224.78,
          308.945,
          236.475,
          291.409,
          440.875,
          489.023,
          237.239,
          260.441,
          295.355,
          201.116,
          295.632,
          421.213,
          446.627,
          258.616,
          218.475,
          301.242,
          288.503,
          396.367,
          647.828,
          519.461,
          349.795,
          259.319,
          364.759,
          291.422,
          353.551,
          462,
          500.777,
          366,
          295.18,
          380.841,
          242.511,
          365.45,
          490.412,
          611.671,
          265,
          276.929,
          307.248,
          259.15,
          309,
          489.097,
          389.252,
          277.729,
          278.914,
          316.327,
          186.991,
          364.43,
          408.099,
          306,
          299.096,
          505,
          425.689,
          255.236,
          301.002,
          463.895,
          451,
          247,
          251,
          333.608,
          228.819,
          305.015,
          379.494,
          599,
          284,
          273.955,
          329.163,
          297.505,
          361.529,
          465.105,
          440.916,
          273.7,
          243.734,
          265.804,
          237.76,
          344.603,
          450.465,
          523.885,
          292.662,
          381.359,
          405.22202,
          286.158,
          340,
          468.88,
          498.804,
          310,
          212.43,
          262.414,
          199.912,
          281.394,
          432.816,
          413.925,
          252,
          221.789,
          302.651,
          283.091,
          332,
          397,
          454.212,
          306.203,
          344.66,
          347,
          229.113,
          338.794,
          449.453,
          455.516,
          312.118,
          254,
          319.225,
          407.191,
          378.028,
          554.873,
          554.945,
          276.477,
          336.442,
          396.678,
          251.785,
          353.274,
          491.357,
          353.414,
          286.856,
          315.183,
          299.837,
          243.162,
          435.147,
          497.588,
          515.282,
          276.636,
          265.801,
          292.789,
          274.462,
          311.554,
          466.356,
          505.767,
          294.664,
          221.234,
          245.131,
          197.20801,
          326,
          527.596,
          599.721,
          364,
          339,
          346.71,
          270.575,
          344.063,
          395,
          576.48,
          331.95,
          297.415,
          343.275,
          252.635,
          439.325,
          714.361,
          359.635,
          300.015,
          346.145,
          296,
          238.233,
          373.212,
          461,
          443,
          296.152,
          316.144,
          319.371,
          224.296,
          387.759,
          516,
          494.904,
          301.591,
          349.325,
          383,
          332.196,
          333.113,
          519.418,
          514.438,
          329.011,
          275.604,
          282.46,
          256.6,
          367.496,
          521.24,
          472,
          315.91,
          288.39,
          345.051,
          315,
          336.145,
          459.95,
          409.36,
          268.446,
          305,
          338.15,
          220.504,
          358.417,
          372.471,
          463.014,
          279.803,
          223,
          310.812,
          241.829,
          386.961,
          474.804,
          516.915,
          322.188,
          278.079,
          271,
          261.132,
          379.349,
          399.439,
          408.004,
          276,
          232,
          282.263,
          269.183,
          311.421,
          472,
          542.111,
          317.535,
          289.554,
          337.389,
          260.707,
          324,
          406.576,
          506.712,
          266.505,
          278.535,
          266,
          213.959,
          286.835,
          462.524,
          556.896,
          422.43,
          390,
          359,
          194,
          355.727,
          524,
          610.775,
          329.771,
          319.631,
          294.721,
          226,
          274,
          533.089,
          437.34,
          277,
          269.493,
          315.227,
          245,
          301,
          528.764,
          516.219,
          227.086,
          268.139,
          293.609,
          269.718,
          299.299,
          518.51,
          507.2,
          274.026,
          269.118,
          355.409,
          257,
          395,
          586.06,
          491.995,
          315.174,
          323.296,
          309.269,
          291.333,
          415.575,
          422.643,
          331.848,
          318.417,
          231,
          298.81,
          280.454,
          305.675,
          493.867,
          530.594,
          267.44,
          253.588,
          278.789,
          193.854,
          299.782,
          397.946,
          414.275,
          233.496,
          271.839,
          307.431,
          230.802,
          301.976,
          401.685,
          386.985,
          535,
          264.996,
          340.585,
          365.456,
          340.9,
          461.544,
          434.919,
          262.79102,
          293.565,
          326.028,
          260.235,
          311.266,
          433.795,
          553.892,
          322.796,
          296.837,
          317.815,
          308.62,
          388.678,
          558.093,
          541.58,
          430.828,
          355.979,
          404.036,
          259.502,
          431.282,
          470.061,
          534.863,
          463.09,
          393.604,
          429.103,
          330.266,
          672.54,
          707.149,
          733.949,
          533.133,
          690.416,
          351.996,
          845.304,
          1380.632,
          1255.396,
          1602.765,
          1528.267,
          1258.7,
          351.996,
          351.996,
          351.996,
          351.996,
          351.996,
          351.996,
          351.996,
          1096.3359,
          856.221,
          736.677,
          916.302,
          1205.658,
          1110.647,
          631.055,
          0,
          512.179,
          402,
          547,
          355.519,
          651.85,
          388.654,
          359.503,
          449.931,
          460.343,
          563.762,
          346.815,
          333.514,
          331.18,
          273.551,
          363.978,
          585.074,
          473,
          336.053,
          217,
          297.565,
          271.669,
          294.633,
          468.043,
          525.702,
          264.85,
          299.7,
          283.432,
          206.065,
          345.954,
          537.428,
          644.613,
          358.637,
          324,
          319.95,
          266.726,
          304,
          429.89,
          508.454,
          242,
          242.56,
          267.317,
          244.425,
          375.871,
          357.58,
          338.431,
          298.776,
          383.25,
          346.667,
          221.418,
          443.421,
          450,
          495.077,
          225.005,
          320.929,
          352.764,
          238.232,
          318.465,
          495.022,
          588.921,
          300.753,
          271,
          389.979,
          249.081,
          391.007,
          584.456,
          495.354,
          337.041,
          296.725,
          334.017,
          258.121,
          359,
          470.92,
          414.983,
          332.214,
          289.679,
          331.789,
          199,
          343.957,
          459.623,
          456,
          243.423,
          272.825,
          236.575,
          188,
          328.428,
          374.505,
          504.424,
          269.945,
          215.421,
          418.573,
          332.809,
          358.554,
          477.935,
          455.285,
          299,
          376.086,
          312.038,
          261.019,
          346.296,
          480,
          581.217,
          280.692,
          259.432,
          338.886,
          252.429,
          380,
          513.32,
          626.259,
          238.038,
          293.954,
          291.36,
          284.01,
          351.967,
          441,
          535.144,
          275.483,
          263.274,
          315.942,
          312.06,
          514.162,
          561.304,
          587.221,
          290.884,
          327.128,
          439.023,
          267.379,
          481.073,
          660.656,
          445.881,
          353.602,
          261,
          322.381,
          275.24,
          417.597,
          574,
          543.529,
          310.9,
          313.58,
          346.208,
          255.753,
          362.546,
          511.452,
          513.292,
          305.84,
          266.31,
          348.875,
          262.98,
          361,
          558.983,
          558.619,
          416.094,
          304.218,
          416,
          276.536,
          351,
          611.258,
          510.306,
          389.048,
          325.438,
          387.993,
          269.073,
          342.773,
          464.208,
          550.946,
          380.617,
          365.814,
          466.031,
          328.866,
          501.671,
          565.454,
          364.16,
          350.146,
          332.644,
          381.235,
          299.115,
          425.544,
          499.785,
          511.077,
          396.344,
          267.45,
          505.697,
          386.462,
          444.161,
          645.214,
          571.75,
          338.507,
          267,
          468.164,
          342.657,
          364,
          526.75,
          521.733,
          342.204,
          270.885,
          367.589,
          289.826,
          438.783,
          519.49,
          525.995,
          290.85,
          244,
          304.894,
          308.425,
          384,
          468.599,
          461,
          356.909,
          301.785,
          342.145,
          210.858,
          369.329,
          646.929,
          488.44,
          332.706,
          279.138,
          337.24,
          278,
          332,
          426.913,
          367.405,
          396.524,
          261.185,
          320.271,
          297.274,
          398.607,
          506.318,
          495.915,
          310.633,
          292,
          361.175,
          359.769,
          394.161,
          474.481,
          445.909,
          290.486,
          225.707,
          305,
          288.175,
          376.123,
          499.02,
          494,
          287.851,
          366.449,
          453.423,
          328.565,
          457.413,
          641.03,
          581.766,
          336.262,
          294,
          329.023,
          236.392,
          380.949,
          539.941,
          558,
          300,
          263.486,
          431.89,
          278.396,
          362.19,
          605.565,
          612.415,
          333.844,
          334.351,
          336.069,
          239.793,
          371.709,
          515.823,
          549.369,
          281,
          219.849,
          382.435,
          358.513,
          474.78,
          628.597,
          570.788,
          333.01,
          297.419,
          343.232,
          321.813,
          610.619,
          486.296,
          482.287,
          270.952,
          246.841,
          311.77,
          296.732,
          360.026,
          560.12,
          550.324,
          328.369,
          307.292,
          333.919,
          257.642,
          413.346,
          475,
          580.865,
          304,
          331.138,
          307.511,
          186.159,
          386.58,
          538.636,
          320.655,
          423.264,
          486.848,
          414.348,
          364.149,
          407.501,
          523.256,
          589.745,
          302.421,
          321.343,
          378.769,
          323.453,
          419.377,
          576.59,
          539.38,
          404.893,
          284.761,
          367.371,
          304.82098,
          462.323,
          631.63,
          666.988,
          492.816,
          383.678,
          487.572,
          437.074,
          392.405,
          622.911,
          732.036,
          358.964,
          484.332,
          488.51,
          435.454,
          728.886,
          896.098,
          969.054,
          734.577,
          848.016,
          785.265,
          652.533,
          1127.3,
          1265.0391,
          1342.277,
          1306.617,
          351.996,
          351.996,
          351.996,
          351.996,
          351.996,
          351.996,
          351.996,
          351.996,
          351.996,
          1784.684,
          1121.06,
          1064.6959,
          1458.356,
          1372.526,
          1242.307,
          1007.879,
          0,
          507.064,
          664.986,
          469.283,
          462.436,
          452.605,
          363.709,
          468.804,
          554.878,
          549.233,
          299.252,
          378.512,
          295.657,
          283.66602,
          403.386,
          590.57,
          585.75,
          349.461,
          292.535,
          401.475,
          314.756,
          421.803,
          562.672,
          543.351,
          292.8,
          268.119,
          344.17902,
          257.375,
          373.161,
          564.67,
          494.208,
          352.115,
          339,
          370.247,
          281.929,
          482.689,
          511.623,
          411.857,
          383.55,
          393.206,
          406.818,
          304.609,
          427.967,
          559.94,
          573.171,
          287.575,
          318.084,
          370.589,
          297.645,
          457,
          610.12,
          544.031,
          302.649,
          310.12,
          330.45898,
          210.261,
          359,
          551.009,
          467.385,
          308.476,
          323,
          410,
          262.409,
          345.75,
          566.59,
          585.615,
          289.655,
          314.575,
          350.257,
          269.75,
          357,
          468.687,
          454,
          245.285,
          260.503,
          350.303,
          262.896,
          416.902,
          506.405,
          441.827,
          294,
          324.506,
          349.744,
          392.893,
          347,
          405.347,
          451.122,
          238.554,
          263,
          344.122,
          295.031,
          418,
          554.708,
          585.79,
          301.527,
          365.333,
          339.098,
          253.929,
          433.543,
          488.15,
          496.465,
          283,
          270.972,
          285,
          265.964,
          350.496,
          522.261,
          641.43,
          360.315,
          249,
          318.121,
          284.202,
          439.736,
          566.788,
          499.959,
          290.013,
          246.746,
          346.052,
          237.206,
          441.71,
          481.262,
          587.14,
          358.479,
          415.578,
          384.45,
          369.435,
          508.989,
          676.692,
          360.399,
          332.595,
          237.28,
          338.651,
          327.839,
          389.598,
          572.889,
          545.206,
          362.861,
          259.9,
          362.234,
          270.64,
          502.315,
          444.734,
          510.011,
          322.808,
          252.191,
          356.322,
          328.204,
          475.975,
          476.667,
          421.113,
          318.9,
          403.019,
          398.889,
          350.198,
          386.32,
          571.2,
          590.821,
          243.867,
          334.29,
          287.685,
          260.653,
          506.047,
          474.684,
          462.381,
          368.356,
          268.311,
          394.026,
          368.157,
          553.732,
          630.919,
          404.155,
          296.998,
          263.815,
          335.379,
          299.936,
          401.586,
          496,
          461.689,
          339.194,
          296.347,
          380.255,
          256,
          450.374,
          586.529,
          505.579,
          315.51,
          289.406,
          348.371,
          281.46,
          359.238,
          483.183,
          482.255,
          305.01,
          300.043,
          302.27,
          314.528,
          430.49,
          434,
          510.021,
          349.192,
          292.035,
          445.026,
          215.196,
          379.885,
          470.56,
          430.355,
          279.545,
          227.414,
          392.38,
          253.912,
          356.899,
          419,
          424.832,
          329,
          350.088,
          366,
          246,
          470.393,
          467.476,
          361.101,
          292.415,
          306.396,
          331.586,
          260.974,
          401.689,
          357.47,
          342.084,
          278,
          288.974,
          345.649,
          257.095,
          372.07,
          442.929,
          383.514,
          317.296,
          297.085,
          256,
          257.303,
          391.121,
          438.06,
          402,
          286.506,
          262.339,
          372.303,
          307.18,
          419.859,
          529.19,
          492.87,
          280.012,
          305.49,
          318.947,
          237,
          404.429,
          642.054,
          476.817,
          320.475,
          263.94,
          243,
          201.397,
          334.077,
          500.123,
          453.569,
          291.453,
          327.679,
          297.463,
          222.27,
          375.709,
          475.78,
          473.274,
          317.303,
          281.227,
          319.141,
          230.061,
          461.109,
          556.474,
          482.045,
          353.30402,
          310.389,
          356.1,
          246.062,
          423.159,
          477.328,
          600.643,
          311.679,
          283.665,
          275.63,
          245.254,
          438.604,
          496.384,
          531.291,
          357.693,
          317.351,
          311.644,
          235,
          349.63,
          514.896,
          487.011,
          271.307,
          308.672,
          311.26,
          250.367,
          418.515,
          488.654,
          437.934,
          232.919,
          304.56,
          435.706,
          357.525,
          460.934,
          404.403,
          470,
          296.486,
          308.38,
          466.007,
          236,
          342.264,
          652.353,
          558.366,
          325.582,
          303.669,
          421.164,
          393.026,
          460.547,
          516.705,
          620.492,
          434.3,
          429.921,
          452.457,
          333.864,
          426.976,
          523.754,
          568.317,
          319.028,
          278.523,
          477.33398,
          410.492,
          802.495,
          796.712,
          771.311,
          588.997,
          695.333,
          709.452,
          529.104,
          748.323,
          1006.059,
          1137.198,
          1336.795,
          1299.202,
          1631.317,
          1578.511,
          351.996,
          351.996,
          351.996,
          351.996,
          351.996,
          351.996,
          351.996,
          351.996,
          1442.134,
          1104.155,
          1072.632,
          1541.264,
          1605.792,
          1548.717,
          958.696,
          0,
          613.321,
          437.233,
          471.367,
          348.275,
          503.486,
          574.885,
          591.698,
          279.375,
          323.556,
          328.727,
          273.631,
          437.234,
          530.557,
          478.163,
          319.313,
          250.144,
          312.035,
          291.044,
          278.774,
          515.918,
          513.808,
          340.341,
          275.358,
          291.659,
          250.668,
          383.8,
          484,
          419.379,
          238,
          272.838,
          352.483,
          241.41,
          374.667,
          434.68,
          531.394,
          289.51,
          291.368,
          353.867,
          281.775,
          409.141,
          513.959,
          491.115,
          273,
          248.774,
          311.121,
          274.876,
          338.359,
          518.071,
          368.141,
          240.419,
          227,
          284.625,
          217.195,
          321.5,
          400,
          297.928,
          329.127,
          365.253,
          345.077,
          322.829,
          457.574,
          563.132,
          516.59,
          268,
          247,
          291.429,
          244.419,
          414.396,
          428.371,
          439.644,
          248.356,
          248.485,
          341.411,
          314.138,
          366.315,
          415.296,
          494.792,
          352.025,
          284.344,
          297.003,
          280.884,
          343.724,
          448.417,
          412.976,
          278.41,
          238.745,
          281.938,
          266.623,
          457.046,
          544.24,
          533.543,
          233.365,
          253.626,
          300.108,
          246.554,
          333.795,
          457.121,
          446.629,
          267.705,
          261.496,
          318.154,
          347.849,
          327.003,
          442.616,
          416.969,
          344.429,
          236.522,
          372.151,
          225.497,
          435.687,
          465.32,
          465.732,
          245.759,
          365.043,
          322.958,
          277.657,
          439.698,
          443.969,
          403.601,
          576.897,
          373.928,
          336.011,
          271.839,
          430.02,
          609.798,
          509.373,
          344.355,
          260.498,
          351.589,
          322.183,
          438.726,
          586.273,
          467.368,
          275.871,
          251.977,
          359.714,
          292.224,
          357.22,
          550.41,
          545.135,
          321.302,
          277.421,
          293.913,
          308.292,
          619.30597,
          450.944,
          387.769,
          253.962,
          263.586,
          277.715,
          293.438,
          498.25,
          547.917,
          569.902,
          363.898,
          285.227,
          390.258,
          274.872,
          392.726,
          525.739,
          447.592,
          308.968,
          343.115,
          427.415,
          365.782,
          493.214,
          583.856,
          429.387,
          272.064,
          284.695,
          384.697,
          275.226,
          425.346,
          465.152,
          456.423,
          248.329,
          238.647,
          322.102,
          244.094,
          438.882,
          582.435
         ]
        },
        {
         "line": {
          "color": "red"
         },
         "mode": "lines",
         "name": "Test",
         "type": "scatter",
         "x": [
          "2017-07-02T00:00:00",
          "2017-07-03T00:00:00",
          "2017-07-04T00:00:00",
          "2017-07-05T00:00:00",
          "2017-07-06T00:00:00",
          "2017-07-07T00:00:00",
          "2017-07-08T00:00:00",
          "2017-07-09T00:00:00",
          "2017-07-10T00:00:00",
          "2017-07-11T00:00:00",
          "2017-07-12T00:00:00",
          "2017-07-13T00:00:00",
          "2017-07-14T00:00:00",
          "2017-07-15T00:00:00",
          "2017-07-16T00:00:00",
          "2017-07-17T00:00:00",
          "2017-07-18T00:00:00",
          "2017-07-19T00:00:00",
          "2017-07-20T00:00:00",
          "2017-07-21T00:00:00",
          "2017-07-22T00:00:00",
          "2017-07-23T00:00:00",
          "2017-07-24T00:00:00",
          "2017-07-25T00:00:00",
          "2017-07-26T00:00:00",
          "2017-07-27T00:00:00",
          "2017-07-28T00:00:00",
          "2017-07-29T00:00:00",
          "2017-07-30T00:00:00",
          "2017-07-31T00:00:00",
          "2017-08-01T00:00:00",
          "2017-08-02T00:00:00",
          "2017-08-03T00:00:00",
          "2017-08-04T00:00:00",
          "2017-08-05T00:00:00",
          "2017-08-06T00:00:00",
          "2017-08-07T00:00:00",
          "2017-08-08T00:00:00",
          "2017-08-09T00:00:00",
          "2017-08-10T00:00:00",
          "2017-08-11T00:00:00",
          "2017-08-12T00:00:00",
          "2017-08-13T00:00:00",
          "2017-08-14T00:00:00",
          "2017-08-15T00:00:00"
         ],
         "y": [
          554.888,
          396.474,
          351.287,
          376.35,
          306.326,
          371.493,
          516.676,
          509.053,
          350.093,
          340.268,
          397.256,
          139.657,
          402.424,
          494.828,
          502.308,
          260.017,
          265.216,
          340.293,
          328.425,
          408.418,
          516.485,
          435.045,
          305.066,
          273.492,
          335.565,
          278.977,
          409.887,
          535.112,
          438.421,
          353.889,
          308.566,
          349.13,
          335.689,
          408.9,
          477.745,
          427.3,
          300.68,
          291.103,
          244.759,
          265.568,
          432.863,
          354.405,
          361.183,
          317.63,
          273.655
         ]
        }
       ],
       "layout": {
        "template": {
         "data": {
          "bar": [
           {
            "error_x": {
             "color": "#2a3f5f"
            },
            "error_y": {
             "color": "#2a3f5f"
            },
            "marker": {
             "line": {
              "color": "#E5ECF6",
              "width": 0.5
             },
             "pattern": {
              "fillmode": "overlay",
              "size": 10,
              "solidity": 0.2
             }
            },
            "type": "bar"
           }
          ],
          "barpolar": [
           {
            "marker": {
             "line": {
              "color": "#E5ECF6",
              "width": 0.5
             },
             "pattern": {
              "fillmode": "overlay",
              "size": 10,
              "solidity": 0.2
             }
            },
            "type": "barpolar"
           }
          ],
          "carpet": [
           {
            "aaxis": {
             "endlinecolor": "#2a3f5f",
             "gridcolor": "white",
             "linecolor": "white",
             "minorgridcolor": "white",
             "startlinecolor": "#2a3f5f"
            },
            "baxis": {
             "endlinecolor": "#2a3f5f",
             "gridcolor": "white",
             "linecolor": "white",
             "minorgridcolor": "white",
             "startlinecolor": "#2a3f5f"
            },
            "type": "carpet"
           }
          ],
          "choropleth": [
           {
            "colorbar": {
             "outlinewidth": 0,
             "ticks": ""
            },
            "type": "choropleth"
           }
          ],
          "contour": [
           {
            "colorbar": {
             "outlinewidth": 0,
             "ticks": ""
            },
            "colorscale": [
             [
              0,
              "#0d0887"
             ],
             [
              0.1111111111111111,
              "#46039f"
             ],
             [
              0.2222222222222222,
              "#7201a8"
             ],
             [
              0.3333333333333333,
              "#9c179e"
             ],
             [
              0.4444444444444444,
              "#bd3786"
             ],
             [
              0.5555555555555556,
              "#d8576b"
             ],
             [
              0.6666666666666666,
              "#ed7953"
             ],
             [
              0.7777777777777778,
              "#fb9f3a"
             ],
             [
              0.8888888888888888,
              "#fdca26"
             ],
             [
              1,
              "#f0f921"
             ]
            ],
            "type": "contour"
           }
          ],
          "contourcarpet": [
           {
            "colorbar": {
             "outlinewidth": 0,
             "ticks": ""
            },
            "type": "contourcarpet"
           }
          ],
          "heatmap": [
           {
            "colorbar": {
             "outlinewidth": 0,
             "ticks": ""
            },
            "colorscale": [
             [
              0,
              "#0d0887"
             ],
             [
              0.1111111111111111,
              "#46039f"
             ],
             [
              0.2222222222222222,
              "#7201a8"
             ],
             [
              0.3333333333333333,
              "#9c179e"
             ],
             [
              0.4444444444444444,
              "#bd3786"
             ],
             [
              0.5555555555555556,
              "#d8576b"
             ],
             [
              0.6666666666666666,
              "#ed7953"
             ],
             [
              0.7777777777777778,
              "#fb9f3a"
             ],
             [
              0.8888888888888888,
              "#fdca26"
             ],
             [
              1,
              "#f0f921"
             ]
            ],
            "type": "heatmap"
           }
          ],
          "heatmapgl": [
           {
            "colorbar": {
             "outlinewidth": 0,
             "ticks": ""
            },
            "colorscale": [
             [
              0,
              "#0d0887"
             ],
             [
              0.1111111111111111,
              "#46039f"
             ],
             [
              0.2222222222222222,
              "#7201a8"
             ],
             [
              0.3333333333333333,
              "#9c179e"
             ],
             [
              0.4444444444444444,
              "#bd3786"
             ],
             [
              0.5555555555555556,
              "#d8576b"
             ],
             [
              0.6666666666666666,
              "#ed7953"
             ],
             [
              0.7777777777777778,
              "#fb9f3a"
             ],
             [
              0.8888888888888888,
              "#fdca26"
             ],
             [
              1,
              "#f0f921"
             ]
            ],
            "type": "heatmapgl"
           }
          ],
          "histogram": [
           {
            "marker": {
             "pattern": {
              "fillmode": "overlay",
              "size": 10,
              "solidity": 0.2
             }
            },
            "type": "histogram"
           }
          ],
          "histogram2d": [
           {
            "colorbar": {
             "outlinewidth": 0,
             "ticks": ""
            },
            "colorscale": [
             [
              0,
              "#0d0887"
             ],
             [
              0.1111111111111111,
              "#46039f"
             ],
             [
              0.2222222222222222,
              "#7201a8"
             ],
             [
              0.3333333333333333,
              "#9c179e"
             ],
             [
              0.4444444444444444,
              "#bd3786"
             ],
             [
              0.5555555555555556,
              "#d8576b"
             ],
             [
              0.6666666666666666,
              "#ed7953"
             ],
             [
              0.7777777777777778,
              "#fb9f3a"
             ],
             [
              0.8888888888888888,
              "#fdca26"
             ],
             [
              1,
              "#f0f921"
             ]
            ],
            "type": "histogram2d"
           }
          ],
          "histogram2dcontour": [
           {
            "colorbar": {
             "outlinewidth": 0,
             "ticks": ""
            },
            "colorscale": [
             [
              0,
              "#0d0887"
             ],
             [
              0.1111111111111111,
              "#46039f"
             ],
             [
              0.2222222222222222,
              "#7201a8"
             ],
             [
              0.3333333333333333,
              "#9c179e"
             ],
             [
              0.4444444444444444,
              "#bd3786"
             ],
             [
              0.5555555555555556,
              "#d8576b"
             ],
             [
              0.6666666666666666,
              "#ed7953"
             ],
             [
              0.7777777777777778,
              "#fb9f3a"
             ],
             [
              0.8888888888888888,
              "#fdca26"
             ],
             [
              1,
              "#f0f921"
             ]
            ],
            "type": "histogram2dcontour"
           }
          ],
          "mesh3d": [
           {
            "colorbar": {
             "outlinewidth": 0,
             "ticks": ""
            },
            "type": "mesh3d"
           }
          ],
          "parcoords": [
           {
            "line": {
             "colorbar": {
              "outlinewidth": 0,
              "ticks": ""
             }
            },
            "type": "parcoords"
           }
          ],
          "pie": [
           {
            "automargin": true,
            "type": "pie"
           }
          ],
          "scatter": [
           {
            "fillpattern": {
             "fillmode": "overlay",
             "size": 10,
             "solidity": 0.2
            },
            "type": "scatter"
           }
          ],
          "scatter3d": [
           {
            "line": {
             "colorbar": {
              "outlinewidth": 0,
              "ticks": ""
             }
            },
            "marker": {
             "colorbar": {
              "outlinewidth": 0,
              "ticks": ""
             }
            },
            "type": "scatter3d"
           }
          ],
          "scattercarpet": [
           {
            "marker": {
             "colorbar": {
              "outlinewidth": 0,
              "ticks": ""
             }
            },
            "type": "scattercarpet"
           }
          ],
          "scattergeo": [
           {
            "marker": {
             "colorbar": {
              "outlinewidth": 0,
              "ticks": ""
             }
            },
            "type": "scattergeo"
           }
          ],
          "scattergl": [
           {
            "marker": {
             "colorbar": {
              "outlinewidth": 0,
              "ticks": ""
             }
            },
            "type": "scattergl"
           }
          ],
          "scattermapbox": [
           {
            "marker": {
             "colorbar": {
              "outlinewidth": 0,
              "ticks": ""
             }
            },
            "type": "scattermapbox"
           }
          ],
          "scatterpolar": [
           {
            "marker": {
             "colorbar": {
              "outlinewidth": 0,
              "ticks": ""
             }
            },
            "type": "scatterpolar"
           }
          ],
          "scatterpolargl": [
           {
            "marker": {
             "colorbar": {
              "outlinewidth": 0,
              "ticks": ""
             }
            },
            "type": "scatterpolargl"
           }
          ],
          "scatterternary": [
           {
            "marker": {
             "colorbar": {
              "outlinewidth": 0,
              "ticks": ""
             }
            },
            "type": "scatterternary"
           }
          ],
          "surface": [
           {
            "colorbar": {
             "outlinewidth": 0,
             "ticks": ""
            },
            "colorscale": [
             [
              0,
              "#0d0887"
             ],
             [
              0.1111111111111111,
              "#46039f"
             ],
             [
              0.2222222222222222,
              "#7201a8"
             ],
             [
              0.3333333333333333,
              "#9c179e"
             ],
             [
              0.4444444444444444,
              "#bd3786"
             ],
             [
              0.5555555555555556,
              "#d8576b"
             ],
             [
              0.6666666666666666,
              "#ed7953"
             ],
             [
              0.7777777777777778,
              "#fb9f3a"
             ],
             [
              0.8888888888888888,
              "#fdca26"
             ],
             [
              1,
              "#f0f921"
             ]
            ],
            "type": "surface"
           }
          ],
          "table": [
           {
            "cells": {
             "fill": {
              "color": "#EBF0F8"
             },
             "line": {
              "color": "white"
             }
            },
            "header": {
             "fill": {
              "color": "#C8D4E3"
             },
             "line": {
              "color": "white"
             }
            },
            "type": "table"
           }
          ]
         },
         "layout": {
          "annotationdefaults": {
           "arrowcolor": "#2a3f5f",
           "arrowhead": 0,
           "arrowwidth": 1
          },
          "autotypenumbers": "strict",
          "coloraxis": {
           "colorbar": {
            "outlinewidth": 0,
            "ticks": ""
           }
          },
          "colorscale": {
           "diverging": [
            [
             0,
             "#8e0152"
            ],
            [
             0.1,
             "#c51b7d"
            ],
            [
             0.2,
             "#de77ae"
            ],
            [
             0.3,
             "#f1b6da"
            ],
            [
             0.4,
             "#fde0ef"
            ],
            [
             0.5,
             "#f7f7f7"
            ],
            [
             0.6,
             "#e6f5d0"
            ],
            [
             0.7,
             "#b8e186"
            ],
            [
             0.8,
             "#7fbc41"
            ],
            [
             0.9,
             "#4d9221"
            ],
            [
             1,
             "#276419"
            ]
           ],
           "sequential": [
            [
             0,
             "#0d0887"
            ],
            [
             0.1111111111111111,
             "#46039f"
            ],
            [
             0.2222222222222222,
             "#7201a8"
            ],
            [
             0.3333333333333333,
             "#9c179e"
            ],
            [
             0.4444444444444444,
             "#bd3786"
            ],
            [
             0.5555555555555556,
             "#d8576b"
            ],
            [
             0.6666666666666666,
             "#ed7953"
            ],
            [
             0.7777777777777778,
             "#fb9f3a"
            ],
            [
             0.8888888888888888,
             "#fdca26"
            ],
            [
             1,
             "#f0f921"
            ]
           ],
           "sequentialminus": [
            [
             0,
             "#0d0887"
            ],
            [
             0.1111111111111111,
             "#46039f"
            ],
            [
             0.2222222222222222,
             "#7201a8"
            ],
            [
             0.3333333333333333,
             "#9c179e"
            ],
            [
             0.4444444444444444,
             "#bd3786"
            ],
            [
             0.5555555555555556,
             "#d8576b"
            ],
            [
             0.6666666666666666,
             "#ed7953"
            ],
            [
             0.7777777777777778,
             "#fb9f3a"
            ],
            [
             0.8888888888888888,
             "#fdca26"
            ],
            [
             1,
             "#f0f921"
            ]
           ]
          },
          "colorway": [
           "#636efa",
           "#EF553B",
           "#00cc96",
           "#ab63fa",
           "#FFA15A",
           "#19d3f3",
           "#FF6692",
           "#B6E880",
           "#FF97FF",
           "#FECB52"
          ],
          "font": {
           "color": "#2a3f5f"
          },
          "geo": {
           "bgcolor": "white",
           "lakecolor": "white",
           "landcolor": "#E5ECF6",
           "showlakes": true,
           "showland": true,
           "subunitcolor": "white"
          },
          "hoverlabel": {
           "align": "left"
          },
          "hovermode": "closest",
          "mapbox": {
           "style": "light"
          },
          "paper_bgcolor": "white",
          "plot_bgcolor": "#E5ECF6",
          "polar": {
           "angularaxis": {
            "gridcolor": "white",
            "linecolor": "white",
            "ticks": ""
           },
           "bgcolor": "#E5ECF6",
           "radialaxis": {
            "gridcolor": "white",
            "linecolor": "white",
            "ticks": ""
           }
          },
          "scene": {
           "xaxis": {
            "backgroundcolor": "#E5ECF6",
            "gridcolor": "white",
            "gridwidth": 2,
            "linecolor": "white",
            "showbackground": true,
            "ticks": "",
            "zerolinecolor": "white"
           },
           "yaxis": {
            "backgroundcolor": "#E5ECF6",
            "gridcolor": "white",
            "gridwidth": 2,
            "linecolor": "white",
            "showbackground": true,
            "ticks": "",
            "zerolinecolor": "white"
           },
           "zaxis": {
            "backgroundcolor": "#E5ECF6",
            "gridcolor": "white",
            "gridwidth": 2,
            "linecolor": "white",
            "showbackground": true,
            "ticks": "",
            "zerolinecolor": "white"
           }
          },
          "shapedefaults": {
           "line": {
            "color": "#2a3f5f"
           }
          },
          "ternary": {
           "aaxis": {
            "gridcolor": "white",
            "linecolor": "white",
            "ticks": ""
           },
           "baxis": {
            "gridcolor": "white",
            "linecolor": "white",
            "ticks": ""
           },
           "bgcolor": "#E5ECF6",
           "caxis": {
            "gridcolor": "white",
            "linecolor": "white",
            "ticks": ""
           }
          },
          "title": {
           "x": 0.05
          },
          "xaxis": {
           "automargin": true,
           "gridcolor": "white",
           "linecolor": "white",
           "ticks": "",
           "title": {
            "standoff": 15
           },
           "zerolinecolor": "white",
           "zerolinewidth": 2
          },
          "yaxis": {
           "automargin": true,
           "gridcolor": "white",
           "linecolor": "white",
           "ticks": "",
           "title": {
            "standoff": 15
           },
           "zerolinecolor": "white",
           "zerolinewidth": 2
          }
         }
        }
       }
      }
     },
     "metadata": {},
     "output_type": "display_data"
    }
   ],
   "source": [
    "# plot train and test and color test red\n",
    "fig = go.Figure()\n",
    "fig.add_trace(go.Scatter(x=df_train[\"date\"], y=df_train[\"sales\"], mode=\"lines\", name=\"Train\"))\n",
    "fig.add_trace(go.Scatter(x=df_test[\"date\"], y=df_test[\"sales\"], mode=\"lines\", name=\"Test\", line=dict(color=\"red\")))\n",
    "fig.show()"
   ]
  },
  {
   "cell_type": "code",
   "execution_count": 124,
   "metadata": {},
   "outputs": [],
   "source": [
    "import darts.models as dm\n",
    "from darts.metrics import mape, mse\n",
    "\n",
    "\n",
    "def train(model, train_series, test_series, params={}):\n",
    "    # model is str\n",
    "    if isinstance(model, str):\n",
    "        model = getattr(dm, model)(**params)\n",
    "    model.fit(train_series)\n",
    "    prediction = model.predict(len(test_series))\n",
    "    _mape = mape(test_series, prediction)\n",
    "    _mse = mse(test_series, prediction)\n",
    "    print(f\"Model: {model}\")\n",
    "    print(f\"MAPE: {_mape}\")\n",
    "    print(f\"MSE: {_mse}\")\n",
    "    return prediction.values().flatten()\n",
    "\n",
    "def train_rnn(train_series, test_series, params={}):\n",
    "    from darts.models import RNNModel\n",
    "    \n",
    "    model = RNNModel(**params, input_chunk_length=30, training_length=30)\n",
    "    model.fit(train_series)\n",
    "    prediction = model.predict(len(test_series))\n",
    "    # _mape = mape(test_series, prediction)\n",
    "    # _mse = mse(test_series, prediction)\n",
    "    # print(f\"Model: {model}\")\n",
    "    # print(f\"MAPE: {_mape}\")\n",
    "    # print(f\"MSE: {_mse}\")\n",
    "    \n",
    "    return prediction\n",
    "\n",
    "def train_transformer(train_series, test_series, params={}):\n",
    "    from darts.models import TiDEModel\n",
    "    \n",
    "    model = TiDEModel(**params, input_chunk_length=30, output_chunk_length=14)\n",
    "    model.fit(train_series)\n",
    "    prediction = model.predict(len(test_series))\n",
    "    # _mape = mape(test_series, prediction)\n",
    "    # _mse = mse(test_series, prediction)\n",
    "    # print(f\"Model: {model}\")\n",
    "    # print(f\"MAPE: {_mape}\")\n",
    "    # print(f\"MSE: {_mse}\")\n",
    "    \n",
    "    return prediction"
   ]
  },
  {
   "cell_type": "code",
   "execution_count": 126,
   "metadata": {},
   "outputs": [
    {
     "name": "stderr",
     "output_type": "stream",
     "text": [
      "GPU available: False, used: False\n",
      "TPU available: False, using: 0 TPU cores\n",
      "HPU available: False, using: 0 HPUs\n",
      "\n",
      "  | Name            | Type             | Params | Mode \n",
      "-------------------------------------------------------------\n",
      "0 | criterion       | MSELoss          | 0      | train\n",
      "1 | train_criterion | MSELoss          | 0      | train\n",
      "2 | val_criterion   | MSELoss          | 0      | train\n",
      "3 | train_metrics   | MetricCollection | 0      | train\n",
      "4 | val_metrics     | MetricCollection | 0      | train\n",
      "5 | rnn             | RNN              | 1.3 K  | train\n",
      "6 | V               | Linear           | 21     | train\n",
      "-------------------------------------------------------------\n",
      "1.3 K     Trainable params\n",
      "0         Non-trainable params\n",
      "1.3 K     Total params\n",
      "0.005     Total estimated model params size (MB)\n",
      "7         Modules in train mode\n",
      "0         Modules in eval mode\n"
     ]
    },
    {
     "name": "stdout",
     "output_type": "stream",
     "text": [
      "Epoch 0:   0%|          | 0/51 [00:00<?, ?it/s] "
     ]
    },
    {
     "name": "stdout",
     "output_type": "stream",
     "text": [
      "Epoch 29: 100%|██████████| 51/51 [00:00<00:00, 59.92it/s, train_loss=0.00348]"
     ]
    },
    {
     "name": "stderr",
     "output_type": "stream",
     "text": [
      "`Trainer.fit` stopped: `max_epochs=30` reached.\n"
     ]
    },
    {
     "name": "stdout",
     "output_type": "stream",
     "text": [
      "Epoch 29: 100%|██████████| 51/51 [00:00<00:00, 59.92it/s, train_loss=0.00348]\n"
     ]
    },
    {
     "name": "stderr",
     "output_type": "stream",
     "text": [
      "GPU available: False, used: False\n",
      "TPU available: False, using: 0 TPU cores\n",
      "HPU available: False, using: 0 HPUs\n"
     ]
    },
    {
     "name": "stdout",
     "output_type": "stream",
     "text": [
      "Predicting DataLoader 0: 100%|██████████| 1/1 [00:00<00:00, 56.51it/s]\n"
     ]
    },
    {
     "name": "stderr",
     "output_type": "stream",
     "text": [
      "GPU available: False, used: False\n",
      "TPU available: False, using: 0 TPU cores\n",
      "HPU available: False, using: 0 HPUs\n",
      "\n",
      "  | Name             | Type             | Params | Mode \n",
      "--------------------------------------------------------------\n",
      "0 | criterion        | MSELoss          | 0      | train\n",
      "1 | train_criterion  | MSELoss          | 0      | train\n",
      "2 | val_criterion    | MSELoss          | 0      | train\n",
      "3 | train_metrics    | MetricCollection | 0      | train\n",
      "4 | val_metrics      | MetricCollection | 0      | train\n",
      "5 | encoders         | Sequential       | 9.4 K  | train\n",
      "6 | decoders         | Sequential       | 22.2 K | train\n",
      "7 | temporal_decoder | _ResidualBlock   | 594    | train\n",
      "8 | lookback_skip    | Linear           | 434    | train\n",
      "--------------------------------------------------------------\n",
      "32.6 K    Trainable params\n",
      "0         Non-trainable params\n",
      "32.6 K    Total params\n",
      "0.130     Total estimated model params size (MB)\n",
      "57        Modules in train mode\n",
      "0         Modules in eval mode\n"
     ]
    },
    {
     "name": "stdout",
     "output_type": "stream",
     "text": [
      "Epoch 29: 100%|██████████| 50/50 [00:00<00:00, 58.74it/s, train_loss=0.00664]"
     ]
    },
    {
     "name": "stderr",
     "output_type": "stream",
     "text": [
      "`Trainer.fit` stopped: `max_epochs=30` reached.\n"
     ]
    },
    {
     "name": "stdout",
     "output_type": "stream",
     "text": [
      "Epoch 29: 100%|██████████| 50/50 [00:00<00:00, 58.71it/s, train_loss=0.00664]\n"
     ]
    },
    {
     "name": "stderr",
     "output_type": "stream",
     "text": [
      "GPU available: False, used: False\n",
      "TPU available: False, using: 0 TPU cores\n",
      "HPU available: False, using: 0 HPUs\n"
     ]
    },
    {
     "name": "stdout",
     "output_type": "stream",
     "text": [
      "Predicting DataLoader 0: 100%|██████████| 1/1 [00:00<00:00, 116.31it/s]\n"
     ]
    },
    {
     "name": "stderr",
     "output_type": "stream",
     "text": [
      "c:\\Storage\\Workspace\\Python\\Master\\summerschool24\\.venv\\Lib\\site-packages\\plotly\\graph_objs\\_deprecations.py:378: DeprecationWarning:\n",
      "\n",
      "plotly.graph_objs.Line is deprecated.\n",
      "Please replace it with one of the following more specific types\n",
      "  - plotly.graph_objs.scatter.Line\n",
      "  - plotly.graph_objs.layout.shape.Line\n",
      "  - etc.\n",
      "\n",
      "\n",
      "c:\\Storage\\Workspace\\Python\\Master\\summerschool24\\.venv\\Lib\\site-packages\\plotly\\graph_objs\\_deprecations.py:378: DeprecationWarning:\n",
      "\n",
      "plotly.graph_objs.Line is deprecated.\n",
      "Please replace it with one of the following more specific types\n",
      "  - plotly.graph_objs.scatter.Line\n",
      "  - plotly.graph_objs.layout.shape.Line\n",
      "  - etc.\n",
      "\n",
      "\n",
      "c:\\Storage\\Workspace\\Python\\Master\\summerschool24\\.venv\\Lib\\site-packages\\plotly\\graph_objs\\_deprecations.py:378: DeprecationWarning:\n",
      "\n",
      "plotly.graph_objs.Line is deprecated.\n",
      "Please replace it with one of the following more specific types\n",
      "  - plotly.graph_objs.scatter.Line\n",
      "  - plotly.graph_objs.layout.shape.Line\n",
      "  - etc.\n",
      "\n",
      "\n"
     ]
    },
    {
     "data": {
      "application/vnd.plotly.v1+json": {
       "config": {
        "plotlyServerURL": "https://plot.ly"
       },
       "data": [
        {
         "mode": "lines",
         "name": "Train",
         "type": "scatter",
         "x": [
          "2017-05-03T00:00:00",
          "2017-05-04T00:00:00",
          "2017-05-05T00:00:00",
          "2017-05-06T00:00:00",
          "2017-05-07T00:00:00",
          "2017-05-08T00:00:00",
          "2017-05-09T00:00:00",
          "2017-05-10T00:00:00",
          "2017-05-11T00:00:00",
          "2017-05-12T00:00:00",
          "2017-05-13T00:00:00",
          "2017-05-14T00:00:00",
          "2017-05-15T00:00:00",
          "2017-05-16T00:00:00",
          "2017-05-17T00:00:00",
          "2017-05-18T00:00:00",
          "2017-05-19T00:00:00",
          "2017-05-20T00:00:00",
          "2017-05-21T00:00:00",
          "2017-05-22T00:00:00",
          "2017-05-23T00:00:00",
          "2017-05-24T00:00:00",
          "2017-05-25T00:00:00",
          "2017-05-26T00:00:00",
          "2017-05-27T00:00:00",
          "2017-05-28T00:00:00",
          "2017-05-29T00:00:00",
          "2017-05-30T00:00:00",
          "2017-05-31T00:00:00",
          "2017-06-01T00:00:00",
          "2017-06-02T00:00:00",
          "2017-06-03T00:00:00",
          "2017-06-04T00:00:00",
          "2017-06-05T00:00:00",
          "2017-06-06T00:00:00",
          "2017-06-07T00:00:00",
          "2017-06-08T00:00:00",
          "2017-06-09T00:00:00",
          "2017-06-10T00:00:00",
          "2017-06-11T00:00:00",
          "2017-06-12T00:00:00",
          "2017-06-13T00:00:00",
          "2017-06-14T00:00:00",
          "2017-06-15T00:00:00",
          "2017-06-16T00:00:00",
          "2017-06-17T00:00:00",
          "2017-06-18T00:00:00",
          "2017-06-19T00:00:00",
          "2017-06-20T00:00:00",
          "2017-06-21T00:00:00",
          "2017-06-22T00:00:00",
          "2017-06-23T00:00:00",
          "2017-06-24T00:00:00",
          "2017-06-25T00:00:00",
          "2017-06-26T00:00:00",
          "2017-06-27T00:00:00",
          "2017-06-28T00:00:00",
          "2017-06-29T00:00:00",
          "2017-06-30T00:00:00",
          "2017-07-01T00:00:00"
         ],
         "y": [
          336.011,
          271.839,
          430.02,
          609.798,
          509.373,
          344.355,
          260.498,
          351.589,
          322.183,
          438.726,
          586.273,
          467.368,
          275.871,
          251.977,
          359.714,
          292.224,
          357.22,
          550.41,
          545.135,
          321.302,
          277.421,
          293.913,
          308.292,
          619.30597,
          450.944,
          387.769,
          253.962,
          263.586,
          277.715,
          293.438,
          498.25,
          547.917,
          569.902,
          363.898,
          285.227,
          390.258,
          274.872,
          392.726,
          525.739,
          447.592,
          308.968,
          343.115,
          427.415,
          365.782,
          493.214,
          583.856,
          429.387,
          272.064,
          284.695,
          384.697,
          275.226,
          425.346,
          465.152,
          456.423,
          248.329,
          238.647,
          322.102,
          244.094,
          438.882,
          582.435
         ]
        },
        {
         "line": {
          "color": "red"
         },
         "mode": "lines",
         "name": "Test",
         "type": "scatter",
         "x": [
          "2017-07-02T00:00:00",
          "2017-07-03T00:00:00",
          "2017-07-04T00:00:00",
          "2017-07-05T00:00:00",
          "2017-07-06T00:00:00",
          "2017-07-07T00:00:00",
          "2017-07-08T00:00:00",
          "2017-07-09T00:00:00",
          "2017-07-10T00:00:00",
          "2017-07-11T00:00:00",
          "2017-07-12T00:00:00",
          "2017-07-13T00:00:00",
          "2017-07-14T00:00:00",
          "2017-07-15T00:00:00",
          "2017-07-16T00:00:00",
          "2017-07-17T00:00:00",
          "2017-07-18T00:00:00",
          "2017-07-19T00:00:00",
          "2017-07-20T00:00:00",
          "2017-07-21T00:00:00",
          "2017-07-22T00:00:00",
          "2017-07-23T00:00:00",
          "2017-07-24T00:00:00",
          "2017-07-25T00:00:00",
          "2017-07-26T00:00:00",
          "2017-07-27T00:00:00",
          "2017-07-28T00:00:00",
          "2017-07-29T00:00:00",
          "2017-07-30T00:00:00",
          "2017-07-31T00:00:00",
          "2017-08-01T00:00:00",
          "2017-08-02T00:00:00",
          "2017-08-03T00:00:00",
          "2017-08-04T00:00:00",
          "2017-08-05T00:00:00",
          "2017-08-06T00:00:00",
          "2017-08-07T00:00:00",
          "2017-08-08T00:00:00",
          "2017-08-09T00:00:00",
          "2017-08-10T00:00:00",
          "2017-08-11T00:00:00",
          "2017-08-12T00:00:00",
          "2017-08-13T00:00:00",
          "2017-08-14T00:00:00",
          "2017-08-15T00:00:00"
         ],
         "y": [
          554.888,
          396.474,
          351.287,
          376.35,
          306.326,
          371.493,
          516.676,
          509.053,
          350.093,
          340.268,
          397.256,
          139.657,
          402.424,
          494.828,
          502.308,
          260.017,
          265.216,
          340.293,
          328.425,
          408.418,
          516.485,
          435.045,
          305.066,
          273.492,
          335.565,
          278.977,
          409.887,
          535.112,
          438.421,
          353.889,
          308.566,
          349.13,
          335.689,
          408.9,
          477.745,
          427.3,
          300.68,
          291.103,
          244.759,
          265.568,
          432.863,
          354.405,
          361.183,
          317.63,
          273.655
         ]
        },
        {
         "line": {
          "color": "purple"
         },
         "mode": "lines",
         "name": "RNN",
         "type": "scatter",
         "x": [
          "2017-07-02T00:00:00",
          "2017-07-03T00:00:00",
          "2017-07-04T00:00:00",
          "2017-07-05T00:00:00",
          "2017-07-06T00:00:00",
          "2017-07-07T00:00:00",
          "2017-07-08T00:00:00",
          "2017-07-09T00:00:00",
          "2017-07-10T00:00:00",
          "2017-07-11T00:00:00",
          "2017-07-12T00:00:00",
          "2017-07-13T00:00:00",
          "2017-07-14T00:00:00",
          "2017-07-15T00:00:00",
          "2017-07-16T00:00:00",
          "2017-07-17T00:00:00",
          "2017-07-18T00:00:00",
          "2017-07-19T00:00:00",
          "2017-07-20T00:00:00",
          "2017-07-21T00:00:00",
          "2017-07-22T00:00:00",
          "2017-07-23T00:00:00",
          "2017-07-24T00:00:00",
          "2017-07-25T00:00:00",
          "2017-07-26T00:00:00",
          "2017-07-27T00:00:00",
          "2017-07-28T00:00:00",
          "2017-07-29T00:00:00",
          "2017-07-30T00:00:00",
          "2017-07-31T00:00:00",
          "2017-08-01T00:00:00",
          "2017-08-02T00:00:00",
          "2017-08-03T00:00:00",
          "2017-08-04T00:00:00",
          "2017-08-05T00:00:00",
          "2017-08-06T00:00:00",
          "2017-08-07T00:00:00",
          "2017-08-08T00:00:00",
          "2017-08-09T00:00:00",
          "2017-08-10T00:00:00",
          "2017-08-11T00:00:00",
          "2017-08-12T00:00:00",
          "2017-08-13T00:00:00",
          "2017-08-14T00:00:00",
          "2017-08-15T00:00:00"
         ],
         "y": [
          468.67418933487033,
          308.4109753715074,
          309.6585065890973,
          322.72538399231917,
          255.2907325074451,
          411.21188753138324,
          506.0590157785498,
          481.76743091423083,
          319.9637715226568,
          306.7101409426948,
          315.7431624960395,
          259.73578195983515,
          406.88589359402806,
          496.8429041717187,
          484.12191057039985,
          322.2262636506689,
          297.15770321096664,
          304.4879578833055,
          255.04173845559075,
          384.84799376355403,
          482.16635444220526,
          488.1735426488833,
          321.75697940735273,
          287.2261650855102,
          298.93470828470714,
          248.5061533025788,
          360.6890294204197,
          466.9889006820432,
          490.6918573903834,
          323.3482334913718,
          278.03001194349383,
          295.25739478719055,
          243.49989035796136,
          338.1412126455189,
          453.2817018138962,
          491.0248337991705,
          328.1962808959582,
          271.39892000250205,
          292.02603129182774,
          240.96466668033946,
          317.8776543470604,
          440.7434710412944,
          488.7475259006911,
          336.42297403034854,
          267.5411819960435
         ]
        },
        {
         "line": {
          "color": "orange"
         },
         "mode": "lines",
         "name": "Transformer",
         "type": "scatter",
         "x": [
          "2017-07-02T00:00:00",
          "2017-07-03T00:00:00",
          "2017-07-04T00:00:00",
          "2017-07-05T00:00:00",
          "2017-07-06T00:00:00",
          "2017-07-07T00:00:00",
          "2017-07-08T00:00:00",
          "2017-07-09T00:00:00",
          "2017-07-10T00:00:00",
          "2017-07-11T00:00:00",
          "2017-07-12T00:00:00",
          "2017-07-13T00:00:00",
          "2017-07-14T00:00:00",
          "2017-07-15T00:00:00",
          "2017-07-16T00:00:00",
          "2017-07-17T00:00:00",
          "2017-07-18T00:00:00",
          "2017-07-19T00:00:00",
          "2017-07-20T00:00:00",
          "2017-07-21T00:00:00",
          "2017-07-22T00:00:00",
          "2017-07-23T00:00:00",
          "2017-07-24T00:00:00",
          "2017-07-25T00:00:00",
          "2017-07-26T00:00:00",
          "2017-07-27T00:00:00",
          "2017-07-28T00:00:00",
          "2017-07-29T00:00:00",
          "2017-07-30T00:00:00",
          "2017-07-31T00:00:00",
          "2017-08-01T00:00:00",
          "2017-08-02T00:00:00",
          "2017-08-03T00:00:00",
          "2017-08-04T00:00:00",
          "2017-08-05T00:00:00",
          "2017-08-06T00:00:00",
          "2017-08-07T00:00:00",
          "2017-08-08T00:00:00",
          "2017-08-09T00:00:00",
          "2017-08-10T00:00:00",
          "2017-08-11T00:00:00",
          "2017-08-12T00:00:00",
          "2017-08-13T00:00:00",
          "2017-08-14T00:00:00",
          "2017-08-15T00:00:00"
         ],
         "y": [
          460.27892280695016,
          266.1492440425681,
          272.78556805099333,
          327.4930750329027,
          352.73951546150516,
          420.8979503026813,
          457.1955022152008,
          372.1278047716405,
          391.5147710588142,
          350.53558126230325,
          318.6156983425342,
          318.1238656047844,
          476.2037650514165,
          421.978130256231,
          422.6178983441565,
          328.5853358754961,
          304.56718421006747,
          332.82699350232195,
          364.26757955603614,
          392.3326911377295,
          512.8106099208533,
          421.59586986632996,
          356.3558009333209,
          340.4531040593545,
          340.5254587115344,
          369.7125862078458,
          469.07319251327567,
          406.51614501051034,
          414.7069525472088,
          340.5599369712406,
          352.5344541061052,
          386.82859400384586,
          379.8764725668238,
          454.6242190343023,
          437.01798085963435,
          420.23412860516703,
          426.1351517086081,
          361.81201191158186,
          349.0640266910395,
          384.8009494642127,
          409.72084446309015,
          473.69504842940177,
          463.65311236351306,
          387.0122980921729,
          384.2562543772535
         ]
        }
       ],
       "layout": {
        "template": {
         "data": {
          "bar": [
           {
            "error_x": {
             "color": "#2a3f5f"
            },
            "error_y": {
             "color": "#2a3f5f"
            },
            "marker": {
             "line": {
              "color": "#E5ECF6",
              "width": 0.5
             },
             "pattern": {
              "fillmode": "overlay",
              "size": 10,
              "solidity": 0.2
             }
            },
            "type": "bar"
           }
          ],
          "barpolar": [
           {
            "marker": {
             "line": {
              "color": "#E5ECF6",
              "width": 0.5
             },
             "pattern": {
              "fillmode": "overlay",
              "size": 10,
              "solidity": 0.2
             }
            },
            "type": "barpolar"
           }
          ],
          "carpet": [
           {
            "aaxis": {
             "endlinecolor": "#2a3f5f",
             "gridcolor": "white",
             "linecolor": "white",
             "minorgridcolor": "white",
             "startlinecolor": "#2a3f5f"
            },
            "baxis": {
             "endlinecolor": "#2a3f5f",
             "gridcolor": "white",
             "linecolor": "white",
             "minorgridcolor": "white",
             "startlinecolor": "#2a3f5f"
            },
            "type": "carpet"
           }
          ],
          "choropleth": [
           {
            "colorbar": {
             "outlinewidth": 0,
             "ticks": ""
            },
            "type": "choropleth"
           }
          ],
          "contour": [
           {
            "colorbar": {
             "outlinewidth": 0,
             "ticks": ""
            },
            "colorscale": [
             [
              0,
              "#0d0887"
             ],
             [
              0.1111111111111111,
              "#46039f"
             ],
             [
              0.2222222222222222,
              "#7201a8"
             ],
             [
              0.3333333333333333,
              "#9c179e"
             ],
             [
              0.4444444444444444,
              "#bd3786"
             ],
             [
              0.5555555555555556,
              "#d8576b"
             ],
             [
              0.6666666666666666,
              "#ed7953"
             ],
             [
              0.7777777777777778,
              "#fb9f3a"
             ],
             [
              0.8888888888888888,
              "#fdca26"
             ],
             [
              1,
              "#f0f921"
             ]
            ],
            "type": "contour"
           }
          ],
          "contourcarpet": [
           {
            "colorbar": {
             "outlinewidth": 0,
             "ticks": ""
            },
            "type": "contourcarpet"
           }
          ],
          "heatmap": [
           {
            "colorbar": {
             "outlinewidth": 0,
             "ticks": ""
            },
            "colorscale": [
             [
              0,
              "#0d0887"
             ],
             [
              0.1111111111111111,
              "#46039f"
             ],
             [
              0.2222222222222222,
              "#7201a8"
             ],
             [
              0.3333333333333333,
              "#9c179e"
             ],
             [
              0.4444444444444444,
              "#bd3786"
             ],
             [
              0.5555555555555556,
              "#d8576b"
             ],
             [
              0.6666666666666666,
              "#ed7953"
             ],
             [
              0.7777777777777778,
              "#fb9f3a"
             ],
             [
              0.8888888888888888,
              "#fdca26"
             ],
             [
              1,
              "#f0f921"
             ]
            ],
            "type": "heatmap"
           }
          ],
          "heatmapgl": [
           {
            "colorbar": {
             "outlinewidth": 0,
             "ticks": ""
            },
            "colorscale": [
             [
              0,
              "#0d0887"
             ],
             [
              0.1111111111111111,
              "#46039f"
             ],
             [
              0.2222222222222222,
              "#7201a8"
             ],
             [
              0.3333333333333333,
              "#9c179e"
             ],
             [
              0.4444444444444444,
              "#bd3786"
             ],
             [
              0.5555555555555556,
              "#d8576b"
             ],
             [
              0.6666666666666666,
              "#ed7953"
             ],
             [
              0.7777777777777778,
              "#fb9f3a"
             ],
             [
              0.8888888888888888,
              "#fdca26"
             ],
             [
              1,
              "#f0f921"
             ]
            ],
            "type": "heatmapgl"
           }
          ],
          "histogram": [
           {
            "marker": {
             "pattern": {
              "fillmode": "overlay",
              "size": 10,
              "solidity": 0.2
             }
            },
            "type": "histogram"
           }
          ],
          "histogram2d": [
           {
            "colorbar": {
             "outlinewidth": 0,
             "ticks": ""
            },
            "colorscale": [
             [
              0,
              "#0d0887"
             ],
             [
              0.1111111111111111,
              "#46039f"
             ],
             [
              0.2222222222222222,
              "#7201a8"
             ],
             [
              0.3333333333333333,
              "#9c179e"
             ],
             [
              0.4444444444444444,
              "#bd3786"
             ],
             [
              0.5555555555555556,
              "#d8576b"
             ],
             [
              0.6666666666666666,
              "#ed7953"
             ],
             [
              0.7777777777777778,
              "#fb9f3a"
             ],
             [
              0.8888888888888888,
              "#fdca26"
             ],
             [
              1,
              "#f0f921"
             ]
            ],
            "type": "histogram2d"
           }
          ],
          "histogram2dcontour": [
           {
            "colorbar": {
             "outlinewidth": 0,
             "ticks": ""
            },
            "colorscale": [
             [
              0,
              "#0d0887"
             ],
             [
              0.1111111111111111,
              "#46039f"
             ],
             [
              0.2222222222222222,
              "#7201a8"
             ],
             [
              0.3333333333333333,
              "#9c179e"
             ],
             [
              0.4444444444444444,
              "#bd3786"
             ],
             [
              0.5555555555555556,
              "#d8576b"
             ],
             [
              0.6666666666666666,
              "#ed7953"
             ],
             [
              0.7777777777777778,
              "#fb9f3a"
             ],
             [
              0.8888888888888888,
              "#fdca26"
             ],
             [
              1,
              "#f0f921"
             ]
            ],
            "type": "histogram2dcontour"
           }
          ],
          "mesh3d": [
           {
            "colorbar": {
             "outlinewidth": 0,
             "ticks": ""
            },
            "type": "mesh3d"
           }
          ],
          "parcoords": [
           {
            "line": {
             "colorbar": {
              "outlinewidth": 0,
              "ticks": ""
             }
            },
            "type": "parcoords"
           }
          ],
          "pie": [
           {
            "automargin": true,
            "type": "pie"
           }
          ],
          "scatter": [
           {
            "fillpattern": {
             "fillmode": "overlay",
             "size": 10,
             "solidity": 0.2
            },
            "type": "scatter"
           }
          ],
          "scatter3d": [
           {
            "line": {
             "colorbar": {
              "outlinewidth": 0,
              "ticks": ""
             }
            },
            "marker": {
             "colorbar": {
              "outlinewidth": 0,
              "ticks": ""
             }
            },
            "type": "scatter3d"
           }
          ],
          "scattercarpet": [
           {
            "marker": {
             "colorbar": {
              "outlinewidth": 0,
              "ticks": ""
             }
            },
            "type": "scattercarpet"
           }
          ],
          "scattergeo": [
           {
            "marker": {
             "colorbar": {
              "outlinewidth": 0,
              "ticks": ""
             }
            },
            "type": "scattergeo"
           }
          ],
          "scattergl": [
           {
            "marker": {
             "colorbar": {
              "outlinewidth": 0,
              "ticks": ""
             }
            },
            "type": "scattergl"
           }
          ],
          "scattermapbox": [
           {
            "marker": {
             "colorbar": {
              "outlinewidth": 0,
              "ticks": ""
             }
            },
            "type": "scattermapbox"
           }
          ],
          "scatterpolar": [
           {
            "marker": {
             "colorbar": {
              "outlinewidth": 0,
              "ticks": ""
             }
            },
            "type": "scatterpolar"
           }
          ],
          "scatterpolargl": [
           {
            "marker": {
             "colorbar": {
              "outlinewidth": 0,
              "ticks": ""
             }
            },
            "type": "scatterpolargl"
           }
          ],
          "scatterternary": [
           {
            "marker": {
             "colorbar": {
              "outlinewidth": 0,
              "ticks": ""
             }
            },
            "type": "scatterternary"
           }
          ],
          "surface": [
           {
            "colorbar": {
             "outlinewidth": 0,
             "ticks": ""
            },
            "colorscale": [
             [
              0,
              "#0d0887"
             ],
             [
              0.1111111111111111,
              "#46039f"
             ],
             [
              0.2222222222222222,
              "#7201a8"
             ],
             [
              0.3333333333333333,
              "#9c179e"
             ],
             [
              0.4444444444444444,
              "#bd3786"
             ],
             [
              0.5555555555555556,
              "#d8576b"
             ],
             [
              0.6666666666666666,
              "#ed7953"
             ],
             [
              0.7777777777777778,
              "#fb9f3a"
             ],
             [
              0.8888888888888888,
              "#fdca26"
             ],
             [
              1,
              "#f0f921"
             ]
            ],
            "type": "surface"
           }
          ],
          "table": [
           {
            "cells": {
             "fill": {
              "color": "#EBF0F8"
             },
             "line": {
              "color": "white"
             }
            },
            "header": {
             "fill": {
              "color": "#C8D4E3"
             },
             "line": {
              "color": "white"
             }
            },
            "type": "table"
           }
          ]
         },
         "layout": {
          "annotationdefaults": {
           "arrowcolor": "#2a3f5f",
           "arrowhead": 0,
           "arrowwidth": 1
          },
          "autotypenumbers": "strict",
          "coloraxis": {
           "colorbar": {
            "outlinewidth": 0,
            "ticks": ""
           }
          },
          "colorscale": {
           "diverging": [
            [
             0,
             "#8e0152"
            ],
            [
             0.1,
             "#c51b7d"
            ],
            [
             0.2,
             "#de77ae"
            ],
            [
             0.3,
             "#f1b6da"
            ],
            [
             0.4,
             "#fde0ef"
            ],
            [
             0.5,
             "#f7f7f7"
            ],
            [
             0.6,
             "#e6f5d0"
            ],
            [
             0.7,
             "#b8e186"
            ],
            [
             0.8,
             "#7fbc41"
            ],
            [
             0.9,
             "#4d9221"
            ],
            [
             1,
             "#276419"
            ]
           ],
           "sequential": [
            [
             0,
             "#0d0887"
            ],
            [
             0.1111111111111111,
             "#46039f"
            ],
            [
             0.2222222222222222,
             "#7201a8"
            ],
            [
             0.3333333333333333,
             "#9c179e"
            ],
            [
             0.4444444444444444,
             "#bd3786"
            ],
            [
             0.5555555555555556,
             "#d8576b"
            ],
            [
             0.6666666666666666,
             "#ed7953"
            ],
            [
             0.7777777777777778,
             "#fb9f3a"
            ],
            [
             0.8888888888888888,
             "#fdca26"
            ],
            [
             1,
             "#f0f921"
            ]
           ],
           "sequentialminus": [
            [
             0,
             "#0d0887"
            ],
            [
             0.1111111111111111,
             "#46039f"
            ],
            [
             0.2222222222222222,
             "#7201a8"
            ],
            [
             0.3333333333333333,
             "#9c179e"
            ],
            [
             0.4444444444444444,
             "#bd3786"
            ],
            [
             0.5555555555555556,
             "#d8576b"
            ],
            [
             0.6666666666666666,
             "#ed7953"
            ],
            [
             0.7777777777777778,
             "#fb9f3a"
            ],
            [
             0.8888888888888888,
             "#fdca26"
            ],
            [
             1,
             "#f0f921"
            ]
           ]
          },
          "colorway": [
           "#636efa",
           "#EF553B",
           "#00cc96",
           "#ab63fa",
           "#FFA15A",
           "#19d3f3",
           "#FF6692",
           "#B6E880",
           "#FF97FF",
           "#FECB52"
          ],
          "font": {
           "color": "#2a3f5f"
          },
          "geo": {
           "bgcolor": "white",
           "lakecolor": "white",
           "landcolor": "#E5ECF6",
           "showlakes": true,
           "showland": true,
           "subunitcolor": "white"
          },
          "hoverlabel": {
           "align": "left"
          },
          "hovermode": "closest",
          "mapbox": {
           "style": "light"
          },
          "paper_bgcolor": "white",
          "plot_bgcolor": "#E5ECF6",
          "polar": {
           "angularaxis": {
            "gridcolor": "white",
            "linecolor": "white",
            "ticks": ""
           },
           "bgcolor": "#E5ECF6",
           "radialaxis": {
            "gridcolor": "white",
            "linecolor": "white",
            "ticks": ""
           }
          },
          "scene": {
           "xaxis": {
            "backgroundcolor": "#E5ECF6",
            "gridcolor": "white",
            "gridwidth": 2,
            "linecolor": "white",
            "showbackground": true,
            "ticks": "",
            "zerolinecolor": "white"
           },
           "yaxis": {
            "backgroundcolor": "#E5ECF6",
            "gridcolor": "white",
            "gridwidth": 2,
            "linecolor": "white",
            "showbackground": true,
            "ticks": "",
            "zerolinecolor": "white"
           },
           "zaxis": {
            "backgroundcolor": "#E5ECF6",
            "gridcolor": "white",
            "gridwidth": 2,
            "linecolor": "white",
            "showbackground": true,
            "ticks": "",
            "zerolinecolor": "white"
           }
          },
          "shapedefaults": {
           "line": {
            "color": "#2a3f5f"
           }
          },
          "ternary": {
           "aaxis": {
            "gridcolor": "white",
            "linecolor": "white",
            "ticks": ""
           },
           "baxis": {
            "gridcolor": "white",
            "linecolor": "white",
            "ticks": ""
           },
           "bgcolor": "#E5ECF6",
           "caxis": {
            "gridcolor": "white",
            "linecolor": "white",
            "ticks": ""
           }
          },
          "title": {
           "x": 0.05
          },
          "xaxis": {
           "automargin": true,
           "gridcolor": "white",
           "linecolor": "white",
           "ticks": "",
           "title": {
            "standoff": 15
           },
           "zerolinecolor": "white",
           "zerolinewidth": 2
          },
          "yaxis": {
           "automargin": true,
           "gridcolor": "white",
           "linecolor": "white",
           "ticks": "",
           "title": {
            "standoff": 15
           },
           "zerolinecolor": "white",
           "zerolinewidth": 2
          }
         }
        }
       }
      }
     },
     "metadata": {},
     "output_type": "display_data"
    }
   ],
   "source": [
    "from darts import TimeSeries\n",
    "from darts.dataprocessing.transformers import Scaler\n",
    "\n",
    "train_series = TimeSeries.from_dataframe(\n",
    "    df_train, time_col=None, value_cols=\"sales\", freq=\"D\"\n",
    ")\n",
    "test_series = TimeSeries.from_dataframe(\n",
    "    df_test, time_col=None, value_cols=\"sales\", freq=\"D\"\n",
    ")\n",
    "\n",
    "scaler = Scaler()\n",
    "train_series = scaler.fit_transform(train_series)\n",
    "test_series = scaler.transform(test_series)\n",
    "\n",
    "# predictions_arima = train(\"ARIMA\", train_series, test_series)\n",
    "# predictions_random_forest = train(\n",
    "#     \"RandomForest\", train_series, test_series, params={\"lags\": 7, \"n_estimators\": 100}\n",
    "# )\n",
    "predictions_rnn = train_rnn(\n",
    "    train_series,\n",
    "    test_series,\n",
    "    params={\n",
    "        \"n_epochs\": 30,\n",
    "        \"hidden_dim\": 20,\n",
    "        \"n_rnn_layers\": 2,\n",
    "        \"dropout\": 0.1,\n",
    "        \"optimizer_kwargs\": {\"lr\": 3e-3},\n",
    "    },\n",
    ")\n",
    "\n",
    "\n",
    "predictions_transformer = train_transformer(\n",
    "    train_series,\n",
    "    test_series,\n",
    "    params={\n",
    "        \"n_epochs\": 30,\n",
    "        \"num_encoder_layers\": 3,\n",
    "        \"num_decoder_layers\": 3,\n",
    "        \"hidden_size\": 32,\n",
    "        \"optimizer_kwargs\": {\"lr\": 1e-4},\n",
    "    },\n",
    ")\n",
    "\n",
    "\n",
    "fig = go.Figure()\n",
    "train_y = train_series.pd_series()\n",
    "fig.add_trace(\n",
    "    go.Line(\n",
    "        x=df_train[\"date\"][-60:], y=df_train[\"sales\"][-60:], mode=\"lines\", name=\"Train\"\n",
    "    )\n",
    ")\n",
    "fig.add_trace(\n",
    "    go.Line(\n",
    "        x=df_test[\"date\"],\n",
    "        y=df_test[\"sales\"],\n",
    "        mode=\"lines\",\n",
    "        name=\"Test\",\n",
    "        line=dict(color=\"red\"),\n",
    "    )\n",
    ")\n",
    "# fig.add_trace(\n",
    "#     go.Line(\n",
    "#         x=df_test[\"date\"],\n",
    "#         y=predictions_arima,\n",
    "#         mode=\"lines\",\n",
    "#         name=\"ARIMA\",\n",
    "#         line=dict(color=\"green\"),\n",
    "#     )\n",
    "# )\n",
    "# fig.add_trace(\n",
    "#     go.Line(\n",
    "#         x=df_test[\"date\"],\n",
    "#         y=predictions_random_forest,\n",
    "#         mode=\"lines\",\n",
    "#         name=\"Random Forest\",\n",
    "#         line=dict(color=\"blue\"),\n",
    "#     )\n",
    "# )\n",
    "\n",
    "fig.add_trace(\n",
    "    go.Line(\n",
    "        x=df_test[\"date\"],\n",
    "        y=scaler.inverse_transform(predictions_rnn).values().flatten(),\n",
    "        mode=\"lines\",\n",
    "        name=\"RNN\",\n",
    "        line=dict(color=\"purple\"),\n",
    "    )\n",
    ")\n",
    "\n",
    "fig.add_trace(\n",
    "    go.Line(\n",
    "        x=df_test[\"date\"],\n",
    "        y=scaler.inverse_transform(predictions_transformer).values().flatten(),\n",
    "        mode=\"lines\",\n",
    "        name=\"Transformer\",\n",
    "        line=dict(color=\"orange\"),\n",
    "    )\n",
    ")\n",
    "\n",
    "\n",
    "fig.show()"
   ]
  },
  {
   "cell_type": "code",
   "execution_count": null,
   "metadata": {},
   "outputs": [],
   "source": []
  }
 ],
 "metadata": {
  "kernelspec": {
   "display_name": ".venv",
   "language": "python",
   "name": "python3"
  },
  "language_info": {
   "codemirror_mode": {
    "name": "ipython",
    "version": 3
   },
   "file_extension": ".py",
   "mimetype": "text/x-python",
   "name": "python",
   "nbconvert_exporter": "python",
   "pygments_lexer": "ipython3",
   "version": "3.11.6"
  },
  "orig_nbformat": 4
 },
 "nbformat": 4,
 "nbformat_minor": 2
}
